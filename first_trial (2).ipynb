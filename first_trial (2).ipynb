{
  "nbformat": 4,
  "nbformat_minor": 0,
  "metadata": {
    "colab": {
      "name": "first_trial.ipynb",
      "provenance": []
    },
    "kernelspec": {
      "display_name": "Python 3",
      "name": "python3"
    }
  },
  "cells": [
    {
      "cell_type": "code",
      "metadata": {
        "colab": {
          "base_uri": "https://localhost:8080/"
        },
        "id": "mBO6n4b5OQyZ",
        "outputId": "f42a55b5-420e-4fd8-d6ad-a2e7b0c88315"
      },
      "source": [
        "!nvidia-smi"
      ],
      "execution_count": 1,
      "outputs": [
        {
          "output_type": "stream",
          "text": [
            "NVIDIA-SMI has failed because it couldn't communicate with the NVIDIA driver. Make sure that the latest NVIDIA driver is installed and running.\n",
            "\n"
          ],
          "name": "stdout"
        }
      ]
    },
    {
      "cell_type": "code",
      "metadata": {
        "colab": {
          "base_uri": "https://localhost:8080/"
        },
        "id": "AEjnyk0spGnV",
        "outputId": "92beccc1-2752-4d61-8bab-09533e774025"
      },
      "source": [
        "import tensorflow as tf\n",
        "tf.test.is_gpu_available()"
      ],
      "execution_count": 2,
      "outputs": [
        {
          "output_type": "stream",
          "text": [
            "WARNING:tensorflow:From <ipython-input-2-4a3f57d5652e>:2: is_gpu_available (from tensorflow.python.framework.test_util) is deprecated and will be removed in a future version.\n",
            "Instructions for updating:\n",
            "Use `tf.config.list_physical_devices('GPU')` instead.\n"
          ],
          "name": "stdout"
        },
        {
          "output_type": "execute_result",
          "data": {
            "text/plain": [
              "False"
            ]
          },
          "metadata": {
            "tags": []
          },
          "execution_count": 2
        }
      ]
    },
    {
      "cell_type": "code",
      "metadata": {
        "colab": {
          "base_uri": "https://localhost:8080/"
        },
        "id": "KDJJ0khsOYPQ",
        "outputId": "3a553946-96d6-42e6-aaf3-ba9fd0ef73f2"
      },
      "source": [
        "from google.colab import drive\n",
        "drive.mount('/content/drive')"
      ],
      "execution_count": 3,
      "outputs": [
        {
          "output_type": "stream",
          "text": [
            "Mounted at /content/drive\n"
          ],
          "name": "stdout"
        }
      ]
    },
    {
      "cell_type": "code",
      "metadata": {
        "id": "V__28_rIPGnU"
      },
      "source": [
        "\n",
        "#libararies\n",
        "import pandas as pd\n"
      ],
      "execution_count": 4,
      "outputs": []
    },
    {
      "cell_type": "code",
      "metadata": {
        "id": "EQ95dfyUPGpu",
        "colab": {
          "base_uri": "https://localhost:8080/"
        },
        "outputId": "10bb03de-269f-4c83-8c4f-a9563431c7d9"
      },
      "source": [
        "drive.mount('/content/gdrive')\n",
        "path='/content/gdrive/My Drive/GP | Smart Meter | CIC/Datasets/Smart meters in London'"
      ],
      "execution_count": 5,
      "outputs": [
        {
          "output_type": "stream",
          "text": [
            "Mounted at /content/gdrive\n"
          ],
          "name": "stdout"
        }
      ]
    },
    {
      "cell_type": "code",
      "metadata": {
        "id": "iJf3ryU2PGzO"
      },
      "source": [
        "for num in range(0,112):\n",
        "  df = pd.read_csv(path + \"/daily_dataset/daily_dataset/block_\" + str(num) + \".csv\")\n",
        "  df = df[['day','LCLid','energy_sum']]\n",
        "  df.reset_index()\n",
        "  df.to_csv(\"hc_\"+str(num)+\".csv\")\n",
        "\n",
        "fout= open(\"energy.csv\",\"a\")\n",
        "# first file:\n",
        "for line in open(\"hc_0.csv\"):\n",
        "  fout.write(line)\n",
        "# now the rest:    \n",
        "for num in range(0,112):\n",
        "  f = open(\"hc_\"+str(num)+\".csv\")\n",
        "  f.readline() # skip the header\n",
        "  for line in f:\n",
        "      fout.write(line)\n",
        "  f.close()\n",
        "fout.close()"
      ],
      "execution_count": 6,
      "outputs": []
    },
    {
      "cell_type": "code",
      "metadata": {
        "id": "YoZ-m6tLPGu9",
        "colab": {
          "base_uri": "https://localhost:8080/"
        },
        "outputId": "4e1a6826-b2e7-4dbd-e086-c23c0335b7c5"
      },
      "source": [
        "energy = pd.read_csv('energy.csv')\n",
        "len(energy)"
      ],
      "execution_count": 7,
      "outputs": [
        {
          "output_type": "execute_result",
          "data": {
            "text/plain": [
              "3536007"
            ]
          },
          "metadata": {
            "tags": []
          },
          "execution_count": 7
        }
      ]
    },
    {
      "cell_type": "code",
      "metadata": {
        "id": "c_bwnTnOPG1d",
        "colab": {
          "base_uri": "https://localhost:8080/"
        },
        "outputId": "de498dd0-8cb9-4b6f-b3fe-13302149b33e"
      },
      "source": [
        "energy.shape  "
      ],
      "execution_count": 8,
      "outputs": [
        {
          "output_type": "execute_result",
          "data": {
            "text/plain": [
              "(3536007, 4)"
            ]
          },
          "metadata": {
            "tags": []
          },
          "execution_count": 8
        }
      ]
    },
    {
      "cell_type": "code",
      "metadata": {
        "id": "J2TWpmp5PG4S"
      },
      "source": [
        "#energy.head()"
      ],
      "execution_count": 9,
      "outputs": []
    },
    {
      "cell_type": "code",
      "metadata": {
        "id": "YhgwVkngbuNR"
      },
      "source": [
        "energy.drop('Unnamed: 0',axis='columns', inplace=True)"
      ],
      "execution_count": 10,
      "outputs": []
    },
    {
      "cell_type": "code",
      "metadata": {
        "id": "lFcFCWV0buQV"
      },
      "source": [
        "#energy.head()"
      ],
      "execution_count": 11,
      "outputs": []
    },
    {
      "cell_type": "code",
      "metadata": {
        "id": "DoN4Ic06buTU"
      },
      "source": [
        "#energy.shape"
      ],
      "execution_count": 12,
      "outputs": []
    },
    {
      "cell_type": "code",
      "metadata": {
        "id": "f-G49Y3GbuV0"
      },
      "source": [
        "energy.day = pd.to_datetime(energy.day,format='%Y-%m-%d').dt.date"
      ],
      "execution_count": 13,
      "outputs": []
    },
    {
      "cell_type": "code",
      "metadata": {
        "id": "wBgUsmaEbuYs",
        "colab": {
          "base_uri": "https://localhost:8080/",
          "height": 197
        },
        "outputId": "3b410e22-76e4-4448-f0b8-e43125ecbd9f"
      },
      "source": [
        "energy.head()"
      ],
      "execution_count": 14,
      "outputs": [
        {
          "output_type": "execute_result",
          "data": {
            "text/html": [
              "<div>\n",
              "<style scoped>\n",
              "    .dataframe tbody tr th:only-of-type {\n",
              "        vertical-align: middle;\n",
              "    }\n",
              "\n",
              "    .dataframe tbody tr th {\n",
              "        vertical-align: top;\n",
              "    }\n",
              "\n",
              "    .dataframe thead th {\n",
              "        text-align: right;\n",
              "    }\n",
              "</style>\n",
              "<table border=\"1\" class=\"dataframe\">\n",
              "  <thead>\n",
              "    <tr style=\"text-align: right;\">\n",
              "      <th></th>\n",
              "      <th>day</th>\n",
              "      <th>LCLid</th>\n",
              "      <th>energy_sum</th>\n",
              "    </tr>\n",
              "  </thead>\n",
              "  <tbody>\n",
              "    <tr>\n",
              "      <th>0</th>\n",
              "      <td>2012-10-12</td>\n",
              "      <td>MAC000002</td>\n",
              "      <td>7.098</td>\n",
              "    </tr>\n",
              "    <tr>\n",
              "      <th>1</th>\n",
              "      <td>2012-10-13</td>\n",
              "      <td>MAC000002</td>\n",
              "      <td>11.087</td>\n",
              "    </tr>\n",
              "    <tr>\n",
              "      <th>2</th>\n",
              "      <td>2012-10-14</td>\n",
              "      <td>MAC000002</td>\n",
              "      <td>13.223</td>\n",
              "    </tr>\n",
              "    <tr>\n",
              "      <th>3</th>\n",
              "      <td>2012-10-15</td>\n",
              "      <td>MAC000002</td>\n",
              "      <td>10.257</td>\n",
              "    </tr>\n",
              "    <tr>\n",
              "      <th>4</th>\n",
              "      <td>2012-10-16</td>\n",
              "      <td>MAC000002</td>\n",
              "      <td>9.769</td>\n",
              "    </tr>\n",
              "  </tbody>\n",
              "</table>\n",
              "</div>"
            ],
            "text/plain": [
              "          day      LCLid  energy_sum\n",
              "0  2012-10-12  MAC000002       7.098\n",
              "1  2012-10-13  MAC000002      11.087\n",
              "2  2012-10-14  MAC000002      13.223\n",
              "3  2012-10-15  MAC000002      10.257\n",
              "4  2012-10-16  MAC000002       9.769"
            ]
          },
          "metadata": {
            "tags": []
          },
          "execution_count": 14
        }
      ]
    },
    {
      "cell_type": "code",
      "metadata": {
        "id": "12AyIPvBbube",
        "colab": {
          "base_uri": "https://localhost:8080/"
        },
        "outputId": "8e7d5238-b996-4a9d-f213-9bfcf7d138bf"
      },
      "source": [
        "energy.shape"
      ],
      "execution_count": 15,
      "outputs": [
        {
          "output_type": "execute_result",
          "data": {
            "text/plain": [
              "(3536007, 3)"
            ]
          },
          "metadata": {
            "tags": []
          },
          "execution_count": 15
        }
      ]
    },
    {
      "cell_type": "code",
      "metadata": {
        "id": "BWucvzSR7imB"
      },
      "source": [
        "#housecount = energy.groupby('day')[['LCLid']].nunique()\n",
        "#housecount.head(10)"
      ],
      "execution_count": 16,
      "outputs": []
    },
    {
      "cell_type": "code",
      "metadata": {
        "id": "FneV2wwY7ipf"
      },
      "source": [
        "#housecount.plot(figsize=(25,5))\n"
      ],
      "execution_count": 17,
      "outputs": []
    },
    {
      "cell_type": "markdown",
      "metadata": {
        "id": "wXnpb4xxz5o-"
      },
      "source": [
        "# Processing over weather file"
      ]
    },
    {
      "cell_type": "code",
      "metadata": {
        "id": "AR7cO-TePG6t",
        "colab": {
          "base_uri": "https://localhost:8080/",
          "height": 211
        },
        "outputId": "392bbf56-a174-4d1f-ce56-91eb0ac0fa19"
      },
      "source": [
        "weather = pd.read_csv(path + \"/weather_daily_darksky.csv\")\n",
        "weather.head(2)"
      ],
      "execution_count": 18,
      "outputs": [
        {
          "output_type": "execute_result",
          "data": {
            "text/html": [
              "<div>\n",
              "<style scoped>\n",
              "    .dataframe tbody tr th:only-of-type {\n",
              "        vertical-align: middle;\n",
              "    }\n",
              "\n",
              "    .dataframe tbody tr th {\n",
              "        vertical-align: top;\n",
              "    }\n",
              "\n",
              "    .dataframe thead th {\n",
              "        text-align: right;\n",
              "    }\n",
              "</style>\n",
              "<table border=\"1\" class=\"dataframe\">\n",
              "  <thead>\n",
              "    <tr style=\"text-align: right;\">\n",
              "      <th></th>\n",
              "      <th>temperatureMax</th>\n",
              "      <th>temperatureMaxTime</th>\n",
              "      <th>windBearing</th>\n",
              "      <th>icon</th>\n",
              "      <th>dewPoint</th>\n",
              "      <th>temperatureMinTime</th>\n",
              "      <th>cloudCover</th>\n",
              "      <th>windSpeed</th>\n",
              "      <th>pressure</th>\n",
              "      <th>apparentTemperatureMinTime</th>\n",
              "      <th>apparentTemperatureHigh</th>\n",
              "      <th>precipType</th>\n",
              "      <th>visibility</th>\n",
              "      <th>humidity</th>\n",
              "      <th>apparentTemperatureHighTime</th>\n",
              "      <th>apparentTemperatureLow</th>\n",
              "      <th>apparentTemperatureMax</th>\n",
              "      <th>uvIndex</th>\n",
              "      <th>time</th>\n",
              "      <th>sunsetTime</th>\n",
              "      <th>temperatureLow</th>\n",
              "      <th>temperatureMin</th>\n",
              "      <th>temperatureHigh</th>\n",
              "      <th>sunriseTime</th>\n",
              "      <th>temperatureHighTime</th>\n",
              "      <th>uvIndexTime</th>\n",
              "      <th>summary</th>\n",
              "      <th>temperatureLowTime</th>\n",
              "      <th>apparentTemperatureMin</th>\n",
              "      <th>apparentTemperatureMaxTime</th>\n",
              "      <th>apparentTemperatureLowTime</th>\n",
              "      <th>moonPhase</th>\n",
              "    </tr>\n",
              "  </thead>\n",
              "  <tbody>\n",
              "    <tr>\n",
              "      <th>0</th>\n",
              "      <td>11.96</td>\n",
              "      <td>2011-11-11 23:00:00</td>\n",
              "      <td>123</td>\n",
              "      <td>fog</td>\n",
              "      <td>9.40</td>\n",
              "      <td>2011-11-11 07:00:00</td>\n",
              "      <td>0.79</td>\n",
              "      <td>3.88</td>\n",
              "      <td>1016.08</td>\n",
              "      <td>2011-11-11 07:00:00</td>\n",
              "      <td>10.87</td>\n",
              "      <td>rain</td>\n",
              "      <td>3.30</td>\n",
              "      <td>0.95</td>\n",
              "      <td>2011-11-11 19:00:00</td>\n",
              "      <td>10.87</td>\n",
              "      <td>11.96</td>\n",
              "      <td>1.0</td>\n",
              "      <td>2011-11-11 00:00:00</td>\n",
              "      <td>2011-11-11 16:19:21</td>\n",
              "      <td>10.87</td>\n",
              "      <td>8.85</td>\n",
              "      <td>10.87</td>\n",
              "      <td>2011-11-11 07:12:14</td>\n",
              "      <td>2011-11-11 19:00:00</td>\n",
              "      <td>2011-11-11 11:00:00</td>\n",
              "      <td>Foggy until afternoon.</td>\n",
              "      <td>2011-11-11 19:00:00</td>\n",
              "      <td>6.48</td>\n",
              "      <td>2011-11-11 23:00:00</td>\n",
              "      <td>2011-11-11 19:00:00</td>\n",
              "      <td>0.52</td>\n",
              "    </tr>\n",
              "    <tr>\n",
              "      <th>1</th>\n",
              "      <td>8.59</td>\n",
              "      <td>2011-12-11 14:00:00</td>\n",
              "      <td>198</td>\n",
              "      <td>partly-cloudy-day</td>\n",
              "      <td>4.49</td>\n",
              "      <td>2011-12-11 01:00:00</td>\n",
              "      <td>0.56</td>\n",
              "      <td>3.94</td>\n",
              "      <td>1007.71</td>\n",
              "      <td>2011-12-11 02:00:00</td>\n",
              "      <td>5.62</td>\n",
              "      <td>rain</td>\n",
              "      <td>12.09</td>\n",
              "      <td>0.88</td>\n",
              "      <td>2011-12-11 19:00:00</td>\n",
              "      <td>-0.64</td>\n",
              "      <td>5.72</td>\n",
              "      <td>1.0</td>\n",
              "      <td>2011-12-11 00:00:00</td>\n",
              "      <td>2011-12-11 15:52:53</td>\n",
              "      <td>3.09</td>\n",
              "      <td>2.48</td>\n",
              "      <td>8.59</td>\n",
              "      <td>2011-12-11 07:57:02</td>\n",
              "      <td>2011-12-11 14:00:00</td>\n",
              "      <td>2011-12-11 12:00:00</td>\n",
              "      <td>Partly cloudy throughout the day.</td>\n",
              "      <td>2011-12-12 07:00:00</td>\n",
              "      <td>0.11</td>\n",
              "      <td>2011-12-11 20:00:00</td>\n",
              "      <td>2011-12-12 08:00:00</td>\n",
              "      <td>0.53</td>\n",
              "    </tr>\n",
              "  </tbody>\n",
              "</table>\n",
              "</div>"
            ],
            "text/plain": [
              "   temperatureMax   temperatureMaxTime  ...  apparentTemperatureLowTime moonPhase\n",
              "0           11.96  2011-11-11 23:00:00  ...         2011-11-11 19:00:00      0.52\n",
              "1            8.59  2011-12-11 14:00:00  ...         2011-12-12 08:00:00      0.53\n",
              "\n",
              "[2 rows x 32 columns]"
            ]
          },
          "metadata": {
            "tags": []
          },
          "execution_count": 18
        }
      ]
    },
    {
      "cell_type": "code",
      "metadata": {
        "id": "KH1vV16ZPG9b"
      },
      "source": [
        "#weather.describe()"
      ],
      "execution_count": 19,
      "outputs": []
    },
    {
      "cell_type": "code",
      "metadata": {
        "id": "rNGQWSNANDi9",
        "colab": {
          "base_uri": "https://localhost:8080/"
        },
        "outputId": "b238af57-fcc0-4e24-bb6b-fb1721313cdc"
      },
      "source": [
        "weather.precipType.unique()"
      ],
      "execution_count": 20,
      "outputs": [
        {
          "output_type": "execute_result",
          "data": {
            "text/plain": [
              "array(['rain', 'snow'], dtype=object)"
            ]
          },
          "metadata": {
            "tags": []
          },
          "execution_count": 20
        }
      ]
    },
    {
      "cell_type": "code",
      "metadata": {
        "id": "OCHEIE5COvPj"
      },
      "source": [
        "weather[\"precipType\"].replace({\"rain\": 1, \"snow\": 0}, inplace=True)"
      ],
      "execution_count": 21,
      "outputs": []
    },
    {
      "cell_type": "code",
      "metadata": {
        "id": "RpWLlWloPGbz"
      },
      "source": [
        "#weather.head()"
      ],
      "execution_count": 22,
      "outputs": []
    },
    {
      "cell_type": "code",
      "metadata": {
        "id": "x20N72UTPGeB",
        "colab": {
          "base_uri": "https://localhost:8080/"
        },
        "outputId": "72a0322b-b514-493f-f5f3-abb13a45bcb2"
      },
      "source": [
        "weather.icon.unique()"
      ],
      "execution_count": 23,
      "outputs": [
        {
          "output_type": "execute_result",
          "data": {
            "text/plain": [
              "array(['fog', 'partly-cloudy-day', 'wind', 'partly-cloudy-night',\n",
              "       'clear-day', 'cloudy'], dtype=object)"
            ]
          },
          "metadata": {
            "tags": []
          },
          "execution_count": 23
        }
      ]
    },
    {
      "cell_type": "code",
      "metadata": {
        "id": "CncVzpw_V1dt"
      },
      "source": [
        "from sklearn.preprocessing import OneHotEncoder\n",
        "icon_one_hot_decoded = pd.get_dummies(weather.icon,prefix='icon')"
      ],
      "execution_count": 24,
      "outputs": []
    },
    {
      "cell_type": "code",
      "metadata": {
        "id": "pIetBo0mWMlh",
        "colab": {
          "base_uri": "https://localhost:8080/",
          "height": 197
        },
        "outputId": "c998b066-95ca-4c78-a12e-f9d06f02b8a6"
      },
      "source": [
        "icon_one_hot_decoded.head()"
      ],
      "execution_count": 25,
      "outputs": [
        {
          "output_type": "execute_result",
          "data": {
            "text/html": [
              "<div>\n",
              "<style scoped>\n",
              "    .dataframe tbody tr th:only-of-type {\n",
              "        vertical-align: middle;\n",
              "    }\n",
              "\n",
              "    .dataframe tbody tr th {\n",
              "        vertical-align: top;\n",
              "    }\n",
              "\n",
              "    .dataframe thead th {\n",
              "        text-align: right;\n",
              "    }\n",
              "</style>\n",
              "<table border=\"1\" class=\"dataframe\">\n",
              "  <thead>\n",
              "    <tr style=\"text-align: right;\">\n",
              "      <th></th>\n",
              "      <th>icon_clear-day</th>\n",
              "      <th>icon_cloudy</th>\n",
              "      <th>icon_fog</th>\n",
              "      <th>icon_partly-cloudy-day</th>\n",
              "      <th>icon_partly-cloudy-night</th>\n",
              "      <th>icon_wind</th>\n",
              "    </tr>\n",
              "  </thead>\n",
              "  <tbody>\n",
              "    <tr>\n",
              "      <th>0</th>\n",
              "      <td>0</td>\n",
              "      <td>0</td>\n",
              "      <td>1</td>\n",
              "      <td>0</td>\n",
              "      <td>0</td>\n",
              "      <td>0</td>\n",
              "    </tr>\n",
              "    <tr>\n",
              "      <th>1</th>\n",
              "      <td>0</td>\n",
              "      <td>0</td>\n",
              "      <td>0</td>\n",
              "      <td>1</td>\n",
              "      <td>0</td>\n",
              "      <td>0</td>\n",
              "    </tr>\n",
              "    <tr>\n",
              "      <th>2</th>\n",
              "      <td>0</td>\n",
              "      <td>0</td>\n",
              "      <td>0</td>\n",
              "      <td>1</td>\n",
              "      <td>0</td>\n",
              "      <td>0</td>\n",
              "    </tr>\n",
              "    <tr>\n",
              "      <th>3</th>\n",
              "      <td>0</td>\n",
              "      <td>0</td>\n",
              "      <td>0</td>\n",
              "      <td>0</td>\n",
              "      <td>0</td>\n",
              "      <td>1</td>\n",
              "    </tr>\n",
              "    <tr>\n",
              "      <th>4</th>\n",
              "      <td>0</td>\n",
              "      <td>0</td>\n",
              "      <td>0</td>\n",
              "      <td>0</td>\n",
              "      <td>1</td>\n",
              "      <td>0</td>\n",
              "    </tr>\n",
              "  </tbody>\n",
              "</table>\n",
              "</div>"
            ],
            "text/plain": [
              "   icon_clear-day  icon_cloudy  ...  icon_partly-cloudy-night  icon_wind\n",
              "0               0            0  ...                         0          0\n",
              "1               0            0  ...                         0          0\n",
              "2               0            0  ...                         0          0\n",
              "3               0            0  ...                         0          1\n",
              "4               0            0  ...                         1          0\n",
              "\n",
              "[5 rows x 6 columns]"
            ]
          },
          "metadata": {
            "tags": []
          },
          "execution_count": 25
        }
      ]
    },
    {
      "cell_type": "code",
      "metadata": {
        "id": "3thJuWz0WhZ3"
      },
      "source": [
        "weather = pd.concat([weather, icon_one_hot_decoded], axis=1)\n"
      ],
      "execution_count": 26,
      "outputs": []
    },
    {
      "cell_type": "code",
      "metadata": {
        "id": "MnTgHJjwWwHU",
        "colab": {
          "base_uri": "https://localhost:8080/",
          "height": 517
        },
        "outputId": "c5f1ff71-e90f-4898-a94f-609b54b50338"
      },
      "source": [
        "weather.head()"
      ],
      "execution_count": 27,
      "outputs": [
        {
          "output_type": "execute_result",
          "data": {
            "text/html": [
              "<div>\n",
              "<style scoped>\n",
              "    .dataframe tbody tr th:only-of-type {\n",
              "        vertical-align: middle;\n",
              "    }\n",
              "\n",
              "    .dataframe tbody tr th {\n",
              "        vertical-align: top;\n",
              "    }\n",
              "\n",
              "    .dataframe thead th {\n",
              "        text-align: right;\n",
              "    }\n",
              "</style>\n",
              "<table border=\"1\" class=\"dataframe\">\n",
              "  <thead>\n",
              "    <tr style=\"text-align: right;\">\n",
              "      <th></th>\n",
              "      <th>temperatureMax</th>\n",
              "      <th>temperatureMaxTime</th>\n",
              "      <th>windBearing</th>\n",
              "      <th>icon</th>\n",
              "      <th>dewPoint</th>\n",
              "      <th>temperatureMinTime</th>\n",
              "      <th>cloudCover</th>\n",
              "      <th>windSpeed</th>\n",
              "      <th>pressure</th>\n",
              "      <th>apparentTemperatureMinTime</th>\n",
              "      <th>apparentTemperatureHigh</th>\n",
              "      <th>precipType</th>\n",
              "      <th>visibility</th>\n",
              "      <th>humidity</th>\n",
              "      <th>apparentTemperatureHighTime</th>\n",
              "      <th>apparentTemperatureLow</th>\n",
              "      <th>apparentTemperatureMax</th>\n",
              "      <th>uvIndex</th>\n",
              "      <th>time</th>\n",
              "      <th>sunsetTime</th>\n",
              "      <th>temperatureLow</th>\n",
              "      <th>temperatureMin</th>\n",
              "      <th>temperatureHigh</th>\n",
              "      <th>sunriseTime</th>\n",
              "      <th>temperatureHighTime</th>\n",
              "      <th>uvIndexTime</th>\n",
              "      <th>summary</th>\n",
              "      <th>temperatureLowTime</th>\n",
              "      <th>apparentTemperatureMin</th>\n",
              "      <th>apparentTemperatureMaxTime</th>\n",
              "      <th>apparentTemperatureLowTime</th>\n",
              "      <th>moonPhase</th>\n",
              "      <th>icon_clear-day</th>\n",
              "      <th>icon_cloudy</th>\n",
              "      <th>icon_fog</th>\n",
              "      <th>icon_partly-cloudy-day</th>\n",
              "      <th>icon_partly-cloudy-night</th>\n",
              "      <th>icon_wind</th>\n",
              "    </tr>\n",
              "  </thead>\n",
              "  <tbody>\n",
              "    <tr>\n",
              "      <th>0</th>\n",
              "      <td>11.96</td>\n",
              "      <td>2011-11-11 23:00:00</td>\n",
              "      <td>123</td>\n",
              "      <td>fog</td>\n",
              "      <td>9.40</td>\n",
              "      <td>2011-11-11 07:00:00</td>\n",
              "      <td>0.79</td>\n",
              "      <td>3.88</td>\n",
              "      <td>1016.08</td>\n",
              "      <td>2011-11-11 07:00:00</td>\n",
              "      <td>10.87</td>\n",
              "      <td>1</td>\n",
              "      <td>3.30</td>\n",
              "      <td>0.95</td>\n",
              "      <td>2011-11-11 19:00:00</td>\n",
              "      <td>10.87</td>\n",
              "      <td>11.96</td>\n",
              "      <td>1.0</td>\n",
              "      <td>2011-11-11 00:00:00</td>\n",
              "      <td>2011-11-11 16:19:21</td>\n",
              "      <td>10.87</td>\n",
              "      <td>8.85</td>\n",
              "      <td>10.87</td>\n",
              "      <td>2011-11-11 07:12:14</td>\n",
              "      <td>2011-11-11 19:00:00</td>\n",
              "      <td>2011-11-11 11:00:00</td>\n",
              "      <td>Foggy until afternoon.</td>\n",
              "      <td>2011-11-11 19:00:00</td>\n",
              "      <td>6.48</td>\n",
              "      <td>2011-11-11 23:00:00</td>\n",
              "      <td>2011-11-11 19:00:00</td>\n",
              "      <td>0.52</td>\n",
              "      <td>0</td>\n",
              "      <td>0</td>\n",
              "      <td>1</td>\n",
              "      <td>0</td>\n",
              "      <td>0</td>\n",
              "      <td>0</td>\n",
              "    </tr>\n",
              "    <tr>\n",
              "      <th>1</th>\n",
              "      <td>8.59</td>\n",
              "      <td>2011-12-11 14:00:00</td>\n",
              "      <td>198</td>\n",
              "      <td>partly-cloudy-day</td>\n",
              "      <td>4.49</td>\n",
              "      <td>2011-12-11 01:00:00</td>\n",
              "      <td>0.56</td>\n",
              "      <td>3.94</td>\n",
              "      <td>1007.71</td>\n",
              "      <td>2011-12-11 02:00:00</td>\n",
              "      <td>5.62</td>\n",
              "      <td>1</td>\n",
              "      <td>12.09</td>\n",
              "      <td>0.88</td>\n",
              "      <td>2011-12-11 19:00:00</td>\n",
              "      <td>-0.64</td>\n",
              "      <td>5.72</td>\n",
              "      <td>1.0</td>\n",
              "      <td>2011-12-11 00:00:00</td>\n",
              "      <td>2011-12-11 15:52:53</td>\n",
              "      <td>3.09</td>\n",
              "      <td>2.48</td>\n",
              "      <td>8.59</td>\n",
              "      <td>2011-12-11 07:57:02</td>\n",
              "      <td>2011-12-11 14:00:00</td>\n",
              "      <td>2011-12-11 12:00:00</td>\n",
              "      <td>Partly cloudy throughout the day.</td>\n",
              "      <td>2011-12-12 07:00:00</td>\n",
              "      <td>0.11</td>\n",
              "      <td>2011-12-11 20:00:00</td>\n",
              "      <td>2011-12-12 08:00:00</td>\n",
              "      <td>0.53</td>\n",
              "      <td>0</td>\n",
              "      <td>0</td>\n",
              "      <td>0</td>\n",
              "      <td>1</td>\n",
              "      <td>0</td>\n",
              "      <td>0</td>\n",
              "    </tr>\n",
              "    <tr>\n",
              "      <th>2</th>\n",
              "      <td>10.33</td>\n",
              "      <td>2011-12-27 02:00:00</td>\n",
              "      <td>225</td>\n",
              "      <td>partly-cloudy-day</td>\n",
              "      <td>5.47</td>\n",
              "      <td>2011-12-27 23:00:00</td>\n",
              "      <td>0.85</td>\n",
              "      <td>3.54</td>\n",
              "      <td>1032.76</td>\n",
              "      <td>2011-12-27 22:00:00</td>\n",
              "      <td>10.33</td>\n",
              "      <td>1</td>\n",
              "      <td>13.39</td>\n",
              "      <td>0.74</td>\n",
              "      <td>2011-12-27 14:00:00</td>\n",
              "      <td>5.52</td>\n",
              "      <td>10.33</td>\n",
              "      <td>0.0</td>\n",
              "      <td>2011-12-27 00:00:00</td>\n",
              "      <td>2011-12-27 15:57:56</td>\n",
              "      <td>8.03</td>\n",
              "      <td>8.03</td>\n",
              "      <td>10.33</td>\n",
              "      <td>2011-12-27 08:07:06</td>\n",
              "      <td>2011-12-27 14:00:00</td>\n",
              "      <td>2011-12-27 00:00:00</td>\n",
              "      <td>Mostly cloudy throughout the day.</td>\n",
              "      <td>2011-12-27 23:00:00</td>\n",
              "      <td>5.59</td>\n",
              "      <td>2011-12-27 02:00:00</td>\n",
              "      <td>2011-12-28 00:00:00</td>\n",
              "      <td>0.10</td>\n",
              "      <td>0</td>\n",
              "      <td>0</td>\n",
              "      <td>0</td>\n",
              "      <td>1</td>\n",
              "      <td>0</td>\n",
              "      <td>0</td>\n",
              "    </tr>\n",
              "    <tr>\n",
              "      <th>3</th>\n",
              "      <td>8.07</td>\n",
              "      <td>2011-12-02 23:00:00</td>\n",
              "      <td>232</td>\n",
              "      <td>wind</td>\n",
              "      <td>3.69</td>\n",
              "      <td>2011-12-02 07:00:00</td>\n",
              "      <td>0.32</td>\n",
              "      <td>3.00</td>\n",
              "      <td>1012.12</td>\n",
              "      <td>2011-12-02 07:00:00</td>\n",
              "      <td>5.33</td>\n",
              "      <td>1</td>\n",
              "      <td>11.89</td>\n",
              "      <td>0.87</td>\n",
              "      <td>2011-12-02 12:00:00</td>\n",
              "      <td>3.26</td>\n",
              "      <td>5.33</td>\n",
              "      <td>1.0</td>\n",
              "      <td>2011-12-02 00:00:00</td>\n",
              "      <td>2011-12-02 15:56:17</td>\n",
              "      <td>6.33</td>\n",
              "      <td>2.56</td>\n",
              "      <td>7.36</td>\n",
              "      <td>2011-12-02 07:46:09</td>\n",
              "      <td>2011-12-02 12:00:00</td>\n",
              "      <td>2011-12-02 10:00:00</td>\n",
              "      <td>Partly cloudy throughout the day and breezy ov...</td>\n",
              "      <td>2011-12-02 19:00:00</td>\n",
              "      <td>0.46</td>\n",
              "      <td>2011-12-02 12:00:00</td>\n",
              "      <td>2011-12-02 19:00:00</td>\n",
              "      <td>0.25</td>\n",
              "      <td>0</td>\n",
              "      <td>0</td>\n",
              "      <td>0</td>\n",
              "      <td>0</td>\n",
              "      <td>0</td>\n",
              "      <td>1</td>\n",
              "    </tr>\n",
              "    <tr>\n",
              "      <th>4</th>\n",
              "      <td>8.22</td>\n",
              "      <td>2011-12-24 23:00:00</td>\n",
              "      <td>252</td>\n",
              "      <td>partly-cloudy-night</td>\n",
              "      <td>2.79</td>\n",
              "      <td>2011-12-24 07:00:00</td>\n",
              "      <td>0.37</td>\n",
              "      <td>4.46</td>\n",
              "      <td>1028.17</td>\n",
              "      <td>2011-12-24 07:00:00</td>\n",
              "      <td>5.02</td>\n",
              "      <td>1</td>\n",
              "      <td>13.16</td>\n",
              "      <td>0.80</td>\n",
              "      <td>2011-12-24 15:00:00</td>\n",
              "      <td>4.37</td>\n",
              "      <td>5.32</td>\n",
              "      <td>1.0</td>\n",
              "      <td>2011-12-24 00:00:00</td>\n",
              "      <td>2011-12-24 15:55:55</td>\n",
              "      <td>7.45</td>\n",
              "      <td>3.17</td>\n",
              "      <td>7.93</td>\n",
              "      <td>2011-12-24 08:06:15</td>\n",
              "      <td>2011-12-24 15:00:00</td>\n",
              "      <td>2011-12-24 13:00:00</td>\n",
              "      <td>Mostly cloudy throughout the day.</td>\n",
              "      <td>2011-12-24 19:00:00</td>\n",
              "      <td>-0.51</td>\n",
              "      <td>2011-12-24 23:00:00</td>\n",
              "      <td>2011-12-24 20:00:00</td>\n",
              "      <td>0.99</td>\n",
              "      <td>0</td>\n",
              "      <td>0</td>\n",
              "      <td>0</td>\n",
              "      <td>0</td>\n",
              "      <td>1</td>\n",
              "      <td>0</td>\n",
              "    </tr>\n",
              "  </tbody>\n",
              "</table>\n",
              "</div>"
            ],
            "text/plain": [
              "   temperatureMax   temperatureMaxTime  ...  icon_partly-cloudy-night icon_wind\n",
              "0           11.96  2011-11-11 23:00:00  ...                         0         0\n",
              "1            8.59  2011-12-11 14:00:00  ...                         0         0\n",
              "2           10.33  2011-12-27 02:00:00  ...                         0         0\n",
              "3            8.07  2011-12-02 23:00:00  ...                         0         1\n",
              "4            8.22  2011-12-24 23:00:00  ...                         1         0\n",
              "\n",
              "[5 rows x 38 columns]"
            ]
          },
          "metadata": {
            "tags": []
          },
          "execution_count": 27
        }
      ]
    },
    {
      "cell_type": "code",
      "metadata": {
        "id": "9mXFXmhjTa24",
        "colab": {
          "base_uri": "https://localhost:8080/"
        },
        "outputId": "50b88df2-22f8-4c00-a08c-4bcbc5cde96f"
      },
      "source": [
        "weather.summary.unique()"
      ],
      "execution_count": 28,
      "outputs": [
        {
          "output_type": "execute_result",
          "data": {
            "text/plain": [
              "array(['Foggy until afternoon.', 'Partly cloudy throughout the day.',\n",
              "       'Mostly cloudy throughout the day.',\n",
              "       'Partly cloudy throughout the day and breezy overnight.',\n",
              "       'Partly cloudy throughout the day and breezy in the morning.',\n",
              "       'Foggy starting in the evening.',\n",
              "       'Partly cloudy throughout the day and breezy starting in the evening.',\n",
              "       'Foggy in the morning.', 'Partly cloudy until evening.',\n",
              "       'Partly cloudy starting in the afternoon, continuing until evening.',\n",
              "       'Breezy in the morning and partly cloudy throughout the day.',\n",
              "       'Partly cloudy throughout the day and breezy until afternoon.',\n",
              "       'Breezy and mostly cloudy throughout the day.', 'Foggy overnight.',\n",
              "       'Mostly cloudy throughout the day and breezy overnight.',\n",
              "       'Partly cloudy until afternoon.',\n",
              "       'Mostly cloudy until evening and breezy starting in the afternoon, continuing until evening.',\n",
              "       'Breezy in the morning and partly cloudy until afternoon.',\n",
              "       'Foggy until evening.', 'Breezy in the afternoon.',\n",
              "       'Partly cloudy until afternoon and breezy starting in the afternoon, continuing until evening.',\n",
              "       'Mostly cloudy throughout the day and breezy starting in the evening.',\n",
              "       'Partly cloudy in the afternoon.',\n",
              "       'Partly cloudy starting in the afternoon.',\n",
              "       'Partly cloudy in the morning.',\n",
              "       'Mostly cloudy throughout the day and breezy until afternoon.',\n",
              "       'Mostly cloudy until evening.',\n",
              "       'Breezy until afternoon and partly cloudy throughout the day.',\n",
              "       'Breezy and partly cloudy throughout the day.',\n",
              "       'Partly cloudy until evening and breezy in the morning.',\n",
              "       'Foggy throughout the day.',\n",
              "       'Foggy in the morning and breezy starting in the afternoon, continuing until evening.',\n",
              "       'Partly cloudy until evening and breezy starting in the afternoon, continuing until evening.',\n",
              "       'Breezy in the morning and mostly cloudy throughout the day.',\n",
              "       'Partly cloudy until evening and breezy until afternoon.',\n",
              "       'Mostly cloudy starting in the afternoon.',\n",
              "       'Partly cloudy throughout the day and breezy until evening.',\n",
              "       'Partly cloudy until evening and breezy in the afternoon.',\n",
              "       'Breezy until evening and partly cloudy throughout the day.',\n",
              "       'Mostly cloudy throughout the day and windy starting in the evening.',\n",
              "       'Foggy in the morning and breezy overnight.',\n",
              "       'Breezy until afternoon and mostly cloudy throughout the day.',\n",
              "       'Clear throughout the day.',\n",
              "       'Mostly cloudy starting in the evening.',\n",
              "       'Mostly cloudy throughout the day and breezy in the morning.',\n",
              "       'Windy until afternoon and mostly cloudy until evening.',\n",
              "       'Mostly cloudy throughout the day and breezy in the afternoon.',\n",
              "       'Mostly cloudy until afternoon.',\n",
              "       'Foggy in the morning and breezy in the evening.',\n",
              "       'Overcast throughout the day and breezy overnight.',\n",
              "       'Partly cloudy until evening and breezy starting in the evening.',\n",
              "       'Mostly cloudy until evening and breezy until afternoon.',\n",
              "       'Mostly cloudy until evening and breezy in the evening.',\n",
              "       'Mostly cloudy starting in the afternoon, continuing until evening.',\n",
              "       'Mostly cloudy in the morning.',\n",
              "       'Breezy in the morning and partly cloudy until evening.',\n",
              "       'Overcast until evening.',\n",
              "       'Breezy in the morning and mostly cloudy until evening.',\n",
              "       'Breezy in the morning and overcast until evening.',\n",
              "       'Mostly cloudy until evening and breezy starting in the evening.',\n",
              "       'Breezy and mostly cloudy until evening.',\n",
              "       'Foggy starting in the afternoon.',\n",
              "       'Partly cloudy throughout the day and breezy starting in the afternoon, continuing until evening.',\n",
              "       'Mostly cloudy until evening and breezy starting in the afternoon.',\n",
              "       'Breezy until afternoon and partly cloudy until evening.',\n",
              "       'Mostly cloudy throughout the day and breezy starting in the afternoon.',\n",
              "       'Mostly cloudy until evening and breezy in the afternoon.',\n",
              "       'Mostly cloudy until evening and breezy overnight.',\n",
              "       'Mostly cloudy until afternoon and breezy overnight.',\n",
              "       'Partly cloudy throughout the day and breezy in the afternoon.',\n",
              "       'Overcast until evening and windy throughout the day.',\n",
              "       'Mostly cloudy until morning.',\n",
              "       'Mostly cloudy until afternoon and breezy starting in the evening.',\n",
              "       'Breezy and mostly cloudy starting in the afternoon, continuing until evening.',\n",
              "       'Mostly cloudy throughout the day and breezy starting in the afternoon, continuing until evening.',\n",
              "       'Breezy until afternoon and mostly cloudy until evening.',\n",
              "       'Overcast throughout the day.',\n",
              "       'Overcast starting in the afternoon, continuing until evening.',\n",
              "       'Mostly cloudy until evening and breezy in the morning.',\n",
              "       'Overcast throughout the day and breezy starting in the evening.',\n",
              "       'Partly cloudy until evening and breezy overnight.',\n",
              "       'Overcast until evening and windy starting in the evening.',\n",
              "       'Breezy until evening.',\n",
              "       'Partly cloudy until evening and breezy in the evening.',\n",
              "       'Overcast until afternoon.', 'Partly cloudy in the evening.',\n",
              "       'Mostly cloudy until evening and breezy throughout the day.',\n",
              "       'Windy and mostly cloudy until afternoon.'], dtype=object)"
            ]
          },
          "metadata": {
            "tags": []
          },
          "execution_count": 28
        }
      ]
    },
    {
      "cell_type": "code",
      "metadata": {
        "id": "GNSTBHg4Ta5R"
      },
      "source": [
        "weather['day']=  pd.to_datetime(weather['time']) # day is given as timestamp\n"
      ],
      "execution_count": 29,
      "outputs": []
    },
    {
      "cell_type": "code",
      "metadata": {
        "id": "0-H4e4EKTa71",
        "colab": {
          "base_uri": "https://localhost:8080/",
          "height": 517
        },
        "outputId": "fcfdaab2-6a58-4e0f-e12a-290249043b38"
      },
      "source": [
        "weather.head()"
      ],
      "execution_count": 30,
      "outputs": [
        {
          "output_type": "execute_result",
          "data": {
            "text/html": [
              "<div>\n",
              "<style scoped>\n",
              "    .dataframe tbody tr th:only-of-type {\n",
              "        vertical-align: middle;\n",
              "    }\n",
              "\n",
              "    .dataframe tbody tr th {\n",
              "        vertical-align: top;\n",
              "    }\n",
              "\n",
              "    .dataframe thead th {\n",
              "        text-align: right;\n",
              "    }\n",
              "</style>\n",
              "<table border=\"1\" class=\"dataframe\">\n",
              "  <thead>\n",
              "    <tr style=\"text-align: right;\">\n",
              "      <th></th>\n",
              "      <th>temperatureMax</th>\n",
              "      <th>temperatureMaxTime</th>\n",
              "      <th>windBearing</th>\n",
              "      <th>icon</th>\n",
              "      <th>dewPoint</th>\n",
              "      <th>temperatureMinTime</th>\n",
              "      <th>cloudCover</th>\n",
              "      <th>windSpeed</th>\n",
              "      <th>pressure</th>\n",
              "      <th>apparentTemperatureMinTime</th>\n",
              "      <th>apparentTemperatureHigh</th>\n",
              "      <th>precipType</th>\n",
              "      <th>visibility</th>\n",
              "      <th>humidity</th>\n",
              "      <th>apparentTemperatureHighTime</th>\n",
              "      <th>apparentTemperatureLow</th>\n",
              "      <th>apparentTemperatureMax</th>\n",
              "      <th>uvIndex</th>\n",
              "      <th>time</th>\n",
              "      <th>sunsetTime</th>\n",
              "      <th>temperatureLow</th>\n",
              "      <th>temperatureMin</th>\n",
              "      <th>temperatureHigh</th>\n",
              "      <th>sunriseTime</th>\n",
              "      <th>temperatureHighTime</th>\n",
              "      <th>uvIndexTime</th>\n",
              "      <th>summary</th>\n",
              "      <th>temperatureLowTime</th>\n",
              "      <th>apparentTemperatureMin</th>\n",
              "      <th>apparentTemperatureMaxTime</th>\n",
              "      <th>apparentTemperatureLowTime</th>\n",
              "      <th>moonPhase</th>\n",
              "      <th>icon_clear-day</th>\n",
              "      <th>icon_cloudy</th>\n",
              "      <th>icon_fog</th>\n",
              "      <th>icon_partly-cloudy-day</th>\n",
              "      <th>icon_partly-cloudy-night</th>\n",
              "      <th>icon_wind</th>\n",
              "      <th>day</th>\n",
              "    </tr>\n",
              "  </thead>\n",
              "  <tbody>\n",
              "    <tr>\n",
              "      <th>0</th>\n",
              "      <td>11.96</td>\n",
              "      <td>2011-11-11 23:00:00</td>\n",
              "      <td>123</td>\n",
              "      <td>fog</td>\n",
              "      <td>9.40</td>\n",
              "      <td>2011-11-11 07:00:00</td>\n",
              "      <td>0.79</td>\n",
              "      <td>3.88</td>\n",
              "      <td>1016.08</td>\n",
              "      <td>2011-11-11 07:00:00</td>\n",
              "      <td>10.87</td>\n",
              "      <td>1</td>\n",
              "      <td>3.30</td>\n",
              "      <td>0.95</td>\n",
              "      <td>2011-11-11 19:00:00</td>\n",
              "      <td>10.87</td>\n",
              "      <td>11.96</td>\n",
              "      <td>1.0</td>\n",
              "      <td>2011-11-11 00:00:00</td>\n",
              "      <td>2011-11-11 16:19:21</td>\n",
              "      <td>10.87</td>\n",
              "      <td>8.85</td>\n",
              "      <td>10.87</td>\n",
              "      <td>2011-11-11 07:12:14</td>\n",
              "      <td>2011-11-11 19:00:00</td>\n",
              "      <td>2011-11-11 11:00:00</td>\n",
              "      <td>Foggy until afternoon.</td>\n",
              "      <td>2011-11-11 19:00:00</td>\n",
              "      <td>6.48</td>\n",
              "      <td>2011-11-11 23:00:00</td>\n",
              "      <td>2011-11-11 19:00:00</td>\n",
              "      <td>0.52</td>\n",
              "      <td>0</td>\n",
              "      <td>0</td>\n",
              "      <td>1</td>\n",
              "      <td>0</td>\n",
              "      <td>0</td>\n",
              "      <td>0</td>\n",
              "      <td>2011-11-11</td>\n",
              "    </tr>\n",
              "    <tr>\n",
              "      <th>1</th>\n",
              "      <td>8.59</td>\n",
              "      <td>2011-12-11 14:00:00</td>\n",
              "      <td>198</td>\n",
              "      <td>partly-cloudy-day</td>\n",
              "      <td>4.49</td>\n",
              "      <td>2011-12-11 01:00:00</td>\n",
              "      <td>0.56</td>\n",
              "      <td>3.94</td>\n",
              "      <td>1007.71</td>\n",
              "      <td>2011-12-11 02:00:00</td>\n",
              "      <td>5.62</td>\n",
              "      <td>1</td>\n",
              "      <td>12.09</td>\n",
              "      <td>0.88</td>\n",
              "      <td>2011-12-11 19:00:00</td>\n",
              "      <td>-0.64</td>\n",
              "      <td>5.72</td>\n",
              "      <td>1.0</td>\n",
              "      <td>2011-12-11 00:00:00</td>\n",
              "      <td>2011-12-11 15:52:53</td>\n",
              "      <td>3.09</td>\n",
              "      <td>2.48</td>\n",
              "      <td>8.59</td>\n",
              "      <td>2011-12-11 07:57:02</td>\n",
              "      <td>2011-12-11 14:00:00</td>\n",
              "      <td>2011-12-11 12:00:00</td>\n",
              "      <td>Partly cloudy throughout the day.</td>\n",
              "      <td>2011-12-12 07:00:00</td>\n",
              "      <td>0.11</td>\n",
              "      <td>2011-12-11 20:00:00</td>\n",
              "      <td>2011-12-12 08:00:00</td>\n",
              "      <td>0.53</td>\n",
              "      <td>0</td>\n",
              "      <td>0</td>\n",
              "      <td>0</td>\n",
              "      <td>1</td>\n",
              "      <td>0</td>\n",
              "      <td>0</td>\n",
              "      <td>2011-12-11</td>\n",
              "    </tr>\n",
              "    <tr>\n",
              "      <th>2</th>\n",
              "      <td>10.33</td>\n",
              "      <td>2011-12-27 02:00:00</td>\n",
              "      <td>225</td>\n",
              "      <td>partly-cloudy-day</td>\n",
              "      <td>5.47</td>\n",
              "      <td>2011-12-27 23:00:00</td>\n",
              "      <td>0.85</td>\n",
              "      <td>3.54</td>\n",
              "      <td>1032.76</td>\n",
              "      <td>2011-12-27 22:00:00</td>\n",
              "      <td>10.33</td>\n",
              "      <td>1</td>\n",
              "      <td>13.39</td>\n",
              "      <td>0.74</td>\n",
              "      <td>2011-12-27 14:00:00</td>\n",
              "      <td>5.52</td>\n",
              "      <td>10.33</td>\n",
              "      <td>0.0</td>\n",
              "      <td>2011-12-27 00:00:00</td>\n",
              "      <td>2011-12-27 15:57:56</td>\n",
              "      <td>8.03</td>\n",
              "      <td>8.03</td>\n",
              "      <td>10.33</td>\n",
              "      <td>2011-12-27 08:07:06</td>\n",
              "      <td>2011-12-27 14:00:00</td>\n",
              "      <td>2011-12-27 00:00:00</td>\n",
              "      <td>Mostly cloudy throughout the day.</td>\n",
              "      <td>2011-12-27 23:00:00</td>\n",
              "      <td>5.59</td>\n",
              "      <td>2011-12-27 02:00:00</td>\n",
              "      <td>2011-12-28 00:00:00</td>\n",
              "      <td>0.10</td>\n",
              "      <td>0</td>\n",
              "      <td>0</td>\n",
              "      <td>0</td>\n",
              "      <td>1</td>\n",
              "      <td>0</td>\n",
              "      <td>0</td>\n",
              "      <td>2011-12-27</td>\n",
              "    </tr>\n",
              "    <tr>\n",
              "      <th>3</th>\n",
              "      <td>8.07</td>\n",
              "      <td>2011-12-02 23:00:00</td>\n",
              "      <td>232</td>\n",
              "      <td>wind</td>\n",
              "      <td>3.69</td>\n",
              "      <td>2011-12-02 07:00:00</td>\n",
              "      <td>0.32</td>\n",
              "      <td>3.00</td>\n",
              "      <td>1012.12</td>\n",
              "      <td>2011-12-02 07:00:00</td>\n",
              "      <td>5.33</td>\n",
              "      <td>1</td>\n",
              "      <td>11.89</td>\n",
              "      <td>0.87</td>\n",
              "      <td>2011-12-02 12:00:00</td>\n",
              "      <td>3.26</td>\n",
              "      <td>5.33</td>\n",
              "      <td>1.0</td>\n",
              "      <td>2011-12-02 00:00:00</td>\n",
              "      <td>2011-12-02 15:56:17</td>\n",
              "      <td>6.33</td>\n",
              "      <td>2.56</td>\n",
              "      <td>7.36</td>\n",
              "      <td>2011-12-02 07:46:09</td>\n",
              "      <td>2011-12-02 12:00:00</td>\n",
              "      <td>2011-12-02 10:00:00</td>\n",
              "      <td>Partly cloudy throughout the day and breezy ov...</td>\n",
              "      <td>2011-12-02 19:00:00</td>\n",
              "      <td>0.46</td>\n",
              "      <td>2011-12-02 12:00:00</td>\n",
              "      <td>2011-12-02 19:00:00</td>\n",
              "      <td>0.25</td>\n",
              "      <td>0</td>\n",
              "      <td>0</td>\n",
              "      <td>0</td>\n",
              "      <td>0</td>\n",
              "      <td>0</td>\n",
              "      <td>1</td>\n",
              "      <td>2011-12-02</td>\n",
              "    </tr>\n",
              "    <tr>\n",
              "      <th>4</th>\n",
              "      <td>8.22</td>\n",
              "      <td>2011-12-24 23:00:00</td>\n",
              "      <td>252</td>\n",
              "      <td>partly-cloudy-night</td>\n",
              "      <td>2.79</td>\n",
              "      <td>2011-12-24 07:00:00</td>\n",
              "      <td>0.37</td>\n",
              "      <td>4.46</td>\n",
              "      <td>1028.17</td>\n",
              "      <td>2011-12-24 07:00:00</td>\n",
              "      <td>5.02</td>\n",
              "      <td>1</td>\n",
              "      <td>13.16</td>\n",
              "      <td>0.80</td>\n",
              "      <td>2011-12-24 15:00:00</td>\n",
              "      <td>4.37</td>\n",
              "      <td>5.32</td>\n",
              "      <td>1.0</td>\n",
              "      <td>2011-12-24 00:00:00</td>\n",
              "      <td>2011-12-24 15:55:55</td>\n",
              "      <td>7.45</td>\n",
              "      <td>3.17</td>\n",
              "      <td>7.93</td>\n",
              "      <td>2011-12-24 08:06:15</td>\n",
              "      <td>2011-12-24 15:00:00</td>\n",
              "      <td>2011-12-24 13:00:00</td>\n",
              "      <td>Mostly cloudy throughout the day.</td>\n",
              "      <td>2011-12-24 19:00:00</td>\n",
              "      <td>-0.51</td>\n",
              "      <td>2011-12-24 23:00:00</td>\n",
              "      <td>2011-12-24 20:00:00</td>\n",
              "      <td>0.99</td>\n",
              "      <td>0</td>\n",
              "      <td>0</td>\n",
              "      <td>0</td>\n",
              "      <td>0</td>\n",
              "      <td>1</td>\n",
              "      <td>0</td>\n",
              "      <td>2011-12-24</td>\n",
              "    </tr>\n",
              "  </tbody>\n",
              "</table>\n",
              "</div>"
            ],
            "text/plain": [
              "   temperatureMax   temperatureMaxTime  ...  icon_wind        day\n",
              "0           11.96  2011-11-11 23:00:00  ...          0 2011-11-11\n",
              "1            8.59  2011-12-11 14:00:00  ...          0 2011-12-11\n",
              "2           10.33  2011-12-27 02:00:00  ...          0 2011-12-27\n",
              "3            8.07  2011-12-02 23:00:00  ...          1 2011-12-02\n",
              "4            8.22  2011-12-24 23:00:00  ...          0 2011-12-24\n",
              "\n",
              "[5 rows x 39 columns]"
            ]
          },
          "metadata": {
            "tags": []
          },
          "execution_count": 30
        }
      ]
    },
    {
      "cell_type": "code",
      "metadata": {
        "id": "btfPJq2xTa-h",
        "colab": {
          "base_uri": "https://localhost:8080/",
          "height": 227
        },
        "outputId": "e0889120-085f-4291-fcb9-b4cb0752acb2"
      },
      "source": [
        "weather['day']=  pd.to_datetime(weather['day'],format='%Y%m%d').dt.date\n",
        "weather.head(2)"
      ],
      "execution_count": 31,
      "outputs": [
        {
          "output_type": "execute_result",
          "data": {
            "text/html": [
              "<div>\n",
              "<style scoped>\n",
              "    .dataframe tbody tr th:only-of-type {\n",
              "        vertical-align: middle;\n",
              "    }\n",
              "\n",
              "    .dataframe tbody tr th {\n",
              "        vertical-align: top;\n",
              "    }\n",
              "\n",
              "    .dataframe thead th {\n",
              "        text-align: right;\n",
              "    }\n",
              "</style>\n",
              "<table border=\"1\" class=\"dataframe\">\n",
              "  <thead>\n",
              "    <tr style=\"text-align: right;\">\n",
              "      <th></th>\n",
              "      <th>temperatureMax</th>\n",
              "      <th>temperatureMaxTime</th>\n",
              "      <th>windBearing</th>\n",
              "      <th>icon</th>\n",
              "      <th>dewPoint</th>\n",
              "      <th>temperatureMinTime</th>\n",
              "      <th>cloudCover</th>\n",
              "      <th>windSpeed</th>\n",
              "      <th>pressure</th>\n",
              "      <th>apparentTemperatureMinTime</th>\n",
              "      <th>apparentTemperatureHigh</th>\n",
              "      <th>precipType</th>\n",
              "      <th>visibility</th>\n",
              "      <th>humidity</th>\n",
              "      <th>apparentTemperatureHighTime</th>\n",
              "      <th>apparentTemperatureLow</th>\n",
              "      <th>apparentTemperatureMax</th>\n",
              "      <th>uvIndex</th>\n",
              "      <th>time</th>\n",
              "      <th>sunsetTime</th>\n",
              "      <th>temperatureLow</th>\n",
              "      <th>temperatureMin</th>\n",
              "      <th>temperatureHigh</th>\n",
              "      <th>sunriseTime</th>\n",
              "      <th>temperatureHighTime</th>\n",
              "      <th>uvIndexTime</th>\n",
              "      <th>summary</th>\n",
              "      <th>temperatureLowTime</th>\n",
              "      <th>apparentTemperatureMin</th>\n",
              "      <th>apparentTemperatureMaxTime</th>\n",
              "      <th>apparentTemperatureLowTime</th>\n",
              "      <th>moonPhase</th>\n",
              "      <th>icon_clear-day</th>\n",
              "      <th>icon_cloudy</th>\n",
              "      <th>icon_fog</th>\n",
              "      <th>icon_partly-cloudy-day</th>\n",
              "      <th>icon_partly-cloudy-night</th>\n",
              "      <th>icon_wind</th>\n",
              "      <th>day</th>\n",
              "    </tr>\n",
              "  </thead>\n",
              "  <tbody>\n",
              "    <tr>\n",
              "      <th>0</th>\n",
              "      <td>11.96</td>\n",
              "      <td>2011-11-11 23:00:00</td>\n",
              "      <td>123</td>\n",
              "      <td>fog</td>\n",
              "      <td>9.40</td>\n",
              "      <td>2011-11-11 07:00:00</td>\n",
              "      <td>0.79</td>\n",
              "      <td>3.88</td>\n",
              "      <td>1016.08</td>\n",
              "      <td>2011-11-11 07:00:00</td>\n",
              "      <td>10.87</td>\n",
              "      <td>1</td>\n",
              "      <td>3.30</td>\n",
              "      <td>0.95</td>\n",
              "      <td>2011-11-11 19:00:00</td>\n",
              "      <td>10.87</td>\n",
              "      <td>11.96</td>\n",
              "      <td>1.0</td>\n",
              "      <td>2011-11-11 00:00:00</td>\n",
              "      <td>2011-11-11 16:19:21</td>\n",
              "      <td>10.87</td>\n",
              "      <td>8.85</td>\n",
              "      <td>10.87</td>\n",
              "      <td>2011-11-11 07:12:14</td>\n",
              "      <td>2011-11-11 19:00:00</td>\n",
              "      <td>2011-11-11 11:00:00</td>\n",
              "      <td>Foggy until afternoon.</td>\n",
              "      <td>2011-11-11 19:00:00</td>\n",
              "      <td>6.48</td>\n",
              "      <td>2011-11-11 23:00:00</td>\n",
              "      <td>2011-11-11 19:00:00</td>\n",
              "      <td>0.52</td>\n",
              "      <td>0</td>\n",
              "      <td>0</td>\n",
              "      <td>1</td>\n",
              "      <td>0</td>\n",
              "      <td>0</td>\n",
              "      <td>0</td>\n",
              "      <td>2011-11-11</td>\n",
              "    </tr>\n",
              "    <tr>\n",
              "      <th>1</th>\n",
              "      <td>8.59</td>\n",
              "      <td>2011-12-11 14:00:00</td>\n",
              "      <td>198</td>\n",
              "      <td>partly-cloudy-day</td>\n",
              "      <td>4.49</td>\n",
              "      <td>2011-12-11 01:00:00</td>\n",
              "      <td>0.56</td>\n",
              "      <td>3.94</td>\n",
              "      <td>1007.71</td>\n",
              "      <td>2011-12-11 02:00:00</td>\n",
              "      <td>5.62</td>\n",
              "      <td>1</td>\n",
              "      <td>12.09</td>\n",
              "      <td>0.88</td>\n",
              "      <td>2011-12-11 19:00:00</td>\n",
              "      <td>-0.64</td>\n",
              "      <td>5.72</td>\n",
              "      <td>1.0</td>\n",
              "      <td>2011-12-11 00:00:00</td>\n",
              "      <td>2011-12-11 15:52:53</td>\n",
              "      <td>3.09</td>\n",
              "      <td>2.48</td>\n",
              "      <td>8.59</td>\n",
              "      <td>2011-12-11 07:57:02</td>\n",
              "      <td>2011-12-11 14:00:00</td>\n",
              "      <td>2011-12-11 12:00:00</td>\n",
              "      <td>Partly cloudy throughout the day.</td>\n",
              "      <td>2011-12-12 07:00:00</td>\n",
              "      <td>0.11</td>\n",
              "      <td>2011-12-11 20:00:00</td>\n",
              "      <td>2011-12-12 08:00:00</td>\n",
              "      <td>0.53</td>\n",
              "      <td>0</td>\n",
              "      <td>0</td>\n",
              "      <td>0</td>\n",
              "      <td>1</td>\n",
              "      <td>0</td>\n",
              "      <td>0</td>\n",
              "      <td>2011-12-11</td>\n",
              "    </tr>\n",
              "  </tbody>\n",
              "</table>\n",
              "</div>"
            ],
            "text/plain": [
              "   temperatureMax   temperatureMaxTime  ...  icon_wind         day\n",
              "0           11.96  2011-11-11 23:00:00  ...          0  2011-11-11\n",
              "1            8.59  2011-12-11 14:00:00  ...          0  2011-12-11\n",
              "\n",
              "[2 rows x 39 columns]"
            ]
          },
          "metadata": {
            "tags": []
          },
          "execution_count": 31
        }
      ]
    },
    {
      "cell_type": "code",
      "metadata": {
        "id": "iOgkebhVTbA8"
      },
      "source": [
        "# selecting numeric variables\n",
        "weather = weather[['temperatureMax', 'windBearing', 'dewPoint', 'cloudCover', 'windSpeed',\n",
        "       'pressure', 'apparentTemperatureHigh','precipType', 'visibility', 'humidity',\n",
        "       'apparentTemperatureLow', 'apparentTemperatureMax', 'uvIndex',\n",
        "       'temperatureLow', 'temperatureMin', 'temperatureHigh',\n",
        "       'apparentTemperatureMin', 'moonPhase','icon_clear-day','icon_cloudy','icon_fog','icon_partly-cloudy-day','icon_partly-cloudy-night','icon_wind','day']]"
      ],
      "execution_count": 32,
      "outputs": []
    },
    {
      "cell_type": "code",
      "metadata": {
        "id": "TIFyOgL7PGhR"
      },
      "source": [
        "weather = weather.dropna()\n"
      ],
      "execution_count": 33,
      "outputs": []
    },
    {
      "cell_type": "code",
      "metadata": {
        "id": "vFupD41hbDN-",
        "colab": {
          "base_uri": "https://localhost:8080/",
          "height": 367
        },
        "outputId": "c8aeb9a2-0942-4fa1-a6f7-23bbb9996446"
      },
      "source": [
        "weather.head()"
      ],
      "execution_count": 34,
      "outputs": [
        {
          "output_type": "execute_result",
          "data": {
            "text/html": [
              "<div>\n",
              "<style scoped>\n",
              "    .dataframe tbody tr th:only-of-type {\n",
              "        vertical-align: middle;\n",
              "    }\n",
              "\n",
              "    .dataframe tbody tr th {\n",
              "        vertical-align: top;\n",
              "    }\n",
              "\n",
              "    .dataframe thead th {\n",
              "        text-align: right;\n",
              "    }\n",
              "</style>\n",
              "<table border=\"1\" class=\"dataframe\">\n",
              "  <thead>\n",
              "    <tr style=\"text-align: right;\">\n",
              "      <th></th>\n",
              "      <th>temperatureMax</th>\n",
              "      <th>windBearing</th>\n",
              "      <th>dewPoint</th>\n",
              "      <th>cloudCover</th>\n",
              "      <th>windSpeed</th>\n",
              "      <th>pressure</th>\n",
              "      <th>apparentTemperatureHigh</th>\n",
              "      <th>precipType</th>\n",
              "      <th>visibility</th>\n",
              "      <th>humidity</th>\n",
              "      <th>apparentTemperatureLow</th>\n",
              "      <th>apparentTemperatureMax</th>\n",
              "      <th>uvIndex</th>\n",
              "      <th>temperatureLow</th>\n",
              "      <th>temperatureMin</th>\n",
              "      <th>temperatureHigh</th>\n",
              "      <th>apparentTemperatureMin</th>\n",
              "      <th>moonPhase</th>\n",
              "      <th>icon_clear-day</th>\n",
              "      <th>icon_cloudy</th>\n",
              "      <th>icon_fog</th>\n",
              "      <th>icon_partly-cloudy-day</th>\n",
              "      <th>icon_partly-cloudy-night</th>\n",
              "      <th>icon_wind</th>\n",
              "      <th>day</th>\n",
              "    </tr>\n",
              "  </thead>\n",
              "  <tbody>\n",
              "    <tr>\n",
              "      <th>0</th>\n",
              "      <td>11.96</td>\n",
              "      <td>123</td>\n",
              "      <td>9.40</td>\n",
              "      <td>0.79</td>\n",
              "      <td>3.88</td>\n",
              "      <td>1016.08</td>\n",
              "      <td>10.87</td>\n",
              "      <td>1</td>\n",
              "      <td>3.30</td>\n",
              "      <td>0.95</td>\n",
              "      <td>10.87</td>\n",
              "      <td>11.96</td>\n",
              "      <td>1.0</td>\n",
              "      <td>10.87</td>\n",
              "      <td>8.85</td>\n",
              "      <td>10.87</td>\n",
              "      <td>6.48</td>\n",
              "      <td>0.52</td>\n",
              "      <td>0</td>\n",
              "      <td>0</td>\n",
              "      <td>1</td>\n",
              "      <td>0</td>\n",
              "      <td>0</td>\n",
              "      <td>0</td>\n",
              "      <td>2011-11-11</td>\n",
              "    </tr>\n",
              "    <tr>\n",
              "      <th>1</th>\n",
              "      <td>8.59</td>\n",
              "      <td>198</td>\n",
              "      <td>4.49</td>\n",
              "      <td>0.56</td>\n",
              "      <td>3.94</td>\n",
              "      <td>1007.71</td>\n",
              "      <td>5.62</td>\n",
              "      <td>1</td>\n",
              "      <td>12.09</td>\n",
              "      <td>0.88</td>\n",
              "      <td>-0.64</td>\n",
              "      <td>5.72</td>\n",
              "      <td>1.0</td>\n",
              "      <td>3.09</td>\n",
              "      <td>2.48</td>\n",
              "      <td>8.59</td>\n",
              "      <td>0.11</td>\n",
              "      <td>0.53</td>\n",
              "      <td>0</td>\n",
              "      <td>0</td>\n",
              "      <td>0</td>\n",
              "      <td>1</td>\n",
              "      <td>0</td>\n",
              "      <td>0</td>\n",
              "      <td>2011-12-11</td>\n",
              "    </tr>\n",
              "    <tr>\n",
              "      <th>2</th>\n",
              "      <td>10.33</td>\n",
              "      <td>225</td>\n",
              "      <td>5.47</td>\n",
              "      <td>0.85</td>\n",
              "      <td>3.54</td>\n",
              "      <td>1032.76</td>\n",
              "      <td>10.33</td>\n",
              "      <td>1</td>\n",
              "      <td>13.39</td>\n",
              "      <td>0.74</td>\n",
              "      <td>5.52</td>\n",
              "      <td>10.33</td>\n",
              "      <td>0.0</td>\n",
              "      <td>8.03</td>\n",
              "      <td>8.03</td>\n",
              "      <td>10.33</td>\n",
              "      <td>5.59</td>\n",
              "      <td>0.10</td>\n",
              "      <td>0</td>\n",
              "      <td>0</td>\n",
              "      <td>0</td>\n",
              "      <td>1</td>\n",
              "      <td>0</td>\n",
              "      <td>0</td>\n",
              "      <td>2011-12-27</td>\n",
              "    </tr>\n",
              "    <tr>\n",
              "      <th>3</th>\n",
              "      <td>8.07</td>\n",
              "      <td>232</td>\n",
              "      <td>3.69</td>\n",
              "      <td>0.32</td>\n",
              "      <td>3.00</td>\n",
              "      <td>1012.12</td>\n",
              "      <td>5.33</td>\n",
              "      <td>1</td>\n",
              "      <td>11.89</td>\n",
              "      <td>0.87</td>\n",
              "      <td>3.26</td>\n",
              "      <td>5.33</td>\n",
              "      <td>1.0</td>\n",
              "      <td>6.33</td>\n",
              "      <td>2.56</td>\n",
              "      <td>7.36</td>\n",
              "      <td>0.46</td>\n",
              "      <td>0.25</td>\n",
              "      <td>0</td>\n",
              "      <td>0</td>\n",
              "      <td>0</td>\n",
              "      <td>0</td>\n",
              "      <td>0</td>\n",
              "      <td>1</td>\n",
              "      <td>2011-12-02</td>\n",
              "    </tr>\n",
              "    <tr>\n",
              "      <th>4</th>\n",
              "      <td>8.22</td>\n",
              "      <td>252</td>\n",
              "      <td>2.79</td>\n",
              "      <td>0.37</td>\n",
              "      <td>4.46</td>\n",
              "      <td>1028.17</td>\n",
              "      <td>5.02</td>\n",
              "      <td>1</td>\n",
              "      <td>13.16</td>\n",
              "      <td>0.80</td>\n",
              "      <td>4.37</td>\n",
              "      <td>5.32</td>\n",
              "      <td>1.0</td>\n",
              "      <td>7.45</td>\n",
              "      <td>3.17</td>\n",
              "      <td>7.93</td>\n",
              "      <td>-0.51</td>\n",
              "      <td>0.99</td>\n",
              "      <td>0</td>\n",
              "      <td>0</td>\n",
              "      <td>0</td>\n",
              "      <td>0</td>\n",
              "      <td>1</td>\n",
              "      <td>0</td>\n",
              "      <td>2011-12-24</td>\n",
              "    </tr>\n",
              "  </tbody>\n",
              "</table>\n",
              "</div>"
            ],
            "text/plain": [
              "   temperatureMax  windBearing  ...  icon_wind         day\n",
              "0           11.96          123  ...          0  2011-11-11\n",
              "1            8.59          198  ...          0  2011-12-11\n",
              "2           10.33          225  ...          0  2011-12-27\n",
              "3            8.07          232  ...          1  2011-12-02\n",
              "4            8.22          252  ...          0  2011-12-24\n",
              "\n",
              "[5 rows x 25 columns]"
            ]
          },
          "metadata": {
            "tags": []
          },
          "execution_count": 34
        }
      ]
    },
    {
      "cell_type": "code",
      "metadata": {
        "id": "oCURkL1AdtlZ",
        "colab": {
          "base_uri": "https://localhost:8080/"
        },
        "outputId": "00f8b4f3-6576-4064-d4ec-c21f879b4457"
      },
      "source": [
        "weather.shape"
      ],
      "execution_count": 35,
      "outputs": [
        {
          "output_type": "execute_result",
          "data": {
            "text/plain": [
              "(881, 25)"
            ]
          },
          "metadata": {
            "tags": []
          },
          "execution_count": 35
        }
      ]
    },
    {
      "cell_type": "markdown",
      "metadata": {
        "id": "r91iMWcLbIB1"
      },
      "source": [
        "#Merge Energy Dataframe with weather Dataframe"
      ]
    },
    {
      "cell_type": "code",
      "metadata": {
        "id": "KjKLD41WbDQl",
        "colab": {
          "base_uri": "https://localhost:8080/",
          "height": 177
        },
        "outputId": "82282a8e-55da-4f9f-87bd-0717219c6a7b"
      },
      "source": [
        "weather_energy =  energy.merge(weather,on='day')\n",
        "weather_energy.head(2)"
      ],
      "execution_count": 36,
      "outputs": [
        {
          "output_type": "execute_result",
          "data": {
            "text/html": [
              "<div>\n",
              "<style scoped>\n",
              "    .dataframe tbody tr th:only-of-type {\n",
              "        vertical-align: middle;\n",
              "    }\n",
              "\n",
              "    .dataframe tbody tr th {\n",
              "        vertical-align: top;\n",
              "    }\n",
              "\n",
              "    .dataframe thead th {\n",
              "        text-align: right;\n",
              "    }\n",
              "</style>\n",
              "<table border=\"1\" class=\"dataframe\">\n",
              "  <thead>\n",
              "    <tr style=\"text-align: right;\">\n",
              "      <th></th>\n",
              "      <th>day</th>\n",
              "      <th>LCLid</th>\n",
              "      <th>energy_sum</th>\n",
              "      <th>temperatureMax</th>\n",
              "      <th>windBearing</th>\n",
              "      <th>dewPoint</th>\n",
              "      <th>cloudCover</th>\n",
              "      <th>windSpeed</th>\n",
              "      <th>pressure</th>\n",
              "      <th>apparentTemperatureHigh</th>\n",
              "      <th>precipType</th>\n",
              "      <th>visibility</th>\n",
              "      <th>humidity</th>\n",
              "      <th>apparentTemperatureLow</th>\n",
              "      <th>apparentTemperatureMax</th>\n",
              "      <th>uvIndex</th>\n",
              "      <th>temperatureLow</th>\n",
              "      <th>temperatureMin</th>\n",
              "      <th>temperatureHigh</th>\n",
              "      <th>apparentTemperatureMin</th>\n",
              "      <th>moonPhase</th>\n",
              "      <th>icon_clear-day</th>\n",
              "      <th>icon_cloudy</th>\n",
              "      <th>icon_fog</th>\n",
              "      <th>icon_partly-cloudy-day</th>\n",
              "      <th>icon_partly-cloudy-night</th>\n",
              "      <th>icon_wind</th>\n",
              "    </tr>\n",
              "  </thead>\n",
              "  <tbody>\n",
              "    <tr>\n",
              "      <th>0</th>\n",
              "      <td>2012-10-12</td>\n",
              "      <td>MAC000002</td>\n",
              "      <td>7.098</td>\n",
              "      <td>11.53</td>\n",
              "      <td>252</td>\n",
              "      <td>6.15</td>\n",
              "      <td>0.29</td>\n",
              "      <td>2.18</td>\n",
              "      <td>1004.92</td>\n",
              "      <td>11.53</td>\n",
              "      <td>1</td>\n",
              "      <td>12.94</td>\n",
              "      <td>0.84</td>\n",
              "      <td>1.64</td>\n",
              "      <td>11.53</td>\n",
              "      <td>2.0</td>\n",
              "      <td>2.81</td>\n",
              "      <td>6.41</td>\n",
              "      <td>11.53</td>\n",
              "      <td>4.01</td>\n",
              "      <td>0.92</td>\n",
              "      <td>0</td>\n",
              "      <td>0</td>\n",
              "      <td>0</td>\n",
              "      <td>1</td>\n",
              "      <td>0</td>\n",
              "      <td>0</td>\n",
              "    </tr>\n",
              "    <tr>\n",
              "      <th>1</th>\n",
              "      <td>2012-10-12</td>\n",
              "      <td>MAC000246</td>\n",
              "      <td>17.245</td>\n",
              "      <td>11.53</td>\n",
              "      <td>252</td>\n",
              "      <td>6.15</td>\n",
              "      <td>0.29</td>\n",
              "      <td>2.18</td>\n",
              "      <td>1004.92</td>\n",
              "      <td>11.53</td>\n",
              "      <td>1</td>\n",
              "      <td>12.94</td>\n",
              "      <td>0.84</td>\n",
              "      <td>1.64</td>\n",
              "      <td>11.53</td>\n",
              "      <td>2.0</td>\n",
              "      <td>2.81</td>\n",
              "      <td>6.41</td>\n",
              "      <td>11.53</td>\n",
              "      <td>4.01</td>\n",
              "      <td>0.92</td>\n",
              "      <td>0</td>\n",
              "      <td>0</td>\n",
              "      <td>0</td>\n",
              "      <td>1</td>\n",
              "      <td>0</td>\n",
              "      <td>0</td>\n",
              "    </tr>\n",
              "  </tbody>\n",
              "</table>\n",
              "</div>"
            ],
            "text/plain": [
              "          day      LCLid  ...  icon_partly-cloudy-night  icon_wind\n",
              "0  2012-10-12  MAC000002  ...                         0          0\n",
              "1  2012-10-12  MAC000246  ...                         0          0\n",
              "\n",
              "[2 rows x 27 columns]"
            ]
          },
          "metadata": {
            "tags": []
          },
          "execution_count": 36
        }
      ]
    },
    {
      "cell_type": "code",
      "metadata": {
        "id": "WUgvrsKubDS9",
        "colab": {
          "base_uri": "https://localhost:8080/"
        },
        "outputId": "2989b5b1-914c-402b-b242-6c5c94ab0c6b"
      },
      "source": [
        "weather_energy.shape"
      ],
      "execution_count": 37,
      "outputs": [
        {
          "output_type": "execute_result",
          "data": {
            "text/plain": [
              "(3526707, 27)"
            ]
          },
          "metadata": {
            "tags": []
          },
          "execution_count": 37
        }
      ]
    },
    {
      "cell_type": "markdown",
      "metadata": {
        "id": "J9p1PkljQXqL"
      },
      "source": [
        "Note:<br>\n",
        "data = 3536007 - 3526707 <br>\n",
        "lost 9300"
      ]
    },
    {
      "cell_type": "markdown",
      "metadata": {
        "id": "BcF7N0gMkOP1"
      },
      "source": [
        "#Household Data"
      ]
    },
    {
      "cell_type": "code",
      "metadata": {
        "id": "jPBT9OV7bDVx",
        "colab": {
          "base_uri": "https://localhost:8080/",
          "height": 647
        },
        "outputId": "77d9ceed-639c-4d6a-935c-5e387a2378eb"
      },
      "source": [
        "informations_households = pd.read_csv(path + \"/informations_households.csv\")\n",
        "informations_households.head(20)"
      ],
      "execution_count": 38,
      "outputs": [
        {
          "output_type": "execute_result",
          "data": {
            "text/html": [
              "<div>\n",
              "<style scoped>\n",
              "    .dataframe tbody tr th:only-of-type {\n",
              "        vertical-align: middle;\n",
              "    }\n",
              "\n",
              "    .dataframe tbody tr th {\n",
              "        vertical-align: top;\n",
              "    }\n",
              "\n",
              "    .dataframe thead th {\n",
              "        text-align: right;\n",
              "    }\n",
              "</style>\n",
              "<table border=\"1\" class=\"dataframe\">\n",
              "  <thead>\n",
              "    <tr style=\"text-align: right;\">\n",
              "      <th></th>\n",
              "      <th>LCLid</th>\n",
              "      <th>stdorToU</th>\n",
              "      <th>Acorn</th>\n",
              "      <th>Acorn_grouped</th>\n",
              "      <th>file</th>\n",
              "    </tr>\n",
              "  </thead>\n",
              "  <tbody>\n",
              "    <tr>\n",
              "      <th>0</th>\n",
              "      <td>MAC005492</td>\n",
              "      <td>ToU</td>\n",
              "      <td>ACORN-</td>\n",
              "      <td>ACORN-</td>\n",
              "      <td>block_0</td>\n",
              "    </tr>\n",
              "    <tr>\n",
              "      <th>1</th>\n",
              "      <td>MAC001074</td>\n",
              "      <td>ToU</td>\n",
              "      <td>ACORN-</td>\n",
              "      <td>ACORN-</td>\n",
              "      <td>block_0</td>\n",
              "    </tr>\n",
              "    <tr>\n",
              "      <th>2</th>\n",
              "      <td>MAC000002</td>\n",
              "      <td>Std</td>\n",
              "      <td>ACORN-A</td>\n",
              "      <td>Affluent</td>\n",
              "      <td>block_0</td>\n",
              "    </tr>\n",
              "    <tr>\n",
              "      <th>3</th>\n",
              "      <td>MAC003613</td>\n",
              "      <td>Std</td>\n",
              "      <td>ACORN-A</td>\n",
              "      <td>Affluent</td>\n",
              "      <td>block_0</td>\n",
              "    </tr>\n",
              "    <tr>\n",
              "      <th>4</th>\n",
              "      <td>MAC003597</td>\n",
              "      <td>Std</td>\n",
              "      <td>ACORN-A</td>\n",
              "      <td>Affluent</td>\n",
              "      <td>block_0</td>\n",
              "    </tr>\n",
              "    <tr>\n",
              "      <th>5</th>\n",
              "      <td>MAC003579</td>\n",
              "      <td>Std</td>\n",
              "      <td>ACORN-A</td>\n",
              "      <td>Affluent</td>\n",
              "      <td>block_0</td>\n",
              "    </tr>\n",
              "    <tr>\n",
              "      <th>6</th>\n",
              "      <td>MAC003566</td>\n",
              "      <td>Std</td>\n",
              "      <td>ACORN-A</td>\n",
              "      <td>Affluent</td>\n",
              "      <td>block_0</td>\n",
              "    </tr>\n",
              "    <tr>\n",
              "      <th>7</th>\n",
              "      <td>MAC003557</td>\n",
              "      <td>Std</td>\n",
              "      <td>ACORN-A</td>\n",
              "      <td>Affluent</td>\n",
              "      <td>block_0</td>\n",
              "    </tr>\n",
              "    <tr>\n",
              "      <th>8</th>\n",
              "      <td>MAC003553</td>\n",
              "      <td>Std</td>\n",
              "      <td>ACORN-A</td>\n",
              "      <td>Affluent</td>\n",
              "      <td>block_0</td>\n",
              "    </tr>\n",
              "    <tr>\n",
              "      <th>9</th>\n",
              "      <td>MAC003482</td>\n",
              "      <td>Std</td>\n",
              "      <td>ACORN-A</td>\n",
              "      <td>Affluent</td>\n",
              "      <td>block_0</td>\n",
              "    </tr>\n",
              "    <tr>\n",
              "      <th>10</th>\n",
              "      <td>MAC003463</td>\n",
              "      <td>Std</td>\n",
              "      <td>ACORN-A</td>\n",
              "      <td>Affluent</td>\n",
              "      <td>block_0</td>\n",
              "    </tr>\n",
              "    <tr>\n",
              "      <th>11</th>\n",
              "      <td>MAC003449</td>\n",
              "      <td>Std</td>\n",
              "      <td>ACORN-A</td>\n",
              "      <td>Affluent</td>\n",
              "      <td>block_0</td>\n",
              "    </tr>\n",
              "    <tr>\n",
              "      <th>12</th>\n",
              "      <td>MAC003428</td>\n",
              "      <td>Std</td>\n",
              "      <td>ACORN-A</td>\n",
              "      <td>Affluent</td>\n",
              "      <td>block_0</td>\n",
              "    </tr>\n",
              "    <tr>\n",
              "      <th>13</th>\n",
              "      <td>MAC003423</td>\n",
              "      <td>Std</td>\n",
              "      <td>ACORN-A</td>\n",
              "      <td>Affluent</td>\n",
              "      <td>block_0</td>\n",
              "    </tr>\n",
              "    <tr>\n",
              "      <th>14</th>\n",
              "      <td>MAC003422</td>\n",
              "      <td>Std</td>\n",
              "      <td>ACORN-A</td>\n",
              "      <td>Affluent</td>\n",
              "      <td>block_0</td>\n",
              "    </tr>\n",
              "    <tr>\n",
              "      <th>15</th>\n",
              "      <td>MAC003400</td>\n",
              "      <td>Std</td>\n",
              "      <td>ACORN-A</td>\n",
              "      <td>Affluent</td>\n",
              "      <td>block_0</td>\n",
              "    </tr>\n",
              "    <tr>\n",
              "      <th>16</th>\n",
              "      <td>MAC003394</td>\n",
              "      <td>Std</td>\n",
              "      <td>ACORN-A</td>\n",
              "      <td>Affluent</td>\n",
              "      <td>block_0</td>\n",
              "    </tr>\n",
              "    <tr>\n",
              "      <th>17</th>\n",
              "      <td>MAC003388</td>\n",
              "      <td>Std</td>\n",
              "      <td>ACORN-A</td>\n",
              "      <td>Affluent</td>\n",
              "      <td>block_0</td>\n",
              "    </tr>\n",
              "    <tr>\n",
              "      <th>18</th>\n",
              "      <td>MAC003348</td>\n",
              "      <td>Std</td>\n",
              "      <td>ACORN-A</td>\n",
              "      <td>Affluent</td>\n",
              "      <td>block_0</td>\n",
              "    </tr>\n",
              "    <tr>\n",
              "      <th>19</th>\n",
              "      <td>MAC000246</td>\n",
              "      <td>Std</td>\n",
              "      <td>ACORN-A</td>\n",
              "      <td>Affluent</td>\n",
              "      <td>block_0</td>\n",
              "    </tr>\n",
              "  </tbody>\n",
              "</table>\n",
              "</div>"
            ],
            "text/plain": [
              "        LCLid stdorToU    Acorn Acorn_grouped     file\n",
              "0   MAC005492      ToU   ACORN-        ACORN-  block_0\n",
              "1   MAC001074      ToU   ACORN-        ACORN-  block_0\n",
              "2   MAC000002      Std  ACORN-A      Affluent  block_0\n",
              "3   MAC003613      Std  ACORN-A      Affluent  block_0\n",
              "4   MAC003597      Std  ACORN-A      Affluent  block_0\n",
              "5   MAC003579      Std  ACORN-A      Affluent  block_0\n",
              "6   MAC003566      Std  ACORN-A      Affluent  block_0\n",
              "7   MAC003557      Std  ACORN-A      Affluent  block_0\n",
              "8   MAC003553      Std  ACORN-A      Affluent  block_0\n",
              "9   MAC003482      Std  ACORN-A      Affluent  block_0\n",
              "10  MAC003463      Std  ACORN-A      Affluent  block_0\n",
              "11  MAC003449      Std  ACORN-A      Affluent  block_0\n",
              "12  MAC003428      Std  ACORN-A      Affluent  block_0\n",
              "13  MAC003423      Std  ACORN-A      Affluent  block_0\n",
              "14  MAC003422      Std  ACORN-A      Affluent  block_0\n",
              "15  MAC003400      Std  ACORN-A      Affluent  block_0\n",
              "16  MAC003394      Std  ACORN-A      Affluent  block_0\n",
              "17  MAC003388      Std  ACORN-A      Affluent  block_0\n",
              "18  MAC003348      Std  ACORN-A      Affluent  block_0\n",
              "19  MAC000246      Std  ACORN-A      Affluent  block_0"
            ]
          },
          "metadata": {
            "tags": []
          },
          "execution_count": 38
        }
      ]
    },
    {
      "cell_type": "code",
      "metadata": {
        "id": "-lXdzHKOdYRU",
        "colab": {
          "base_uri": "https://localhost:8080/"
        },
        "outputId": "031e06c4-f15c-4990-b8d1-9ce7f53f06d2"
      },
      "source": [
        "informations_households.stdorToU.unique()"
      ],
      "execution_count": 39,
      "outputs": [
        {
          "output_type": "execute_result",
          "data": {
            "text/plain": [
              "array(['ToU', 'Std'], dtype=object)"
            ]
          },
          "metadata": {
            "tags": []
          },
          "execution_count": 39
        }
      ]
    },
    {
      "cell_type": "code",
      "metadata": {
        "id": "y6NE21fFdYT_"
      },
      "source": [
        "informations_households[\"stdorToU\"].replace({\"ToU\": 1, \"Std\": 0}, inplace=True)"
      ],
      "execution_count": 40,
      "outputs": []
    },
    {
      "cell_type": "code",
      "metadata": {
        "id": "p-ZcsElmdYWx",
        "colab": {
          "base_uri": "https://localhost:8080/"
        },
        "outputId": "238d059e-7d30-4dd6-b53d-a59aac89ae60"
      },
      "source": [
        "informations_households.Acorn.unique() #first trial without it without it"
      ],
      "execution_count": 41,
      "outputs": [
        {
          "output_type": "execute_result",
          "data": {
            "text/plain": [
              "array(['ACORN-', 'ACORN-A', 'ACORN-B', 'ACORN-C', 'ACORN-D', 'ACORN-E',\n",
              "       'ACORN-F', 'ACORN-G', 'ACORN-H', 'ACORN-I', 'ACORN-J', 'ACORN-K',\n",
              "       'ACORN-L', 'ACORN-M', 'ACORN-N', 'ACORN-O', 'ACORN-P', 'ACORN-Q',\n",
              "       'ACORN-U'], dtype=object)"
            ]
          },
          "metadata": {
            "tags": []
          },
          "execution_count": 41
        }
      ]
    },
    {
      "cell_type": "code",
      "metadata": {
        "id": "IcE1OZTxdYZl",
        "colab": {
          "base_uri": "https://localhost:8080/"
        },
        "outputId": "2aa38981-7210-47d1-d7db-082ec3d181d7"
      },
      "source": [
        "informations_households.Acorn_grouped.unique()"
      ],
      "execution_count": 42,
      "outputs": [
        {
          "output_type": "execute_result",
          "data": {
            "text/plain": [
              "array(['ACORN-', 'Affluent', 'Comfortable', 'Adversity', 'ACORN-U'],\n",
              "      dtype=object)"
            ]
          },
          "metadata": {
            "tags": []
          },
          "execution_count": 42
        }
      ]
    },
    {
      "cell_type": "code",
      "metadata": {
        "id": "Qqb4WvwUdYcp"
      },
      "source": [
        "#Acorn_one_hot_decoded = pd.get_dummies(informations_households.Acorn_grouped,prefix='Acorn')"
      ],
      "execution_count": 43,
      "outputs": []
    },
    {
      "cell_type": "code",
      "metadata": {
        "id": "Wq_4z6Brh29S"
      },
      "source": [
        "#Acorn_one_hot_decoded.head()"
      ],
      "execution_count": 44,
      "outputs": []
    },
    {
      "cell_type": "markdown",
      "metadata": {
        "id": "NGfjPGnXRJ_O"
      },
      "source": [
        "#Try Label Encoding "
      ]
    },
    {
      "cell_type": "code",
      "metadata": {
        "id": "yq7ovWbPRKIz"
      },
      "source": [
        "from sklearn import preprocessing \n",
        "label_encoder = preprocessing.LabelEncoder() \n",
        "informations_households['Acorn_grouped'] = label_encoder.fit_transform(informations_households['Acorn_grouped'])\n",
        "informations_households['file'] = label_encoder.fit_transform(informations_households['file'])\n"
      ],
      "execution_count": 45,
      "outputs": []
    },
    {
      "cell_type": "code",
      "metadata": {
        "id": "xHwAM2j8RKLR",
        "colab": {
          "base_uri": "https://localhost:8080/",
          "height": 197
        },
        "outputId": "2aa69a24-8a87-476c-9103-a2e9ed0ae77a"
      },
      "source": [
        "informations_households.head()"
      ],
      "execution_count": 46,
      "outputs": [
        {
          "output_type": "execute_result",
          "data": {
            "text/html": [
              "<div>\n",
              "<style scoped>\n",
              "    .dataframe tbody tr th:only-of-type {\n",
              "        vertical-align: middle;\n",
              "    }\n",
              "\n",
              "    .dataframe tbody tr th {\n",
              "        vertical-align: top;\n",
              "    }\n",
              "\n",
              "    .dataframe thead th {\n",
              "        text-align: right;\n",
              "    }\n",
              "</style>\n",
              "<table border=\"1\" class=\"dataframe\">\n",
              "  <thead>\n",
              "    <tr style=\"text-align: right;\">\n",
              "      <th></th>\n",
              "      <th>LCLid</th>\n",
              "      <th>stdorToU</th>\n",
              "      <th>Acorn</th>\n",
              "      <th>Acorn_grouped</th>\n",
              "      <th>file</th>\n",
              "    </tr>\n",
              "  </thead>\n",
              "  <tbody>\n",
              "    <tr>\n",
              "      <th>0</th>\n",
              "      <td>MAC005492</td>\n",
              "      <td>1</td>\n",
              "      <td>ACORN-</td>\n",
              "      <td>0</td>\n",
              "      <td>0</td>\n",
              "    </tr>\n",
              "    <tr>\n",
              "      <th>1</th>\n",
              "      <td>MAC001074</td>\n",
              "      <td>1</td>\n",
              "      <td>ACORN-</td>\n",
              "      <td>0</td>\n",
              "      <td>0</td>\n",
              "    </tr>\n",
              "    <tr>\n",
              "      <th>2</th>\n",
              "      <td>MAC000002</td>\n",
              "      <td>0</td>\n",
              "      <td>ACORN-A</td>\n",
              "      <td>3</td>\n",
              "      <td>0</td>\n",
              "    </tr>\n",
              "    <tr>\n",
              "      <th>3</th>\n",
              "      <td>MAC003613</td>\n",
              "      <td>0</td>\n",
              "      <td>ACORN-A</td>\n",
              "      <td>3</td>\n",
              "      <td>0</td>\n",
              "    </tr>\n",
              "    <tr>\n",
              "      <th>4</th>\n",
              "      <td>MAC003597</td>\n",
              "      <td>0</td>\n",
              "      <td>ACORN-A</td>\n",
              "      <td>3</td>\n",
              "      <td>0</td>\n",
              "    </tr>\n",
              "  </tbody>\n",
              "</table>\n",
              "</div>"
            ],
            "text/plain": [
              "       LCLid  stdorToU    Acorn  Acorn_grouped  file\n",
              "0  MAC005492         1   ACORN-              0     0\n",
              "1  MAC001074         1   ACORN-              0     0\n",
              "2  MAC000002         0  ACORN-A              3     0\n",
              "3  MAC003613         0  ACORN-A              3     0\n",
              "4  MAC003597         0  ACORN-A              3     0"
            ]
          },
          "metadata": {
            "tags": []
          },
          "execution_count": 46
        }
      ]
    },
    {
      "cell_type": "code",
      "metadata": {
        "id": "1xWdsnZqh3AC"
      },
      "source": [
        "#informations_households = pd.concat([informations_households, Acorn_one_hot_decoded], axis=1)\n"
      ],
      "execution_count": 47,
      "outputs": []
    },
    {
      "cell_type": "code",
      "metadata": {
        "id": "CtIkLEagjuLl"
      },
      "source": [
        "#informations_households = informations_households.rename(columns={\"file\": \"block\"})\n"
      ],
      "execution_count": 48,
      "outputs": []
    },
    {
      "cell_type": "code",
      "metadata": {
        "id": "4PTez4YNdYfn"
      },
      "source": [
        "#informations_households.block.unique()"
      ],
      "execution_count": 49,
      "outputs": []
    },
    {
      "cell_type": "code",
      "metadata": {
        "id": "bgdkKh9udYiU"
      },
      "source": [
        "#block_one_hot_decoded = pd.get_dummies(informations_households.block)"
      ],
      "execution_count": 50,
      "outputs": []
    },
    {
      "cell_type": "code",
      "metadata": {
        "id": "fhxPgASkdYlZ"
      },
      "source": [
        "#block_one_hot_decoded.head()"
      ],
      "execution_count": 51,
      "outputs": []
    },
    {
      "cell_type": "code",
      "metadata": {
        "id": "pHdWk-mZYoUK"
      },
      "source": [
        "#informations_households['block'].astype('category')"
      ],
      "execution_count": 52,
      "outputs": []
    },
    {
      "cell_type": "code",
      "metadata": {
        "id": "_W6N5541X9UF"
      },
      "source": [
        "#informations_households['block'] = informations_households['block'].cat.codes"
      ],
      "execution_count": 53,
      "outputs": []
    },
    {
      "cell_type": "code",
      "metadata": {
        "id": "_d-I9g9vdYoT"
      },
      "source": [
        "#informations_households = pd.concat([informations_households, block_one_hot_decoded], axis=1)\n"
      ],
      "execution_count": 54,
      "outputs": []
    },
    {
      "cell_type": "code",
      "metadata": {
        "id": "-c4GVCqBk2Sn"
      },
      "source": [
        "#informations_households.head()"
      ],
      "execution_count": 55,
      "outputs": []
    },
    {
      "cell_type": "code",
      "metadata": {
        "id": "AzXw_llVS7Qt"
      },
      "source": [
        "informations_households = informations_households.drop(['Acorn'], axis=1)\n",
        "\n",
        "\n"
      ],
      "execution_count": 56,
      "outputs": []
    },
    {
      "cell_type": "markdown",
      "metadata": {
        "id": "yt2f4FT0lGxd"
      },
      "source": [
        "#Merge household data to dataset"
      ]
    },
    {
      "cell_type": "code",
      "metadata": {
        "id": "kxY2RrZvk2VR"
      },
      "source": [
        "data =  weather_energy.merge(informations_households,on='LCLid')\n"
      ],
      "execution_count": 57,
      "outputs": []
    },
    {
      "cell_type": "code",
      "metadata": {
        "id": "bYjH2mBlk2Xe",
        "colab": {
          "base_uri": "https://localhost:8080/",
          "height": 317
        },
        "outputId": "52ef88f0-713d-4a1e-c08c-5f2a5b65b39a"
      },
      "source": [
        "data.head()"
      ],
      "execution_count": 58,
      "outputs": [
        {
          "output_type": "execute_result",
          "data": {
            "text/html": [
              "<div>\n",
              "<style scoped>\n",
              "    .dataframe tbody tr th:only-of-type {\n",
              "        vertical-align: middle;\n",
              "    }\n",
              "\n",
              "    .dataframe tbody tr th {\n",
              "        vertical-align: top;\n",
              "    }\n",
              "\n",
              "    .dataframe thead th {\n",
              "        text-align: right;\n",
              "    }\n",
              "</style>\n",
              "<table border=\"1\" class=\"dataframe\">\n",
              "  <thead>\n",
              "    <tr style=\"text-align: right;\">\n",
              "      <th></th>\n",
              "      <th>day</th>\n",
              "      <th>LCLid</th>\n",
              "      <th>energy_sum</th>\n",
              "      <th>temperatureMax</th>\n",
              "      <th>windBearing</th>\n",
              "      <th>dewPoint</th>\n",
              "      <th>cloudCover</th>\n",
              "      <th>windSpeed</th>\n",
              "      <th>pressure</th>\n",
              "      <th>apparentTemperatureHigh</th>\n",
              "      <th>precipType</th>\n",
              "      <th>visibility</th>\n",
              "      <th>humidity</th>\n",
              "      <th>apparentTemperatureLow</th>\n",
              "      <th>apparentTemperatureMax</th>\n",
              "      <th>uvIndex</th>\n",
              "      <th>temperatureLow</th>\n",
              "      <th>temperatureMin</th>\n",
              "      <th>temperatureHigh</th>\n",
              "      <th>apparentTemperatureMin</th>\n",
              "      <th>moonPhase</th>\n",
              "      <th>icon_clear-day</th>\n",
              "      <th>icon_cloudy</th>\n",
              "      <th>icon_fog</th>\n",
              "      <th>icon_partly-cloudy-day</th>\n",
              "      <th>icon_partly-cloudy-night</th>\n",
              "      <th>icon_wind</th>\n",
              "      <th>stdorToU</th>\n",
              "      <th>Acorn_grouped</th>\n",
              "      <th>file</th>\n",
              "    </tr>\n",
              "  </thead>\n",
              "  <tbody>\n",
              "    <tr>\n",
              "      <th>0</th>\n",
              "      <td>2012-10-12</td>\n",
              "      <td>MAC000002</td>\n",
              "      <td>7.098</td>\n",
              "      <td>11.53</td>\n",
              "      <td>252</td>\n",
              "      <td>6.15</td>\n",
              "      <td>0.29</td>\n",
              "      <td>2.18</td>\n",
              "      <td>1004.92</td>\n",
              "      <td>11.53</td>\n",
              "      <td>1</td>\n",
              "      <td>12.94</td>\n",
              "      <td>0.84</td>\n",
              "      <td>1.64</td>\n",
              "      <td>11.53</td>\n",
              "      <td>2.0</td>\n",
              "      <td>2.81</td>\n",
              "      <td>6.41</td>\n",
              "      <td>11.53</td>\n",
              "      <td>4.01</td>\n",
              "      <td>0.92</td>\n",
              "      <td>0</td>\n",
              "      <td>0</td>\n",
              "      <td>0</td>\n",
              "      <td>1</td>\n",
              "      <td>0</td>\n",
              "      <td>0</td>\n",
              "      <td>0</td>\n",
              "      <td>3</td>\n",
              "      <td>0</td>\n",
              "    </tr>\n",
              "    <tr>\n",
              "      <th>1</th>\n",
              "      <td>2012-10-12</td>\n",
              "      <td>MAC000002</td>\n",
              "      <td>7.098</td>\n",
              "      <td>11.53</td>\n",
              "      <td>252</td>\n",
              "      <td>6.15</td>\n",
              "      <td>0.29</td>\n",
              "      <td>2.18</td>\n",
              "      <td>1004.92</td>\n",
              "      <td>11.53</td>\n",
              "      <td>1</td>\n",
              "      <td>12.94</td>\n",
              "      <td>0.84</td>\n",
              "      <td>1.64</td>\n",
              "      <td>11.53</td>\n",
              "      <td>2.0</td>\n",
              "      <td>2.81</td>\n",
              "      <td>6.41</td>\n",
              "      <td>11.53</td>\n",
              "      <td>4.01</td>\n",
              "      <td>0.92</td>\n",
              "      <td>0</td>\n",
              "      <td>0</td>\n",
              "      <td>0</td>\n",
              "      <td>1</td>\n",
              "      <td>0</td>\n",
              "      <td>0</td>\n",
              "      <td>0</td>\n",
              "      <td>3</td>\n",
              "      <td>0</td>\n",
              "    </tr>\n",
              "    <tr>\n",
              "      <th>2</th>\n",
              "      <td>2012-10-13</td>\n",
              "      <td>MAC000002</td>\n",
              "      <td>11.087</td>\n",
              "      <td>12.32</td>\n",
              "      <td>300</td>\n",
              "      <td>4.10</td>\n",
              "      <td>0.20</td>\n",
              "      <td>2.36</td>\n",
              "      <td>1002.50</td>\n",
              "      <td>12.32</td>\n",
              "      <td>1</td>\n",
              "      <td>11.86</td>\n",
              "      <td>0.80</td>\n",
              "      <td>2.83</td>\n",
              "      <td>12.32</td>\n",
              "      <td>2.0</td>\n",
              "      <td>4.09</td>\n",
              "      <td>2.81</td>\n",
              "      <td>12.32</td>\n",
              "      <td>1.64</td>\n",
              "      <td>0.96</td>\n",
              "      <td>0</td>\n",
              "      <td>0</td>\n",
              "      <td>0</td>\n",
              "      <td>1</td>\n",
              "      <td>0</td>\n",
              "      <td>0</td>\n",
              "      <td>0</td>\n",
              "      <td>3</td>\n",
              "      <td>0</td>\n",
              "    </tr>\n",
              "    <tr>\n",
              "      <th>3</th>\n",
              "      <td>2012-10-13</td>\n",
              "      <td>MAC000002</td>\n",
              "      <td>11.087</td>\n",
              "      <td>12.32</td>\n",
              "      <td>300</td>\n",
              "      <td>4.10</td>\n",
              "      <td>0.20</td>\n",
              "      <td>2.36</td>\n",
              "      <td>1002.50</td>\n",
              "      <td>12.32</td>\n",
              "      <td>1</td>\n",
              "      <td>11.86</td>\n",
              "      <td>0.80</td>\n",
              "      <td>2.83</td>\n",
              "      <td>12.32</td>\n",
              "      <td>2.0</td>\n",
              "      <td>4.09</td>\n",
              "      <td>2.81</td>\n",
              "      <td>12.32</td>\n",
              "      <td>1.64</td>\n",
              "      <td>0.96</td>\n",
              "      <td>0</td>\n",
              "      <td>0</td>\n",
              "      <td>0</td>\n",
              "      <td>1</td>\n",
              "      <td>0</td>\n",
              "      <td>0</td>\n",
              "      <td>0</td>\n",
              "      <td>3</td>\n",
              "      <td>0</td>\n",
              "    </tr>\n",
              "    <tr>\n",
              "      <th>4</th>\n",
              "      <td>2012-10-14</td>\n",
              "      <td>MAC000002</td>\n",
              "      <td>13.223</td>\n",
              "      <td>13.03</td>\n",
              "      <td>220</td>\n",
              "      <td>6.39</td>\n",
              "      <td>0.31</td>\n",
              "      <td>2.97</td>\n",
              "      <td>1002.67</td>\n",
              "      <td>13.03</td>\n",
              "      <td>1</td>\n",
              "      <td>12.17</td>\n",
              "      <td>0.84</td>\n",
              "      <td>7.15</td>\n",
              "      <td>13.03</td>\n",
              "      <td>1.0</td>\n",
              "      <td>9.81</td>\n",
              "      <td>4.09</td>\n",
              "      <td>13.03</td>\n",
              "      <td>2.83</td>\n",
              "      <td>0.99</td>\n",
              "      <td>0</td>\n",
              "      <td>0</td>\n",
              "      <td>0</td>\n",
              "      <td>1</td>\n",
              "      <td>0</td>\n",
              "      <td>0</td>\n",
              "      <td>0</td>\n",
              "      <td>3</td>\n",
              "      <td>0</td>\n",
              "    </tr>\n",
              "  </tbody>\n",
              "</table>\n",
              "</div>"
            ],
            "text/plain": [
              "          day      LCLid  energy_sum  ...  stdorToU  Acorn_grouped  file\n",
              "0  2012-10-12  MAC000002       7.098  ...         0              3     0\n",
              "1  2012-10-12  MAC000002       7.098  ...         0              3     0\n",
              "2  2012-10-13  MAC000002      11.087  ...         0              3     0\n",
              "3  2012-10-13  MAC000002      11.087  ...         0              3     0\n",
              "4  2012-10-14  MAC000002      13.223  ...         0              3     0\n",
              "\n",
              "[5 rows x 30 columns]"
            ]
          },
          "metadata": {
            "tags": []
          },
          "execution_count": 58
        }
      ]
    },
    {
      "cell_type": "code",
      "metadata": {
        "id": "OUEm_AN2k2aB",
        "colab": {
          "base_uri": "https://localhost:8080/"
        },
        "outputId": "6c40e3dd-a1c6-43ab-f370-209d20e48d5a"
      },
      "source": [
        "data.shape"
      ],
      "execution_count": 59,
      "outputs": [
        {
          "output_type": "execute_result",
          "data": {
            "text/plain": [
              "(3526707, 30)"
            ]
          },
          "metadata": {
            "tags": []
          },
          "execution_count": 59
        }
      ]
    },
    {
      "cell_type": "code",
      "metadata": {
        "id": "neLGdm1rx-9F"
      },
      "source": [
        "#weather.shape"
      ],
      "execution_count": 60,
      "outputs": []
    },
    {
      "cell_type": "code",
      "metadata": {
        "id": "al3d_YNWyRyL"
      },
      "source": [
        "#weather.head()"
      ],
      "execution_count": 61,
      "outputs": []
    },
    {
      "cell_type": "markdown",
      "metadata": {
        "id": "gDEKRlJgxxMV"
      },
      "source": [
        "# Holiday Data\n"
      ]
    },
    {
      "cell_type": "code",
      "metadata": {
        "id": "PnUvd5vtPHCd"
      },
      "source": [
        "holiday = pd.read_csv(path + \"/uk_bank_holidays.csv\")\n"
      ],
      "execution_count": 62,
      "outputs": []
    },
    {
      "cell_type": "code",
      "metadata": {
        "id": "rbJ95JxYmhZE",
        "colab": {
          "base_uri": "https://localhost:8080/",
          "height": 197
        },
        "outputId": "091726a2-5aef-4834-c3be-d98bce6e94a3"
      },
      "source": [
        "holiday.head()"
      ],
      "execution_count": 63,
      "outputs": [
        {
          "output_type": "execute_result",
          "data": {
            "text/html": [
              "<div>\n",
              "<style scoped>\n",
              "    .dataframe tbody tr th:only-of-type {\n",
              "        vertical-align: middle;\n",
              "    }\n",
              "\n",
              "    .dataframe tbody tr th {\n",
              "        vertical-align: top;\n",
              "    }\n",
              "\n",
              "    .dataframe thead th {\n",
              "        text-align: right;\n",
              "    }\n",
              "</style>\n",
              "<table border=\"1\" class=\"dataframe\">\n",
              "  <thead>\n",
              "    <tr style=\"text-align: right;\">\n",
              "      <th></th>\n",
              "      <th>Bank holidays</th>\n",
              "      <th>Type</th>\n",
              "    </tr>\n",
              "  </thead>\n",
              "  <tbody>\n",
              "    <tr>\n",
              "      <th>0</th>\n",
              "      <td>2012-12-26</td>\n",
              "      <td>Boxing Day</td>\n",
              "    </tr>\n",
              "    <tr>\n",
              "      <th>1</th>\n",
              "      <td>2012-12-25</td>\n",
              "      <td>Christmas Day</td>\n",
              "    </tr>\n",
              "    <tr>\n",
              "      <th>2</th>\n",
              "      <td>2012-08-27</td>\n",
              "      <td>Summer bank holiday</td>\n",
              "    </tr>\n",
              "    <tr>\n",
              "      <th>3</th>\n",
              "      <td>2012-05-06</td>\n",
              "      <td>Queen?s Diamond Jubilee (extra bank holiday)</td>\n",
              "    </tr>\n",
              "    <tr>\n",
              "      <th>4</th>\n",
              "      <td>2012-04-06</td>\n",
              "      <td>Spring bank holiday (substitute day)</td>\n",
              "    </tr>\n",
              "  </tbody>\n",
              "</table>\n",
              "</div>"
            ],
            "text/plain": [
              "  Bank holidays                                          Type\n",
              "0    2012-12-26                                    Boxing Day\n",
              "1    2012-12-25                                 Christmas Day\n",
              "2    2012-08-27                           Summer bank holiday\n",
              "3    2012-05-06  Queen?s Diamond Jubilee (extra bank holiday)\n",
              "4    2012-04-06          Spring bank holiday (substitute day)"
            ]
          },
          "metadata": {
            "tags": []
          },
          "execution_count": 63
        }
      ]
    },
    {
      "cell_type": "code",
      "metadata": {
        "id": "ONDEBupxnCpZ"
      },
      "source": [
        "#uk_bank_holidays = uk_bank_holidays.rename(columns={\"Bank holidays\": \"day\"})\n",
        "holiday['Bank holidays'] = pd.to_datetime(holiday['Bank holidays'],format='%Y-%m-%d').dt.date"
      ],
      "execution_count": 64,
      "outputs": []
    },
    {
      "cell_type": "code",
      "metadata": {
        "id": "igB-OcNe_BX4",
        "colab": {
          "base_uri": "https://localhost:8080/",
          "height": 167
        },
        "outputId": "b8eff724-eee5-448f-bb09-7692f22bdad3"
      },
      "source": [
        "holiday.head(4)\n"
      ],
      "execution_count": 65,
      "outputs": [
        {
          "output_type": "execute_result",
          "data": {
            "text/html": [
              "<div>\n",
              "<style scoped>\n",
              "    .dataframe tbody tr th:only-of-type {\n",
              "        vertical-align: middle;\n",
              "    }\n",
              "\n",
              "    .dataframe tbody tr th {\n",
              "        vertical-align: top;\n",
              "    }\n",
              "\n",
              "    .dataframe thead th {\n",
              "        text-align: right;\n",
              "    }\n",
              "</style>\n",
              "<table border=\"1\" class=\"dataframe\">\n",
              "  <thead>\n",
              "    <tr style=\"text-align: right;\">\n",
              "      <th></th>\n",
              "      <th>Bank holidays</th>\n",
              "      <th>Type</th>\n",
              "    </tr>\n",
              "  </thead>\n",
              "  <tbody>\n",
              "    <tr>\n",
              "      <th>0</th>\n",
              "      <td>2012-12-26</td>\n",
              "      <td>Boxing Day</td>\n",
              "    </tr>\n",
              "    <tr>\n",
              "      <th>1</th>\n",
              "      <td>2012-12-25</td>\n",
              "      <td>Christmas Day</td>\n",
              "    </tr>\n",
              "    <tr>\n",
              "      <th>2</th>\n",
              "      <td>2012-08-27</td>\n",
              "      <td>Summer bank holiday</td>\n",
              "    </tr>\n",
              "    <tr>\n",
              "      <th>3</th>\n",
              "      <td>2012-05-06</td>\n",
              "      <td>Queen?s Diamond Jubilee (extra bank holiday)</td>\n",
              "    </tr>\n",
              "  </tbody>\n",
              "</table>\n",
              "</div>"
            ],
            "text/plain": [
              "  Bank holidays                                          Type\n",
              "0    2012-12-26                                    Boxing Day\n",
              "1    2012-12-25                                 Christmas Day\n",
              "2    2012-08-27                           Summer bank holiday\n",
              "3    2012-05-06  Queen?s Diamond Jubilee (extra bank holiday)"
            ]
          },
          "metadata": {
            "tags": []
          },
          "execution_count": 65
        }
      ]
    },
    {
      "cell_type": "code",
      "metadata": {
        "id": "4jLpnnLomkIw"
      },
      "source": [
        "#uk_bank_holidays.day = pd.to_datetime(uk_bank_holidays.day ,format='%Y-%m-%d').dt.date"
      ],
      "execution_count": 66,
      "outputs": []
    },
    {
      "cell_type": "code",
      "metadata": {
        "id": "lDPjQT-5tzDY"
      },
      "source": [
        "#uk_bank_holidays.day.unique()"
      ],
      "execution_count": 67,
      "outputs": []
    },
    {
      "cell_type": "code",
      "metadata": {
        "id": "v_c46BEGpXE2"
      },
      "source": [
        "#uk_bank_holidays['Type'] = 1"
      ],
      "execution_count": 68,
      "outputs": []
    },
    {
      "cell_type": "code",
      "metadata": {
        "id": "FCWzBUH8pgjX"
      },
      "source": [
        "#uk_bank_holidays.head()"
      ],
      "execution_count": 69,
      "outputs": []
    },
    {
      "cell_type": "code",
      "metadata": {
        "id": "w-CoyWcGpltl"
      },
      "source": [
        "#uk_bank_holidays.shape"
      ],
      "execution_count": 70,
      "outputs": []
    },
    {
      "cell_type": "markdown",
      "metadata": {
        "id": "vbEq9FBnntQp"
      },
      "source": [
        "#Merge holidays"
      ]
    },
    {
      "cell_type": "code",
      "metadata": {
        "id": "Aeg1tjzU_Jt3"
      },
      "source": [
        "import numpy as np\n",
        "data = data.merge(holiday, left_on = 'day',right_on = 'Bank holidays',how = 'left')\n",
        "data['holiday_ind'] = np.where(data['Bank holidays'].isna(),0,1)"
      ],
      "execution_count": 71,
      "outputs": []
    },
    {
      "cell_type": "code",
      "metadata": {
        "id": "-XniWyUH_J0Q",
        "colab": {
          "base_uri": "https://localhost:8080/"
        },
        "outputId": "be164f63-cd77-4784-ef3d-d3fd1829abab"
      },
      "source": [
        "data.shape"
      ],
      "execution_count": 72,
      "outputs": [
        {
          "output_type": "execute_result",
          "data": {
            "text/plain": [
              "(3526707, 33)"
            ]
          },
          "metadata": {
            "tags": []
          },
          "execution_count": 72
        }
      ]
    },
    {
      "cell_type": "code",
      "metadata": {
        "id": "Ru0e8-Hs_J2-",
        "colab": {
          "base_uri": "https://localhost:8080/",
          "height": 317
        },
        "outputId": "399c5180-5a17-49ae-8aea-4514ee3d0f2b"
      },
      "source": [
        "data.head()"
      ],
      "execution_count": 73,
      "outputs": [
        {
          "output_type": "execute_result",
          "data": {
            "text/html": [
              "<div>\n",
              "<style scoped>\n",
              "    .dataframe tbody tr th:only-of-type {\n",
              "        vertical-align: middle;\n",
              "    }\n",
              "\n",
              "    .dataframe tbody tr th {\n",
              "        vertical-align: top;\n",
              "    }\n",
              "\n",
              "    .dataframe thead th {\n",
              "        text-align: right;\n",
              "    }\n",
              "</style>\n",
              "<table border=\"1\" class=\"dataframe\">\n",
              "  <thead>\n",
              "    <tr style=\"text-align: right;\">\n",
              "      <th></th>\n",
              "      <th>day</th>\n",
              "      <th>LCLid</th>\n",
              "      <th>energy_sum</th>\n",
              "      <th>temperatureMax</th>\n",
              "      <th>windBearing</th>\n",
              "      <th>dewPoint</th>\n",
              "      <th>cloudCover</th>\n",
              "      <th>windSpeed</th>\n",
              "      <th>pressure</th>\n",
              "      <th>apparentTemperatureHigh</th>\n",
              "      <th>precipType</th>\n",
              "      <th>visibility</th>\n",
              "      <th>humidity</th>\n",
              "      <th>apparentTemperatureLow</th>\n",
              "      <th>apparentTemperatureMax</th>\n",
              "      <th>uvIndex</th>\n",
              "      <th>temperatureLow</th>\n",
              "      <th>temperatureMin</th>\n",
              "      <th>temperatureHigh</th>\n",
              "      <th>apparentTemperatureMin</th>\n",
              "      <th>moonPhase</th>\n",
              "      <th>icon_clear-day</th>\n",
              "      <th>icon_cloudy</th>\n",
              "      <th>icon_fog</th>\n",
              "      <th>icon_partly-cloudy-day</th>\n",
              "      <th>icon_partly-cloudy-night</th>\n",
              "      <th>icon_wind</th>\n",
              "      <th>stdorToU</th>\n",
              "      <th>Acorn_grouped</th>\n",
              "      <th>file</th>\n",
              "      <th>Bank holidays</th>\n",
              "      <th>Type</th>\n",
              "      <th>holiday_ind</th>\n",
              "    </tr>\n",
              "  </thead>\n",
              "  <tbody>\n",
              "    <tr>\n",
              "      <th>0</th>\n",
              "      <td>2012-10-12</td>\n",
              "      <td>MAC000002</td>\n",
              "      <td>7.098</td>\n",
              "      <td>11.53</td>\n",
              "      <td>252</td>\n",
              "      <td>6.15</td>\n",
              "      <td>0.29</td>\n",
              "      <td>2.18</td>\n",
              "      <td>1004.92</td>\n",
              "      <td>11.53</td>\n",
              "      <td>1</td>\n",
              "      <td>12.94</td>\n",
              "      <td>0.84</td>\n",
              "      <td>1.64</td>\n",
              "      <td>11.53</td>\n",
              "      <td>2.0</td>\n",
              "      <td>2.81</td>\n",
              "      <td>6.41</td>\n",
              "      <td>11.53</td>\n",
              "      <td>4.01</td>\n",
              "      <td>0.92</td>\n",
              "      <td>0</td>\n",
              "      <td>0</td>\n",
              "      <td>0</td>\n",
              "      <td>1</td>\n",
              "      <td>0</td>\n",
              "      <td>0</td>\n",
              "      <td>0</td>\n",
              "      <td>3</td>\n",
              "      <td>0</td>\n",
              "      <td>NaN</td>\n",
              "      <td>NaN</td>\n",
              "      <td>0</td>\n",
              "    </tr>\n",
              "    <tr>\n",
              "      <th>1</th>\n",
              "      <td>2012-10-12</td>\n",
              "      <td>MAC000002</td>\n",
              "      <td>7.098</td>\n",
              "      <td>11.53</td>\n",
              "      <td>252</td>\n",
              "      <td>6.15</td>\n",
              "      <td>0.29</td>\n",
              "      <td>2.18</td>\n",
              "      <td>1004.92</td>\n",
              "      <td>11.53</td>\n",
              "      <td>1</td>\n",
              "      <td>12.94</td>\n",
              "      <td>0.84</td>\n",
              "      <td>1.64</td>\n",
              "      <td>11.53</td>\n",
              "      <td>2.0</td>\n",
              "      <td>2.81</td>\n",
              "      <td>6.41</td>\n",
              "      <td>11.53</td>\n",
              "      <td>4.01</td>\n",
              "      <td>0.92</td>\n",
              "      <td>0</td>\n",
              "      <td>0</td>\n",
              "      <td>0</td>\n",
              "      <td>1</td>\n",
              "      <td>0</td>\n",
              "      <td>0</td>\n",
              "      <td>0</td>\n",
              "      <td>3</td>\n",
              "      <td>0</td>\n",
              "      <td>NaN</td>\n",
              "      <td>NaN</td>\n",
              "      <td>0</td>\n",
              "    </tr>\n",
              "    <tr>\n",
              "      <th>2</th>\n",
              "      <td>2012-10-13</td>\n",
              "      <td>MAC000002</td>\n",
              "      <td>11.087</td>\n",
              "      <td>12.32</td>\n",
              "      <td>300</td>\n",
              "      <td>4.10</td>\n",
              "      <td>0.20</td>\n",
              "      <td>2.36</td>\n",
              "      <td>1002.50</td>\n",
              "      <td>12.32</td>\n",
              "      <td>1</td>\n",
              "      <td>11.86</td>\n",
              "      <td>0.80</td>\n",
              "      <td>2.83</td>\n",
              "      <td>12.32</td>\n",
              "      <td>2.0</td>\n",
              "      <td>4.09</td>\n",
              "      <td>2.81</td>\n",
              "      <td>12.32</td>\n",
              "      <td>1.64</td>\n",
              "      <td>0.96</td>\n",
              "      <td>0</td>\n",
              "      <td>0</td>\n",
              "      <td>0</td>\n",
              "      <td>1</td>\n",
              "      <td>0</td>\n",
              "      <td>0</td>\n",
              "      <td>0</td>\n",
              "      <td>3</td>\n",
              "      <td>0</td>\n",
              "      <td>NaN</td>\n",
              "      <td>NaN</td>\n",
              "      <td>0</td>\n",
              "    </tr>\n",
              "    <tr>\n",
              "      <th>3</th>\n",
              "      <td>2012-10-13</td>\n",
              "      <td>MAC000002</td>\n",
              "      <td>11.087</td>\n",
              "      <td>12.32</td>\n",
              "      <td>300</td>\n",
              "      <td>4.10</td>\n",
              "      <td>0.20</td>\n",
              "      <td>2.36</td>\n",
              "      <td>1002.50</td>\n",
              "      <td>12.32</td>\n",
              "      <td>1</td>\n",
              "      <td>11.86</td>\n",
              "      <td>0.80</td>\n",
              "      <td>2.83</td>\n",
              "      <td>12.32</td>\n",
              "      <td>2.0</td>\n",
              "      <td>4.09</td>\n",
              "      <td>2.81</td>\n",
              "      <td>12.32</td>\n",
              "      <td>1.64</td>\n",
              "      <td>0.96</td>\n",
              "      <td>0</td>\n",
              "      <td>0</td>\n",
              "      <td>0</td>\n",
              "      <td>1</td>\n",
              "      <td>0</td>\n",
              "      <td>0</td>\n",
              "      <td>0</td>\n",
              "      <td>3</td>\n",
              "      <td>0</td>\n",
              "      <td>NaN</td>\n",
              "      <td>NaN</td>\n",
              "      <td>0</td>\n",
              "    </tr>\n",
              "    <tr>\n",
              "      <th>4</th>\n",
              "      <td>2012-10-14</td>\n",
              "      <td>MAC000002</td>\n",
              "      <td>13.223</td>\n",
              "      <td>13.03</td>\n",
              "      <td>220</td>\n",
              "      <td>6.39</td>\n",
              "      <td>0.31</td>\n",
              "      <td>2.97</td>\n",
              "      <td>1002.67</td>\n",
              "      <td>13.03</td>\n",
              "      <td>1</td>\n",
              "      <td>12.17</td>\n",
              "      <td>0.84</td>\n",
              "      <td>7.15</td>\n",
              "      <td>13.03</td>\n",
              "      <td>1.0</td>\n",
              "      <td>9.81</td>\n",
              "      <td>4.09</td>\n",
              "      <td>13.03</td>\n",
              "      <td>2.83</td>\n",
              "      <td>0.99</td>\n",
              "      <td>0</td>\n",
              "      <td>0</td>\n",
              "      <td>0</td>\n",
              "      <td>1</td>\n",
              "      <td>0</td>\n",
              "      <td>0</td>\n",
              "      <td>0</td>\n",
              "      <td>3</td>\n",
              "      <td>0</td>\n",
              "      <td>NaN</td>\n",
              "      <td>NaN</td>\n",
              "      <td>0</td>\n",
              "    </tr>\n",
              "  </tbody>\n",
              "</table>\n",
              "</div>"
            ],
            "text/plain": [
              "          day      LCLid  energy_sum  ...  Bank holidays  Type  holiday_ind\n",
              "0  2012-10-12  MAC000002       7.098  ...            NaN   NaN            0\n",
              "1  2012-10-12  MAC000002       7.098  ...            NaN   NaN            0\n",
              "2  2012-10-13  MAC000002      11.087  ...            NaN   NaN            0\n",
              "3  2012-10-13  MAC000002      11.087  ...            NaN   NaN            0\n",
              "4  2012-10-14  MAC000002      13.223  ...            NaN   NaN            0\n",
              "\n",
              "[5 rows x 33 columns]"
            ]
          },
          "metadata": {
            "tags": []
          },
          "execution_count": 73
        }
      ]
    },
    {
      "cell_type": "code",
      "metadata": {
        "id": "TQcFLR1E_nHR",
        "colab": {
          "base_uri": "https://localhost:8080/"
        },
        "outputId": "178acc47-4521-4f7e-d220-b71395f34879"
      },
      "source": [
        "data.holiday_ind.unique()"
      ],
      "execution_count": 74,
      "outputs": [
        {
          "output_type": "execute_result",
          "data": {
            "text/plain": [
              "array([0, 1])"
            ]
          },
          "metadata": {
            "tags": []
          },
          "execution_count": 74
        }
      ]
    },
    {
      "cell_type": "code",
      "metadata": {
        "id": "lOHb8yQfr-jN"
      },
      "source": [
        "#if data['day'].values == uk_bank_holidays['day'].values:\n",
        "#  data['holiday'] = 1\n",
        "#else:\n",
        "#  data['holiday'] = 0"
      ],
      "execution_count": 75,
      "outputs": []
    },
    {
      "cell_type": "code",
      "metadata": {
        "id": "xccF0GpJr_44"
      },
      "source": [
        "data = data.drop(['Bank holidays','Type'], axis = 1)"
      ],
      "execution_count": 76,
      "outputs": []
    },
    {
      "cell_type": "code",
      "metadata": {
        "id": "-glLQ-Igr_0y",
        "colab": {
          "base_uri": "https://localhost:8080/",
          "height": 317
        },
        "outputId": "f95b53a8-0831-4ba0-d9fd-df4ad70e4fe4"
      },
      "source": [
        "data.head()"
      ],
      "execution_count": 77,
      "outputs": [
        {
          "output_type": "execute_result",
          "data": {
            "text/html": [
              "<div>\n",
              "<style scoped>\n",
              "    .dataframe tbody tr th:only-of-type {\n",
              "        vertical-align: middle;\n",
              "    }\n",
              "\n",
              "    .dataframe tbody tr th {\n",
              "        vertical-align: top;\n",
              "    }\n",
              "\n",
              "    .dataframe thead th {\n",
              "        text-align: right;\n",
              "    }\n",
              "</style>\n",
              "<table border=\"1\" class=\"dataframe\">\n",
              "  <thead>\n",
              "    <tr style=\"text-align: right;\">\n",
              "      <th></th>\n",
              "      <th>day</th>\n",
              "      <th>LCLid</th>\n",
              "      <th>energy_sum</th>\n",
              "      <th>temperatureMax</th>\n",
              "      <th>windBearing</th>\n",
              "      <th>dewPoint</th>\n",
              "      <th>cloudCover</th>\n",
              "      <th>windSpeed</th>\n",
              "      <th>pressure</th>\n",
              "      <th>apparentTemperatureHigh</th>\n",
              "      <th>precipType</th>\n",
              "      <th>visibility</th>\n",
              "      <th>humidity</th>\n",
              "      <th>apparentTemperatureLow</th>\n",
              "      <th>apparentTemperatureMax</th>\n",
              "      <th>uvIndex</th>\n",
              "      <th>temperatureLow</th>\n",
              "      <th>temperatureMin</th>\n",
              "      <th>temperatureHigh</th>\n",
              "      <th>apparentTemperatureMin</th>\n",
              "      <th>moonPhase</th>\n",
              "      <th>icon_clear-day</th>\n",
              "      <th>icon_cloudy</th>\n",
              "      <th>icon_fog</th>\n",
              "      <th>icon_partly-cloudy-day</th>\n",
              "      <th>icon_partly-cloudy-night</th>\n",
              "      <th>icon_wind</th>\n",
              "      <th>stdorToU</th>\n",
              "      <th>Acorn_grouped</th>\n",
              "      <th>file</th>\n",
              "      <th>holiday_ind</th>\n",
              "    </tr>\n",
              "  </thead>\n",
              "  <tbody>\n",
              "    <tr>\n",
              "      <th>0</th>\n",
              "      <td>2012-10-12</td>\n",
              "      <td>MAC000002</td>\n",
              "      <td>7.098</td>\n",
              "      <td>11.53</td>\n",
              "      <td>252</td>\n",
              "      <td>6.15</td>\n",
              "      <td>0.29</td>\n",
              "      <td>2.18</td>\n",
              "      <td>1004.92</td>\n",
              "      <td>11.53</td>\n",
              "      <td>1</td>\n",
              "      <td>12.94</td>\n",
              "      <td>0.84</td>\n",
              "      <td>1.64</td>\n",
              "      <td>11.53</td>\n",
              "      <td>2.0</td>\n",
              "      <td>2.81</td>\n",
              "      <td>6.41</td>\n",
              "      <td>11.53</td>\n",
              "      <td>4.01</td>\n",
              "      <td>0.92</td>\n",
              "      <td>0</td>\n",
              "      <td>0</td>\n",
              "      <td>0</td>\n",
              "      <td>1</td>\n",
              "      <td>0</td>\n",
              "      <td>0</td>\n",
              "      <td>0</td>\n",
              "      <td>3</td>\n",
              "      <td>0</td>\n",
              "      <td>0</td>\n",
              "    </tr>\n",
              "    <tr>\n",
              "      <th>1</th>\n",
              "      <td>2012-10-12</td>\n",
              "      <td>MAC000002</td>\n",
              "      <td>7.098</td>\n",
              "      <td>11.53</td>\n",
              "      <td>252</td>\n",
              "      <td>6.15</td>\n",
              "      <td>0.29</td>\n",
              "      <td>2.18</td>\n",
              "      <td>1004.92</td>\n",
              "      <td>11.53</td>\n",
              "      <td>1</td>\n",
              "      <td>12.94</td>\n",
              "      <td>0.84</td>\n",
              "      <td>1.64</td>\n",
              "      <td>11.53</td>\n",
              "      <td>2.0</td>\n",
              "      <td>2.81</td>\n",
              "      <td>6.41</td>\n",
              "      <td>11.53</td>\n",
              "      <td>4.01</td>\n",
              "      <td>0.92</td>\n",
              "      <td>0</td>\n",
              "      <td>0</td>\n",
              "      <td>0</td>\n",
              "      <td>1</td>\n",
              "      <td>0</td>\n",
              "      <td>0</td>\n",
              "      <td>0</td>\n",
              "      <td>3</td>\n",
              "      <td>0</td>\n",
              "      <td>0</td>\n",
              "    </tr>\n",
              "    <tr>\n",
              "      <th>2</th>\n",
              "      <td>2012-10-13</td>\n",
              "      <td>MAC000002</td>\n",
              "      <td>11.087</td>\n",
              "      <td>12.32</td>\n",
              "      <td>300</td>\n",
              "      <td>4.10</td>\n",
              "      <td>0.20</td>\n",
              "      <td>2.36</td>\n",
              "      <td>1002.50</td>\n",
              "      <td>12.32</td>\n",
              "      <td>1</td>\n",
              "      <td>11.86</td>\n",
              "      <td>0.80</td>\n",
              "      <td>2.83</td>\n",
              "      <td>12.32</td>\n",
              "      <td>2.0</td>\n",
              "      <td>4.09</td>\n",
              "      <td>2.81</td>\n",
              "      <td>12.32</td>\n",
              "      <td>1.64</td>\n",
              "      <td>0.96</td>\n",
              "      <td>0</td>\n",
              "      <td>0</td>\n",
              "      <td>0</td>\n",
              "      <td>1</td>\n",
              "      <td>0</td>\n",
              "      <td>0</td>\n",
              "      <td>0</td>\n",
              "      <td>3</td>\n",
              "      <td>0</td>\n",
              "      <td>0</td>\n",
              "    </tr>\n",
              "    <tr>\n",
              "      <th>3</th>\n",
              "      <td>2012-10-13</td>\n",
              "      <td>MAC000002</td>\n",
              "      <td>11.087</td>\n",
              "      <td>12.32</td>\n",
              "      <td>300</td>\n",
              "      <td>4.10</td>\n",
              "      <td>0.20</td>\n",
              "      <td>2.36</td>\n",
              "      <td>1002.50</td>\n",
              "      <td>12.32</td>\n",
              "      <td>1</td>\n",
              "      <td>11.86</td>\n",
              "      <td>0.80</td>\n",
              "      <td>2.83</td>\n",
              "      <td>12.32</td>\n",
              "      <td>2.0</td>\n",
              "      <td>4.09</td>\n",
              "      <td>2.81</td>\n",
              "      <td>12.32</td>\n",
              "      <td>1.64</td>\n",
              "      <td>0.96</td>\n",
              "      <td>0</td>\n",
              "      <td>0</td>\n",
              "      <td>0</td>\n",
              "      <td>1</td>\n",
              "      <td>0</td>\n",
              "      <td>0</td>\n",
              "      <td>0</td>\n",
              "      <td>3</td>\n",
              "      <td>0</td>\n",
              "      <td>0</td>\n",
              "    </tr>\n",
              "    <tr>\n",
              "      <th>4</th>\n",
              "      <td>2012-10-14</td>\n",
              "      <td>MAC000002</td>\n",
              "      <td>13.223</td>\n",
              "      <td>13.03</td>\n",
              "      <td>220</td>\n",
              "      <td>6.39</td>\n",
              "      <td>0.31</td>\n",
              "      <td>2.97</td>\n",
              "      <td>1002.67</td>\n",
              "      <td>13.03</td>\n",
              "      <td>1</td>\n",
              "      <td>12.17</td>\n",
              "      <td>0.84</td>\n",
              "      <td>7.15</td>\n",
              "      <td>13.03</td>\n",
              "      <td>1.0</td>\n",
              "      <td>9.81</td>\n",
              "      <td>4.09</td>\n",
              "      <td>13.03</td>\n",
              "      <td>2.83</td>\n",
              "      <td>0.99</td>\n",
              "      <td>0</td>\n",
              "      <td>0</td>\n",
              "      <td>0</td>\n",
              "      <td>1</td>\n",
              "      <td>0</td>\n",
              "      <td>0</td>\n",
              "      <td>0</td>\n",
              "      <td>3</td>\n",
              "      <td>0</td>\n",
              "      <td>0</td>\n",
              "    </tr>\n",
              "  </tbody>\n",
              "</table>\n",
              "</div>"
            ],
            "text/plain": [
              "          day      LCLid  energy_sum  ...  Acorn_grouped  file  holiday_ind\n",
              "0  2012-10-12  MAC000002       7.098  ...              3     0            0\n",
              "1  2012-10-12  MAC000002       7.098  ...              3     0            0\n",
              "2  2012-10-13  MAC000002      11.087  ...              3     0            0\n",
              "3  2012-10-13  MAC000002      11.087  ...              3     0            0\n",
              "4  2012-10-14  MAC000002      13.223  ...              3     0            0\n",
              "\n",
              "[5 rows x 31 columns]"
            ]
          },
          "metadata": {
            "tags": []
          },
          "execution_count": 77
        }
      ]
    },
    {
      "cell_type": "markdown",
      "metadata": {
        "id": "PcxhZbLqVdwc"
      },
      "source": [
        "#Create Last day's consumption"
      ]
    },
    {
      "cell_type": "code",
      "metadata": {
        "id": "3DHzNGlqRyQK",
        "colab": {
          "base_uri": "https://localhost:8080/",
          "height": 317
        },
        "outputId": "0a9e1c12-c53c-40e0-e376-bf629f1ba80f"
      },
      "source": [
        "data['last_day_sum'] = data['energy_sum'].shift()\n",
        "data.head()"
      ],
      "execution_count": 78,
      "outputs": [
        {
          "output_type": "execute_result",
          "data": {
            "text/html": [
              "<div>\n",
              "<style scoped>\n",
              "    .dataframe tbody tr th:only-of-type {\n",
              "        vertical-align: middle;\n",
              "    }\n",
              "\n",
              "    .dataframe tbody tr th {\n",
              "        vertical-align: top;\n",
              "    }\n",
              "\n",
              "    .dataframe thead th {\n",
              "        text-align: right;\n",
              "    }\n",
              "</style>\n",
              "<table border=\"1\" class=\"dataframe\">\n",
              "  <thead>\n",
              "    <tr style=\"text-align: right;\">\n",
              "      <th></th>\n",
              "      <th>day</th>\n",
              "      <th>LCLid</th>\n",
              "      <th>energy_sum</th>\n",
              "      <th>temperatureMax</th>\n",
              "      <th>windBearing</th>\n",
              "      <th>dewPoint</th>\n",
              "      <th>cloudCover</th>\n",
              "      <th>windSpeed</th>\n",
              "      <th>pressure</th>\n",
              "      <th>apparentTemperatureHigh</th>\n",
              "      <th>precipType</th>\n",
              "      <th>visibility</th>\n",
              "      <th>humidity</th>\n",
              "      <th>apparentTemperatureLow</th>\n",
              "      <th>apparentTemperatureMax</th>\n",
              "      <th>uvIndex</th>\n",
              "      <th>temperatureLow</th>\n",
              "      <th>temperatureMin</th>\n",
              "      <th>temperatureHigh</th>\n",
              "      <th>apparentTemperatureMin</th>\n",
              "      <th>moonPhase</th>\n",
              "      <th>icon_clear-day</th>\n",
              "      <th>icon_cloudy</th>\n",
              "      <th>icon_fog</th>\n",
              "      <th>icon_partly-cloudy-day</th>\n",
              "      <th>icon_partly-cloudy-night</th>\n",
              "      <th>icon_wind</th>\n",
              "      <th>stdorToU</th>\n",
              "      <th>Acorn_grouped</th>\n",
              "      <th>file</th>\n",
              "      <th>holiday_ind</th>\n",
              "      <th>last_day_sum</th>\n",
              "    </tr>\n",
              "  </thead>\n",
              "  <tbody>\n",
              "    <tr>\n",
              "      <th>0</th>\n",
              "      <td>2012-10-12</td>\n",
              "      <td>MAC000002</td>\n",
              "      <td>7.098</td>\n",
              "      <td>11.53</td>\n",
              "      <td>252</td>\n",
              "      <td>6.15</td>\n",
              "      <td>0.29</td>\n",
              "      <td>2.18</td>\n",
              "      <td>1004.92</td>\n",
              "      <td>11.53</td>\n",
              "      <td>1</td>\n",
              "      <td>12.94</td>\n",
              "      <td>0.84</td>\n",
              "      <td>1.64</td>\n",
              "      <td>11.53</td>\n",
              "      <td>2.0</td>\n",
              "      <td>2.81</td>\n",
              "      <td>6.41</td>\n",
              "      <td>11.53</td>\n",
              "      <td>4.01</td>\n",
              "      <td>0.92</td>\n",
              "      <td>0</td>\n",
              "      <td>0</td>\n",
              "      <td>0</td>\n",
              "      <td>1</td>\n",
              "      <td>0</td>\n",
              "      <td>0</td>\n",
              "      <td>0</td>\n",
              "      <td>3</td>\n",
              "      <td>0</td>\n",
              "      <td>0</td>\n",
              "      <td>NaN</td>\n",
              "    </tr>\n",
              "    <tr>\n",
              "      <th>1</th>\n",
              "      <td>2012-10-12</td>\n",
              "      <td>MAC000002</td>\n",
              "      <td>7.098</td>\n",
              "      <td>11.53</td>\n",
              "      <td>252</td>\n",
              "      <td>6.15</td>\n",
              "      <td>0.29</td>\n",
              "      <td>2.18</td>\n",
              "      <td>1004.92</td>\n",
              "      <td>11.53</td>\n",
              "      <td>1</td>\n",
              "      <td>12.94</td>\n",
              "      <td>0.84</td>\n",
              "      <td>1.64</td>\n",
              "      <td>11.53</td>\n",
              "      <td>2.0</td>\n",
              "      <td>2.81</td>\n",
              "      <td>6.41</td>\n",
              "      <td>11.53</td>\n",
              "      <td>4.01</td>\n",
              "      <td>0.92</td>\n",
              "      <td>0</td>\n",
              "      <td>0</td>\n",
              "      <td>0</td>\n",
              "      <td>1</td>\n",
              "      <td>0</td>\n",
              "      <td>0</td>\n",
              "      <td>0</td>\n",
              "      <td>3</td>\n",
              "      <td>0</td>\n",
              "      <td>0</td>\n",
              "      <td>7.098</td>\n",
              "    </tr>\n",
              "    <tr>\n",
              "      <th>2</th>\n",
              "      <td>2012-10-13</td>\n",
              "      <td>MAC000002</td>\n",
              "      <td>11.087</td>\n",
              "      <td>12.32</td>\n",
              "      <td>300</td>\n",
              "      <td>4.10</td>\n",
              "      <td>0.20</td>\n",
              "      <td>2.36</td>\n",
              "      <td>1002.50</td>\n",
              "      <td>12.32</td>\n",
              "      <td>1</td>\n",
              "      <td>11.86</td>\n",
              "      <td>0.80</td>\n",
              "      <td>2.83</td>\n",
              "      <td>12.32</td>\n",
              "      <td>2.0</td>\n",
              "      <td>4.09</td>\n",
              "      <td>2.81</td>\n",
              "      <td>12.32</td>\n",
              "      <td>1.64</td>\n",
              "      <td>0.96</td>\n",
              "      <td>0</td>\n",
              "      <td>0</td>\n",
              "      <td>0</td>\n",
              "      <td>1</td>\n",
              "      <td>0</td>\n",
              "      <td>0</td>\n",
              "      <td>0</td>\n",
              "      <td>3</td>\n",
              "      <td>0</td>\n",
              "      <td>0</td>\n",
              "      <td>7.098</td>\n",
              "    </tr>\n",
              "    <tr>\n",
              "      <th>3</th>\n",
              "      <td>2012-10-13</td>\n",
              "      <td>MAC000002</td>\n",
              "      <td>11.087</td>\n",
              "      <td>12.32</td>\n",
              "      <td>300</td>\n",
              "      <td>4.10</td>\n",
              "      <td>0.20</td>\n",
              "      <td>2.36</td>\n",
              "      <td>1002.50</td>\n",
              "      <td>12.32</td>\n",
              "      <td>1</td>\n",
              "      <td>11.86</td>\n",
              "      <td>0.80</td>\n",
              "      <td>2.83</td>\n",
              "      <td>12.32</td>\n",
              "      <td>2.0</td>\n",
              "      <td>4.09</td>\n",
              "      <td>2.81</td>\n",
              "      <td>12.32</td>\n",
              "      <td>1.64</td>\n",
              "      <td>0.96</td>\n",
              "      <td>0</td>\n",
              "      <td>0</td>\n",
              "      <td>0</td>\n",
              "      <td>1</td>\n",
              "      <td>0</td>\n",
              "      <td>0</td>\n",
              "      <td>0</td>\n",
              "      <td>3</td>\n",
              "      <td>0</td>\n",
              "      <td>0</td>\n",
              "      <td>11.087</td>\n",
              "    </tr>\n",
              "    <tr>\n",
              "      <th>4</th>\n",
              "      <td>2012-10-14</td>\n",
              "      <td>MAC000002</td>\n",
              "      <td>13.223</td>\n",
              "      <td>13.03</td>\n",
              "      <td>220</td>\n",
              "      <td>6.39</td>\n",
              "      <td>0.31</td>\n",
              "      <td>2.97</td>\n",
              "      <td>1002.67</td>\n",
              "      <td>13.03</td>\n",
              "      <td>1</td>\n",
              "      <td>12.17</td>\n",
              "      <td>0.84</td>\n",
              "      <td>7.15</td>\n",
              "      <td>13.03</td>\n",
              "      <td>1.0</td>\n",
              "      <td>9.81</td>\n",
              "      <td>4.09</td>\n",
              "      <td>13.03</td>\n",
              "      <td>2.83</td>\n",
              "      <td>0.99</td>\n",
              "      <td>0</td>\n",
              "      <td>0</td>\n",
              "      <td>0</td>\n",
              "      <td>1</td>\n",
              "      <td>0</td>\n",
              "      <td>0</td>\n",
              "      <td>0</td>\n",
              "      <td>3</td>\n",
              "      <td>0</td>\n",
              "      <td>0</td>\n",
              "      <td>11.087</td>\n",
              "    </tr>\n",
              "  </tbody>\n",
              "</table>\n",
              "</div>"
            ],
            "text/plain": [
              "          day      LCLid  energy_sum  ...  file  holiday_ind  last_day_sum\n",
              "0  2012-10-12  MAC000002       7.098  ...     0            0           NaN\n",
              "1  2012-10-12  MAC000002       7.098  ...     0            0         7.098\n",
              "2  2012-10-13  MAC000002      11.087  ...     0            0         7.098\n",
              "3  2012-10-13  MAC000002      11.087  ...     0            0        11.087\n",
              "4  2012-10-14  MAC000002      13.223  ...     0            0        11.087\n",
              "\n",
              "[5 rows x 32 columns]"
            ]
          },
          "metadata": {
            "tags": []
          },
          "execution_count": 78
        }
      ]
    },
    {
      "cell_type": "code",
      "metadata": {
        "id": "Y0PNpfjlWLk2"
      },
      "source": [
        "data = data.dropna()\n"
      ],
      "execution_count": 79,
      "outputs": []
    },
    {
      "cell_type": "code",
      "metadata": {
        "id": "Wu2q5KVcZH1q",
        "colab": {
          "base_uri": "https://localhost:8080/"
        },
        "outputId": "1c78e310-7c91-4063-d370-2b2754c514e0"
      },
      "source": [
        "data.shape"
      ],
      "execution_count": 80,
      "outputs": [
        {
          "output_type": "execute_result",
          "data": {
            "text/plain": [
              "(3526650, 32)"
            ]
          },
          "metadata": {
            "tags": []
          },
          "execution_count": 80
        }
      ]
    },
    {
      "cell_type": "markdown",
      "metadata": {
        "id": "Ux25HbKSWkf1"
      },
      "source": [
        "**After** removing nan values data lost 57 raws total of 93057"
      ]
    },
    {
      "cell_type": "markdown",
      "metadata": {
        "id": "jHHCov5pPOhA"
      },
      "source": [
        "#Add Season Column"
      ]
    },
    {
      "cell_type": "code",
      "metadata": {
        "id": "Gb-LPPHar_6w"
      },
      "source": [
        "data['day'] = pd.to_datetime(data.day, format='%Y-%m-%d %H:%M:%S')\n"
      ],
      "execution_count": 81,
      "outputs": []
    },
    {
      "cell_type": "code",
      "metadata": {
        "id": "fr7ivXl8tStI"
      },
      "source": [
        "data['month'] = data['day'].dt.month \n"
      ],
      "execution_count": 82,
      "outputs": []
    },
    {
      "cell_type": "code",
      "metadata": {
        "id": "smrbGuu59da2",
        "colab": {
          "base_uri": "https://localhost:8080/",
          "height": 317
        },
        "outputId": "4a18389e-fc3d-4259-8f66-fb67fbd075fc"
      },
      "source": [
        "data.head()"
      ],
      "execution_count": 83,
      "outputs": [
        {
          "output_type": "execute_result",
          "data": {
            "text/html": [
              "<div>\n",
              "<style scoped>\n",
              "    .dataframe tbody tr th:only-of-type {\n",
              "        vertical-align: middle;\n",
              "    }\n",
              "\n",
              "    .dataframe tbody tr th {\n",
              "        vertical-align: top;\n",
              "    }\n",
              "\n",
              "    .dataframe thead th {\n",
              "        text-align: right;\n",
              "    }\n",
              "</style>\n",
              "<table border=\"1\" class=\"dataframe\">\n",
              "  <thead>\n",
              "    <tr style=\"text-align: right;\">\n",
              "      <th></th>\n",
              "      <th>day</th>\n",
              "      <th>LCLid</th>\n",
              "      <th>energy_sum</th>\n",
              "      <th>temperatureMax</th>\n",
              "      <th>windBearing</th>\n",
              "      <th>dewPoint</th>\n",
              "      <th>cloudCover</th>\n",
              "      <th>windSpeed</th>\n",
              "      <th>pressure</th>\n",
              "      <th>apparentTemperatureHigh</th>\n",
              "      <th>precipType</th>\n",
              "      <th>visibility</th>\n",
              "      <th>humidity</th>\n",
              "      <th>apparentTemperatureLow</th>\n",
              "      <th>apparentTemperatureMax</th>\n",
              "      <th>uvIndex</th>\n",
              "      <th>temperatureLow</th>\n",
              "      <th>temperatureMin</th>\n",
              "      <th>temperatureHigh</th>\n",
              "      <th>apparentTemperatureMin</th>\n",
              "      <th>moonPhase</th>\n",
              "      <th>icon_clear-day</th>\n",
              "      <th>icon_cloudy</th>\n",
              "      <th>icon_fog</th>\n",
              "      <th>icon_partly-cloudy-day</th>\n",
              "      <th>icon_partly-cloudy-night</th>\n",
              "      <th>icon_wind</th>\n",
              "      <th>stdorToU</th>\n",
              "      <th>Acorn_grouped</th>\n",
              "      <th>file</th>\n",
              "      <th>holiday_ind</th>\n",
              "      <th>last_day_sum</th>\n",
              "      <th>month</th>\n",
              "    </tr>\n",
              "  </thead>\n",
              "  <tbody>\n",
              "    <tr>\n",
              "      <th>1</th>\n",
              "      <td>2012-10-12</td>\n",
              "      <td>MAC000002</td>\n",
              "      <td>7.098</td>\n",
              "      <td>11.53</td>\n",
              "      <td>252</td>\n",
              "      <td>6.15</td>\n",
              "      <td>0.29</td>\n",
              "      <td>2.18</td>\n",
              "      <td>1004.92</td>\n",
              "      <td>11.53</td>\n",
              "      <td>1</td>\n",
              "      <td>12.94</td>\n",
              "      <td>0.84</td>\n",
              "      <td>1.64</td>\n",
              "      <td>11.53</td>\n",
              "      <td>2.0</td>\n",
              "      <td>2.81</td>\n",
              "      <td>6.41</td>\n",
              "      <td>11.53</td>\n",
              "      <td>4.01</td>\n",
              "      <td>0.92</td>\n",
              "      <td>0</td>\n",
              "      <td>0</td>\n",
              "      <td>0</td>\n",
              "      <td>1</td>\n",
              "      <td>0</td>\n",
              "      <td>0</td>\n",
              "      <td>0</td>\n",
              "      <td>3</td>\n",
              "      <td>0</td>\n",
              "      <td>0</td>\n",
              "      <td>7.098</td>\n",
              "      <td>10</td>\n",
              "    </tr>\n",
              "    <tr>\n",
              "      <th>2</th>\n",
              "      <td>2012-10-13</td>\n",
              "      <td>MAC000002</td>\n",
              "      <td>11.087</td>\n",
              "      <td>12.32</td>\n",
              "      <td>300</td>\n",
              "      <td>4.10</td>\n",
              "      <td>0.20</td>\n",
              "      <td>2.36</td>\n",
              "      <td>1002.50</td>\n",
              "      <td>12.32</td>\n",
              "      <td>1</td>\n",
              "      <td>11.86</td>\n",
              "      <td>0.80</td>\n",
              "      <td>2.83</td>\n",
              "      <td>12.32</td>\n",
              "      <td>2.0</td>\n",
              "      <td>4.09</td>\n",
              "      <td>2.81</td>\n",
              "      <td>12.32</td>\n",
              "      <td>1.64</td>\n",
              "      <td>0.96</td>\n",
              "      <td>0</td>\n",
              "      <td>0</td>\n",
              "      <td>0</td>\n",
              "      <td>1</td>\n",
              "      <td>0</td>\n",
              "      <td>0</td>\n",
              "      <td>0</td>\n",
              "      <td>3</td>\n",
              "      <td>0</td>\n",
              "      <td>0</td>\n",
              "      <td>7.098</td>\n",
              "      <td>10</td>\n",
              "    </tr>\n",
              "    <tr>\n",
              "      <th>3</th>\n",
              "      <td>2012-10-13</td>\n",
              "      <td>MAC000002</td>\n",
              "      <td>11.087</td>\n",
              "      <td>12.32</td>\n",
              "      <td>300</td>\n",
              "      <td>4.10</td>\n",
              "      <td>0.20</td>\n",
              "      <td>2.36</td>\n",
              "      <td>1002.50</td>\n",
              "      <td>12.32</td>\n",
              "      <td>1</td>\n",
              "      <td>11.86</td>\n",
              "      <td>0.80</td>\n",
              "      <td>2.83</td>\n",
              "      <td>12.32</td>\n",
              "      <td>2.0</td>\n",
              "      <td>4.09</td>\n",
              "      <td>2.81</td>\n",
              "      <td>12.32</td>\n",
              "      <td>1.64</td>\n",
              "      <td>0.96</td>\n",
              "      <td>0</td>\n",
              "      <td>0</td>\n",
              "      <td>0</td>\n",
              "      <td>1</td>\n",
              "      <td>0</td>\n",
              "      <td>0</td>\n",
              "      <td>0</td>\n",
              "      <td>3</td>\n",
              "      <td>0</td>\n",
              "      <td>0</td>\n",
              "      <td>11.087</td>\n",
              "      <td>10</td>\n",
              "    </tr>\n",
              "    <tr>\n",
              "      <th>4</th>\n",
              "      <td>2012-10-14</td>\n",
              "      <td>MAC000002</td>\n",
              "      <td>13.223</td>\n",
              "      <td>13.03</td>\n",
              "      <td>220</td>\n",
              "      <td>6.39</td>\n",
              "      <td>0.31</td>\n",
              "      <td>2.97</td>\n",
              "      <td>1002.67</td>\n",
              "      <td>13.03</td>\n",
              "      <td>1</td>\n",
              "      <td>12.17</td>\n",
              "      <td>0.84</td>\n",
              "      <td>7.15</td>\n",
              "      <td>13.03</td>\n",
              "      <td>1.0</td>\n",
              "      <td>9.81</td>\n",
              "      <td>4.09</td>\n",
              "      <td>13.03</td>\n",
              "      <td>2.83</td>\n",
              "      <td>0.99</td>\n",
              "      <td>0</td>\n",
              "      <td>0</td>\n",
              "      <td>0</td>\n",
              "      <td>1</td>\n",
              "      <td>0</td>\n",
              "      <td>0</td>\n",
              "      <td>0</td>\n",
              "      <td>3</td>\n",
              "      <td>0</td>\n",
              "      <td>0</td>\n",
              "      <td>11.087</td>\n",
              "      <td>10</td>\n",
              "    </tr>\n",
              "    <tr>\n",
              "      <th>5</th>\n",
              "      <td>2012-10-14</td>\n",
              "      <td>MAC000002</td>\n",
              "      <td>13.223</td>\n",
              "      <td>13.03</td>\n",
              "      <td>220</td>\n",
              "      <td>6.39</td>\n",
              "      <td>0.31</td>\n",
              "      <td>2.97</td>\n",
              "      <td>1002.67</td>\n",
              "      <td>13.03</td>\n",
              "      <td>1</td>\n",
              "      <td>12.17</td>\n",
              "      <td>0.84</td>\n",
              "      <td>7.15</td>\n",
              "      <td>13.03</td>\n",
              "      <td>1.0</td>\n",
              "      <td>9.81</td>\n",
              "      <td>4.09</td>\n",
              "      <td>13.03</td>\n",
              "      <td>2.83</td>\n",
              "      <td>0.99</td>\n",
              "      <td>0</td>\n",
              "      <td>0</td>\n",
              "      <td>0</td>\n",
              "      <td>1</td>\n",
              "      <td>0</td>\n",
              "      <td>0</td>\n",
              "      <td>0</td>\n",
              "      <td>3</td>\n",
              "      <td>0</td>\n",
              "      <td>0</td>\n",
              "      <td>13.223</td>\n",
              "      <td>10</td>\n",
              "    </tr>\n",
              "  </tbody>\n",
              "</table>\n",
              "</div>"
            ],
            "text/plain": [
              "         day      LCLid  energy_sum  ...  holiday_ind  last_day_sum  month\n",
              "1 2012-10-12  MAC000002       7.098  ...            0         7.098     10\n",
              "2 2012-10-13  MAC000002      11.087  ...            0         7.098     10\n",
              "3 2012-10-13  MAC000002      11.087  ...            0        11.087     10\n",
              "4 2012-10-14  MAC000002      13.223  ...            0        11.087     10\n",
              "5 2012-10-14  MAC000002      13.223  ...            0        13.223     10\n",
              "\n",
              "[5 rows x 33 columns]"
            ]
          },
          "metadata": {
            "tags": []
          },
          "execution_count": 83
        }
      ]
    },
    {
      "cell_type": "code",
      "metadata": {
        "id": "zRwXQUly9ddc"
      },
      "source": [
        "data.loc[(data['month'] == 12) | (data['month'] == 1) | (data['month'] == 2) , 'season'] = 'winter'\n",
        "data.loc[(data['month'] == 3) | (data['month'] == 4) | (data['month'] == 5) , 'season'] = 'spring'\n",
        "data.loc[(data['month'] == 6) | (data['month'] == 7) | (data['month'] == 8) , 'season'] = 'summer'\n",
        "data.loc[(data['month'] == 9) | (data['month'] == 10) | (data['month'] ==11) , 'season'] = 'autumn'"
      ],
      "execution_count": 84,
      "outputs": []
    },
    {
      "cell_type": "code",
      "metadata": {
        "id": "fd5B1J9-9df3",
        "colab": {
          "base_uri": "https://localhost:8080/",
          "height": 317
        },
        "outputId": "754490d1-5589-4148-d40c-e18ddcae01aa"
      },
      "source": [
        "data.head()"
      ],
      "execution_count": 85,
      "outputs": [
        {
          "output_type": "execute_result",
          "data": {
            "text/html": [
              "<div>\n",
              "<style scoped>\n",
              "    .dataframe tbody tr th:only-of-type {\n",
              "        vertical-align: middle;\n",
              "    }\n",
              "\n",
              "    .dataframe tbody tr th {\n",
              "        vertical-align: top;\n",
              "    }\n",
              "\n",
              "    .dataframe thead th {\n",
              "        text-align: right;\n",
              "    }\n",
              "</style>\n",
              "<table border=\"1\" class=\"dataframe\">\n",
              "  <thead>\n",
              "    <tr style=\"text-align: right;\">\n",
              "      <th></th>\n",
              "      <th>day</th>\n",
              "      <th>LCLid</th>\n",
              "      <th>energy_sum</th>\n",
              "      <th>temperatureMax</th>\n",
              "      <th>windBearing</th>\n",
              "      <th>dewPoint</th>\n",
              "      <th>cloudCover</th>\n",
              "      <th>windSpeed</th>\n",
              "      <th>pressure</th>\n",
              "      <th>apparentTemperatureHigh</th>\n",
              "      <th>precipType</th>\n",
              "      <th>visibility</th>\n",
              "      <th>humidity</th>\n",
              "      <th>apparentTemperatureLow</th>\n",
              "      <th>apparentTemperatureMax</th>\n",
              "      <th>uvIndex</th>\n",
              "      <th>temperatureLow</th>\n",
              "      <th>temperatureMin</th>\n",
              "      <th>temperatureHigh</th>\n",
              "      <th>apparentTemperatureMin</th>\n",
              "      <th>moonPhase</th>\n",
              "      <th>icon_clear-day</th>\n",
              "      <th>icon_cloudy</th>\n",
              "      <th>icon_fog</th>\n",
              "      <th>icon_partly-cloudy-day</th>\n",
              "      <th>icon_partly-cloudy-night</th>\n",
              "      <th>icon_wind</th>\n",
              "      <th>stdorToU</th>\n",
              "      <th>Acorn_grouped</th>\n",
              "      <th>file</th>\n",
              "      <th>holiday_ind</th>\n",
              "      <th>last_day_sum</th>\n",
              "      <th>month</th>\n",
              "      <th>season</th>\n",
              "    </tr>\n",
              "  </thead>\n",
              "  <tbody>\n",
              "    <tr>\n",
              "      <th>1</th>\n",
              "      <td>2012-10-12</td>\n",
              "      <td>MAC000002</td>\n",
              "      <td>7.098</td>\n",
              "      <td>11.53</td>\n",
              "      <td>252</td>\n",
              "      <td>6.15</td>\n",
              "      <td>0.29</td>\n",
              "      <td>2.18</td>\n",
              "      <td>1004.92</td>\n",
              "      <td>11.53</td>\n",
              "      <td>1</td>\n",
              "      <td>12.94</td>\n",
              "      <td>0.84</td>\n",
              "      <td>1.64</td>\n",
              "      <td>11.53</td>\n",
              "      <td>2.0</td>\n",
              "      <td>2.81</td>\n",
              "      <td>6.41</td>\n",
              "      <td>11.53</td>\n",
              "      <td>4.01</td>\n",
              "      <td>0.92</td>\n",
              "      <td>0</td>\n",
              "      <td>0</td>\n",
              "      <td>0</td>\n",
              "      <td>1</td>\n",
              "      <td>0</td>\n",
              "      <td>0</td>\n",
              "      <td>0</td>\n",
              "      <td>3</td>\n",
              "      <td>0</td>\n",
              "      <td>0</td>\n",
              "      <td>7.098</td>\n",
              "      <td>10</td>\n",
              "      <td>autumn</td>\n",
              "    </tr>\n",
              "    <tr>\n",
              "      <th>2</th>\n",
              "      <td>2012-10-13</td>\n",
              "      <td>MAC000002</td>\n",
              "      <td>11.087</td>\n",
              "      <td>12.32</td>\n",
              "      <td>300</td>\n",
              "      <td>4.10</td>\n",
              "      <td>0.20</td>\n",
              "      <td>2.36</td>\n",
              "      <td>1002.50</td>\n",
              "      <td>12.32</td>\n",
              "      <td>1</td>\n",
              "      <td>11.86</td>\n",
              "      <td>0.80</td>\n",
              "      <td>2.83</td>\n",
              "      <td>12.32</td>\n",
              "      <td>2.0</td>\n",
              "      <td>4.09</td>\n",
              "      <td>2.81</td>\n",
              "      <td>12.32</td>\n",
              "      <td>1.64</td>\n",
              "      <td>0.96</td>\n",
              "      <td>0</td>\n",
              "      <td>0</td>\n",
              "      <td>0</td>\n",
              "      <td>1</td>\n",
              "      <td>0</td>\n",
              "      <td>0</td>\n",
              "      <td>0</td>\n",
              "      <td>3</td>\n",
              "      <td>0</td>\n",
              "      <td>0</td>\n",
              "      <td>7.098</td>\n",
              "      <td>10</td>\n",
              "      <td>autumn</td>\n",
              "    </tr>\n",
              "    <tr>\n",
              "      <th>3</th>\n",
              "      <td>2012-10-13</td>\n",
              "      <td>MAC000002</td>\n",
              "      <td>11.087</td>\n",
              "      <td>12.32</td>\n",
              "      <td>300</td>\n",
              "      <td>4.10</td>\n",
              "      <td>0.20</td>\n",
              "      <td>2.36</td>\n",
              "      <td>1002.50</td>\n",
              "      <td>12.32</td>\n",
              "      <td>1</td>\n",
              "      <td>11.86</td>\n",
              "      <td>0.80</td>\n",
              "      <td>2.83</td>\n",
              "      <td>12.32</td>\n",
              "      <td>2.0</td>\n",
              "      <td>4.09</td>\n",
              "      <td>2.81</td>\n",
              "      <td>12.32</td>\n",
              "      <td>1.64</td>\n",
              "      <td>0.96</td>\n",
              "      <td>0</td>\n",
              "      <td>0</td>\n",
              "      <td>0</td>\n",
              "      <td>1</td>\n",
              "      <td>0</td>\n",
              "      <td>0</td>\n",
              "      <td>0</td>\n",
              "      <td>3</td>\n",
              "      <td>0</td>\n",
              "      <td>0</td>\n",
              "      <td>11.087</td>\n",
              "      <td>10</td>\n",
              "      <td>autumn</td>\n",
              "    </tr>\n",
              "    <tr>\n",
              "      <th>4</th>\n",
              "      <td>2012-10-14</td>\n",
              "      <td>MAC000002</td>\n",
              "      <td>13.223</td>\n",
              "      <td>13.03</td>\n",
              "      <td>220</td>\n",
              "      <td>6.39</td>\n",
              "      <td>0.31</td>\n",
              "      <td>2.97</td>\n",
              "      <td>1002.67</td>\n",
              "      <td>13.03</td>\n",
              "      <td>1</td>\n",
              "      <td>12.17</td>\n",
              "      <td>0.84</td>\n",
              "      <td>7.15</td>\n",
              "      <td>13.03</td>\n",
              "      <td>1.0</td>\n",
              "      <td>9.81</td>\n",
              "      <td>4.09</td>\n",
              "      <td>13.03</td>\n",
              "      <td>2.83</td>\n",
              "      <td>0.99</td>\n",
              "      <td>0</td>\n",
              "      <td>0</td>\n",
              "      <td>0</td>\n",
              "      <td>1</td>\n",
              "      <td>0</td>\n",
              "      <td>0</td>\n",
              "      <td>0</td>\n",
              "      <td>3</td>\n",
              "      <td>0</td>\n",
              "      <td>0</td>\n",
              "      <td>11.087</td>\n",
              "      <td>10</td>\n",
              "      <td>autumn</td>\n",
              "    </tr>\n",
              "    <tr>\n",
              "      <th>5</th>\n",
              "      <td>2012-10-14</td>\n",
              "      <td>MAC000002</td>\n",
              "      <td>13.223</td>\n",
              "      <td>13.03</td>\n",
              "      <td>220</td>\n",
              "      <td>6.39</td>\n",
              "      <td>0.31</td>\n",
              "      <td>2.97</td>\n",
              "      <td>1002.67</td>\n",
              "      <td>13.03</td>\n",
              "      <td>1</td>\n",
              "      <td>12.17</td>\n",
              "      <td>0.84</td>\n",
              "      <td>7.15</td>\n",
              "      <td>13.03</td>\n",
              "      <td>1.0</td>\n",
              "      <td>9.81</td>\n",
              "      <td>4.09</td>\n",
              "      <td>13.03</td>\n",
              "      <td>2.83</td>\n",
              "      <td>0.99</td>\n",
              "      <td>0</td>\n",
              "      <td>0</td>\n",
              "      <td>0</td>\n",
              "      <td>1</td>\n",
              "      <td>0</td>\n",
              "      <td>0</td>\n",
              "      <td>0</td>\n",
              "      <td>3</td>\n",
              "      <td>0</td>\n",
              "      <td>0</td>\n",
              "      <td>13.223</td>\n",
              "      <td>10</td>\n",
              "      <td>autumn</td>\n",
              "    </tr>\n",
              "  </tbody>\n",
              "</table>\n",
              "</div>"
            ],
            "text/plain": [
              "         day      LCLid  energy_sum  ...  last_day_sum  month  season\n",
              "1 2012-10-12  MAC000002       7.098  ...         7.098     10  autumn\n",
              "2 2012-10-13  MAC000002      11.087  ...         7.098     10  autumn\n",
              "3 2012-10-13  MAC000002      11.087  ...        11.087     10  autumn\n",
              "4 2012-10-14  MAC000002      13.223  ...        11.087     10  autumn\n",
              "5 2012-10-14  MAC000002      13.223  ...        13.223     10  autumn\n",
              "\n",
              "[5 rows x 34 columns]"
            ]
          },
          "metadata": {
            "tags": []
          },
          "execution_count": 85
        }
      ]
    },
    {
      "cell_type": "code",
      "metadata": {
        "id": "Jlp7S-LC9di8",
        "colab": {
          "base_uri": "https://localhost:8080/"
        },
        "outputId": "b194530d-67a8-4886-9ef4-156ecff6e8d1"
      },
      "source": [
        "data.season.unique()"
      ],
      "execution_count": 86,
      "outputs": [
        {
          "output_type": "execute_result",
          "data": {
            "text/plain": [
              "array(['autumn', 'winter', 'spring', 'summer'], dtype=object)"
            ]
          },
          "metadata": {
            "tags": []
          },
          "execution_count": 86
        }
      ]
    },
    {
      "cell_type": "code",
      "metadata": {
        "id": "32Y10q2CRJuw"
      },
      "source": [
        "data['season'] = label_encoder.fit_transform(data['season'])\n"
      ],
      "execution_count": 87,
      "outputs": []
    },
    {
      "cell_type": "code",
      "metadata": {
        "id": "AUr3ezy5RySx",
        "colab": {
          "base_uri": "https://localhost:8080/",
          "height": 317
        },
        "outputId": "33c3fd71-8e3b-4b26-a8cf-fcf253ccaf8f"
      },
      "source": [
        "data.head()"
      ],
      "execution_count": 88,
      "outputs": [
        {
          "output_type": "execute_result",
          "data": {
            "text/html": [
              "<div>\n",
              "<style scoped>\n",
              "    .dataframe tbody tr th:only-of-type {\n",
              "        vertical-align: middle;\n",
              "    }\n",
              "\n",
              "    .dataframe tbody tr th {\n",
              "        vertical-align: top;\n",
              "    }\n",
              "\n",
              "    .dataframe thead th {\n",
              "        text-align: right;\n",
              "    }\n",
              "</style>\n",
              "<table border=\"1\" class=\"dataframe\">\n",
              "  <thead>\n",
              "    <tr style=\"text-align: right;\">\n",
              "      <th></th>\n",
              "      <th>day</th>\n",
              "      <th>LCLid</th>\n",
              "      <th>energy_sum</th>\n",
              "      <th>temperatureMax</th>\n",
              "      <th>windBearing</th>\n",
              "      <th>dewPoint</th>\n",
              "      <th>cloudCover</th>\n",
              "      <th>windSpeed</th>\n",
              "      <th>pressure</th>\n",
              "      <th>apparentTemperatureHigh</th>\n",
              "      <th>precipType</th>\n",
              "      <th>visibility</th>\n",
              "      <th>humidity</th>\n",
              "      <th>apparentTemperatureLow</th>\n",
              "      <th>apparentTemperatureMax</th>\n",
              "      <th>uvIndex</th>\n",
              "      <th>temperatureLow</th>\n",
              "      <th>temperatureMin</th>\n",
              "      <th>temperatureHigh</th>\n",
              "      <th>apparentTemperatureMin</th>\n",
              "      <th>moonPhase</th>\n",
              "      <th>icon_clear-day</th>\n",
              "      <th>icon_cloudy</th>\n",
              "      <th>icon_fog</th>\n",
              "      <th>icon_partly-cloudy-day</th>\n",
              "      <th>icon_partly-cloudy-night</th>\n",
              "      <th>icon_wind</th>\n",
              "      <th>stdorToU</th>\n",
              "      <th>Acorn_grouped</th>\n",
              "      <th>file</th>\n",
              "      <th>holiday_ind</th>\n",
              "      <th>last_day_sum</th>\n",
              "      <th>month</th>\n",
              "      <th>season</th>\n",
              "    </tr>\n",
              "  </thead>\n",
              "  <tbody>\n",
              "    <tr>\n",
              "      <th>1</th>\n",
              "      <td>2012-10-12</td>\n",
              "      <td>MAC000002</td>\n",
              "      <td>7.098</td>\n",
              "      <td>11.53</td>\n",
              "      <td>252</td>\n",
              "      <td>6.15</td>\n",
              "      <td>0.29</td>\n",
              "      <td>2.18</td>\n",
              "      <td>1004.92</td>\n",
              "      <td>11.53</td>\n",
              "      <td>1</td>\n",
              "      <td>12.94</td>\n",
              "      <td>0.84</td>\n",
              "      <td>1.64</td>\n",
              "      <td>11.53</td>\n",
              "      <td>2.0</td>\n",
              "      <td>2.81</td>\n",
              "      <td>6.41</td>\n",
              "      <td>11.53</td>\n",
              "      <td>4.01</td>\n",
              "      <td>0.92</td>\n",
              "      <td>0</td>\n",
              "      <td>0</td>\n",
              "      <td>0</td>\n",
              "      <td>1</td>\n",
              "      <td>0</td>\n",
              "      <td>0</td>\n",
              "      <td>0</td>\n",
              "      <td>3</td>\n",
              "      <td>0</td>\n",
              "      <td>0</td>\n",
              "      <td>7.098</td>\n",
              "      <td>10</td>\n",
              "      <td>0</td>\n",
              "    </tr>\n",
              "    <tr>\n",
              "      <th>2</th>\n",
              "      <td>2012-10-13</td>\n",
              "      <td>MAC000002</td>\n",
              "      <td>11.087</td>\n",
              "      <td>12.32</td>\n",
              "      <td>300</td>\n",
              "      <td>4.10</td>\n",
              "      <td>0.20</td>\n",
              "      <td>2.36</td>\n",
              "      <td>1002.50</td>\n",
              "      <td>12.32</td>\n",
              "      <td>1</td>\n",
              "      <td>11.86</td>\n",
              "      <td>0.80</td>\n",
              "      <td>2.83</td>\n",
              "      <td>12.32</td>\n",
              "      <td>2.0</td>\n",
              "      <td>4.09</td>\n",
              "      <td>2.81</td>\n",
              "      <td>12.32</td>\n",
              "      <td>1.64</td>\n",
              "      <td>0.96</td>\n",
              "      <td>0</td>\n",
              "      <td>0</td>\n",
              "      <td>0</td>\n",
              "      <td>1</td>\n",
              "      <td>0</td>\n",
              "      <td>0</td>\n",
              "      <td>0</td>\n",
              "      <td>3</td>\n",
              "      <td>0</td>\n",
              "      <td>0</td>\n",
              "      <td>7.098</td>\n",
              "      <td>10</td>\n",
              "      <td>0</td>\n",
              "    </tr>\n",
              "    <tr>\n",
              "      <th>3</th>\n",
              "      <td>2012-10-13</td>\n",
              "      <td>MAC000002</td>\n",
              "      <td>11.087</td>\n",
              "      <td>12.32</td>\n",
              "      <td>300</td>\n",
              "      <td>4.10</td>\n",
              "      <td>0.20</td>\n",
              "      <td>2.36</td>\n",
              "      <td>1002.50</td>\n",
              "      <td>12.32</td>\n",
              "      <td>1</td>\n",
              "      <td>11.86</td>\n",
              "      <td>0.80</td>\n",
              "      <td>2.83</td>\n",
              "      <td>12.32</td>\n",
              "      <td>2.0</td>\n",
              "      <td>4.09</td>\n",
              "      <td>2.81</td>\n",
              "      <td>12.32</td>\n",
              "      <td>1.64</td>\n",
              "      <td>0.96</td>\n",
              "      <td>0</td>\n",
              "      <td>0</td>\n",
              "      <td>0</td>\n",
              "      <td>1</td>\n",
              "      <td>0</td>\n",
              "      <td>0</td>\n",
              "      <td>0</td>\n",
              "      <td>3</td>\n",
              "      <td>0</td>\n",
              "      <td>0</td>\n",
              "      <td>11.087</td>\n",
              "      <td>10</td>\n",
              "      <td>0</td>\n",
              "    </tr>\n",
              "    <tr>\n",
              "      <th>4</th>\n",
              "      <td>2012-10-14</td>\n",
              "      <td>MAC000002</td>\n",
              "      <td>13.223</td>\n",
              "      <td>13.03</td>\n",
              "      <td>220</td>\n",
              "      <td>6.39</td>\n",
              "      <td>0.31</td>\n",
              "      <td>2.97</td>\n",
              "      <td>1002.67</td>\n",
              "      <td>13.03</td>\n",
              "      <td>1</td>\n",
              "      <td>12.17</td>\n",
              "      <td>0.84</td>\n",
              "      <td>7.15</td>\n",
              "      <td>13.03</td>\n",
              "      <td>1.0</td>\n",
              "      <td>9.81</td>\n",
              "      <td>4.09</td>\n",
              "      <td>13.03</td>\n",
              "      <td>2.83</td>\n",
              "      <td>0.99</td>\n",
              "      <td>0</td>\n",
              "      <td>0</td>\n",
              "      <td>0</td>\n",
              "      <td>1</td>\n",
              "      <td>0</td>\n",
              "      <td>0</td>\n",
              "      <td>0</td>\n",
              "      <td>3</td>\n",
              "      <td>0</td>\n",
              "      <td>0</td>\n",
              "      <td>11.087</td>\n",
              "      <td>10</td>\n",
              "      <td>0</td>\n",
              "    </tr>\n",
              "    <tr>\n",
              "      <th>5</th>\n",
              "      <td>2012-10-14</td>\n",
              "      <td>MAC000002</td>\n",
              "      <td>13.223</td>\n",
              "      <td>13.03</td>\n",
              "      <td>220</td>\n",
              "      <td>6.39</td>\n",
              "      <td>0.31</td>\n",
              "      <td>2.97</td>\n",
              "      <td>1002.67</td>\n",
              "      <td>13.03</td>\n",
              "      <td>1</td>\n",
              "      <td>12.17</td>\n",
              "      <td>0.84</td>\n",
              "      <td>7.15</td>\n",
              "      <td>13.03</td>\n",
              "      <td>1.0</td>\n",
              "      <td>9.81</td>\n",
              "      <td>4.09</td>\n",
              "      <td>13.03</td>\n",
              "      <td>2.83</td>\n",
              "      <td>0.99</td>\n",
              "      <td>0</td>\n",
              "      <td>0</td>\n",
              "      <td>0</td>\n",
              "      <td>1</td>\n",
              "      <td>0</td>\n",
              "      <td>0</td>\n",
              "      <td>0</td>\n",
              "      <td>3</td>\n",
              "      <td>0</td>\n",
              "      <td>0</td>\n",
              "      <td>13.223</td>\n",
              "      <td>10</td>\n",
              "      <td>0</td>\n",
              "    </tr>\n",
              "  </tbody>\n",
              "</table>\n",
              "</div>"
            ],
            "text/plain": [
              "         day      LCLid  energy_sum  ...  last_day_sum  month  season\n",
              "1 2012-10-12  MAC000002       7.098  ...         7.098     10       0\n",
              "2 2012-10-13  MAC000002      11.087  ...         7.098     10       0\n",
              "3 2012-10-13  MAC000002      11.087  ...        11.087     10       0\n",
              "4 2012-10-14  MAC000002      13.223  ...        11.087     10       0\n",
              "5 2012-10-14  MAC000002      13.223  ...        13.223     10       0\n",
              "\n",
              "[5 rows x 34 columns]"
            ]
          },
          "metadata": {
            "tags": []
          },
          "execution_count": 88
        }
      ]
    },
    {
      "cell_type": "code",
      "metadata": {
        "id": "YFNQ202XRyVn",
        "colab": {
          "base_uri": "https://localhost:8080/"
        },
        "outputId": "bec4b9fe-946c-4ee9-9b28-8aee3a2c9884"
      },
      "source": [
        "data.season.unique()"
      ],
      "execution_count": 89,
      "outputs": [
        {
          "output_type": "execute_result",
          "data": {
            "text/plain": [
              "array([0, 3, 1, 2])"
            ]
          },
          "metadata": {
            "tags": []
          },
          "execution_count": 89
        }
      ]
    },
    {
      "cell_type": "code",
      "metadata": {
        "id": "-BiVA_30RyYy",
        "colab": {
          "base_uri": "https://localhost:8080/"
        },
        "outputId": "667fd160-9864-4808-e9b8-9161ecefce37"
      },
      "source": [
        "data.shape"
      ],
      "execution_count": 90,
      "outputs": [
        {
          "output_type": "execute_result",
          "data": {
            "text/plain": [
              "(3526650, 34)"
            ]
          },
          "metadata": {
            "tags": []
          },
          "execution_count": 90
        }
      ]
    },
    {
      "cell_type": "markdown",
      "metadata": {
        "id": "epyqaKvsmHW5"
      },
      "source": [
        "# Take only some data points **According to years**\n"
      ]
    },
    {
      "cell_type": "code",
      "metadata": {
        "id": "wS0KV5fPmO2q"
      },
      "source": [
        "data['year'] = data['day'].dt.year\n"
      ],
      "execution_count": 91,
      "outputs": []
    },
    {
      "cell_type": "code",
      "metadata": {
        "colab": {
          "base_uri": "https://localhost:8080/",
          "height": 317
        },
        "id": "q-tuN8b6mO46",
        "outputId": "045442c7-0336-430f-f89e-7acd2bffe18a"
      },
      "source": [
        "data.head()"
      ],
      "execution_count": 92,
      "outputs": [
        {
          "output_type": "execute_result",
          "data": {
            "text/html": [
              "<div>\n",
              "<style scoped>\n",
              "    .dataframe tbody tr th:only-of-type {\n",
              "        vertical-align: middle;\n",
              "    }\n",
              "\n",
              "    .dataframe tbody tr th {\n",
              "        vertical-align: top;\n",
              "    }\n",
              "\n",
              "    .dataframe thead th {\n",
              "        text-align: right;\n",
              "    }\n",
              "</style>\n",
              "<table border=\"1\" class=\"dataframe\">\n",
              "  <thead>\n",
              "    <tr style=\"text-align: right;\">\n",
              "      <th></th>\n",
              "      <th>day</th>\n",
              "      <th>LCLid</th>\n",
              "      <th>energy_sum</th>\n",
              "      <th>temperatureMax</th>\n",
              "      <th>windBearing</th>\n",
              "      <th>dewPoint</th>\n",
              "      <th>cloudCover</th>\n",
              "      <th>windSpeed</th>\n",
              "      <th>pressure</th>\n",
              "      <th>apparentTemperatureHigh</th>\n",
              "      <th>precipType</th>\n",
              "      <th>visibility</th>\n",
              "      <th>humidity</th>\n",
              "      <th>apparentTemperatureLow</th>\n",
              "      <th>apparentTemperatureMax</th>\n",
              "      <th>uvIndex</th>\n",
              "      <th>temperatureLow</th>\n",
              "      <th>temperatureMin</th>\n",
              "      <th>temperatureHigh</th>\n",
              "      <th>apparentTemperatureMin</th>\n",
              "      <th>moonPhase</th>\n",
              "      <th>icon_clear-day</th>\n",
              "      <th>icon_cloudy</th>\n",
              "      <th>icon_fog</th>\n",
              "      <th>icon_partly-cloudy-day</th>\n",
              "      <th>icon_partly-cloudy-night</th>\n",
              "      <th>icon_wind</th>\n",
              "      <th>stdorToU</th>\n",
              "      <th>Acorn_grouped</th>\n",
              "      <th>file</th>\n",
              "      <th>holiday_ind</th>\n",
              "      <th>last_day_sum</th>\n",
              "      <th>month</th>\n",
              "      <th>season</th>\n",
              "      <th>year</th>\n",
              "    </tr>\n",
              "  </thead>\n",
              "  <tbody>\n",
              "    <tr>\n",
              "      <th>1</th>\n",
              "      <td>2012-10-12</td>\n",
              "      <td>MAC000002</td>\n",
              "      <td>7.098</td>\n",
              "      <td>11.53</td>\n",
              "      <td>252</td>\n",
              "      <td>6.15</td>\n",
              "      <td>0.29</td>\n",
              "      <td>2.18</td>\n",
              "      <td>1004.92</td>\n",
              "      <td>11.53</td>\n",
              "      <td>1</td>\n",
              "      <td>12.94</td>\n",
              "      <td>0.84</td>\n",
              "      <td>1.64</td>\n",
              "      <td>11.53</td>\n",
              "      <td>2.0</td>\n",
              "      <td>2.81</td>\n",
              "      <td>6.41</td>\n",
              "      <td>11.53</td>\n",
              "      <td>4.01</td>\n",
              "      <td>0.92</td>\n",
              "      <td>0</td>\n",
              "      <td>0</td>\n",
              "      <td>0</td>\n",
              "      <td>1</td>\n",
              "      <td>0</td>\n",
              "      <td>0</td>\n",
              "      <td>0</td>\n",
              "      <td>3</td>\n",
              "      <td>0</td>\n",
              "      <td>0</td>\n",
              "      <td>7.098</td>\n",
              "      <td>10</td>\n",
              "      <td>0</td>\n",
              "      <td>2012</td>\n",
              "    </tr>\n",
              "    <tr>\n",
              "      <th>2</th>\n",
              "      <td>2012-10-13</td>\n",
              "      <td>MAC000002</td>\n",
              "      <td>11.087</td>\n",
              "      <td>12.32</td>\n",
              "      <td>300</td>\n",
              "      <td>4.10</td>\n",
              "      <td>0.20</td>\n",
              "      <td>2.36</td>\n",
              "      <td>1002.50</td>\n",
              "      <td>12.32</td>\n",
              "      <td>1</td>\n",
              "      <td>11.86</td>\n",
              "      <td>0.80</td>\n",
              "      <td>2.83</td>\n",
              "      <td>12.32</td>\n",
              "      <td>2.0</td>\n",
              "      <td>4.09</td>\n",
              "      <td>2.81</td>\n",
              "      <td>12.32</td>\n",
              "      <td>1.64</td>\n",
              "      <td>0.96</td>\n",
              "      <td>0</td>\n",
              "      <td>0</td>\n",
              "      <td>0</td>\n",
              "      <td>1</td>\n",
              "      <td>0</td>\n",
              "      <td>0</td>\n",
              "      <td>0</td>\n",
              "      <td>3</td>\n",
              "      <td>0</td>\n",
              "      <td>0</td>\n",
              "      <td>7.098</td>\n",
              "      <td>10</td>\n",
              "      <td>0</td>\n",
              "      <td>2012</td>\n",
              "    </tr>\n",
              "    <tr>\n",
              "      <th>3</th>\n",
              "      <td>2012-10-13</td>\n",
              "      <td>MAC000002</td>\n",
              "      <td>11.087</td>\n",
              "      <td>12.32</td>\n",
              "      <td>300</td>\n",
              "      <td>4.10</td>\n",
              "      <td>0.20</td>\n",
              "      <td>2.36</td>\n",
              "      <td>1002.50</td>\n",
              "      <td>12.32</td>\n",
              "      <td>1</td>\n",
              "      <td>11.86</td>\n",
              "      <td>0.80</td>\n",
              "      <td>2.83</td>\n",
              "      <td>12.32</td>\n",
              "      <td>2.0</td>\n",
              "      <td>4.09</td>\n",
              "      <td>2.81</td>\n",
              "      <td>12.32</td>\n",
              "      <td>1.64</td>\n",
              "      <td>0.96</td>\n",
              "      <td>0</td>\n",
              "      <td>0</td>\n",
              "      <td>0</td>\n",
              "      <td>1</td>\n",
              "      <td>0</td>\n",
              "      <td>0</td>\n",
              "      <td>0</td>\n",
              "      <td>3</td>\n",
              "      <td>0</td>\n",
              "      <td>0</td>\n",
              "      <td>11.087</td>\n",
              "      <td>10</td>\n",
              "      <td>0</td>\n",
              "      <td>2012</td>\n",
              "    </tr>\n",
              "    <tr>\n",
              "      <th>4</th>\n",
              "      <td>2012-10-14</td>\n",
              "      <td>MAC000002</td>\n",
              "      <td>13.223</td>\n",
              "      <td>13.03</td>\n",
              "      <td>220</td>\n",
              "      <td>6.39</td>\n",
              "      <td>0.31</td>\n",
              "      <td>2.97</td>\n",
              "      <td>1002.67</td>\n",
              "      <td>13.03</td>\n",
              "      <td>1</td>\n",
              "      <td>12.17</td>\n",
              "      <td>0.84</td>\n",
              "      <td>7.15</td>\n",
              "      <td>13.03</td>\n",
              "      <td>1.0</td>\n",
              "      <td>9.81</td>\n",
              "      <td>4.09</td>\n",
              "      <td>13.03</td>\n",
              "      <td>2.83</td>\n",
              "      <td>0.99</td>\n",
              "      <td>0</td>\n",
              "      <td>0</td>\n",
              "      <td>0</td>\n",
              "      <td>1</td>\n",
              "      <td>0</td>\n",
              "      <td>0</td>\n",
              "      <td>0</td>\n",
              "      <td>3</td>\n",
              "      <td>0</td>\n",
              "      <td>0</td>\n",
              "      <td>11.087</td>\n",
              "      <td>10</td>\n",
              "      <td>0</td>\n",
              "      <td>2012</td>\n",
              "    </tr>\n",
              "    <tr>\n",
              "      <th>5</th>\n",
              "      <td>2012-10-14</td>\n",
              "      <td>MAC000002</td>\n",
              "      <td>13.223</td>\n",
              "      <td>13.03</td>\n",
              "      <td>220</td>\n",
              "      <td>6.39</td>\n",
              "      <td>0.31</td>\n",
              "      <td>2.97</td>\n",
              "      <td>1002.67</td>\n",
              "      <td>13.03</td>\n",
              "      <td>1</td>\n",
              "      <td>12.17</td>\n",
              "      <td>0.84</td>\n",
              "      <td>7.15</td>\n",
              "      <td>13.03</td>\n",
              "      <td>1.0</td>\n",
              "      <td>9.81</td>\n",
              "      <td>4.09</td>\n",
              "      <td>13.03</td>\n",
              "      <td>2.83</td>\n",
              "      <td>0.99</td>\n",
              "      <td>0</td>\n",
              "      <td>0</td>\n",
              "      <td>0</td>\n",
              "      <td>1</td>\n",
              "      <td>0</td>\n",
              "      <td>0</td>\n",
              "      <td>0</td>\n",
              "      <td>3</td>\n",
              "      <td>0</td>\n",
              "      <td>0</td>\n",
              "      <td>13.223</td>\n",
              "      <td>10</td>\n",
              "      <td>0</td>\n",
              "      <td>2012</td>\n",
              "    </tr>\n",
              "  </tbody>\n",
              "</table>\n",
              "</div>"
            ],
            "text/plain": [
              "         day      LCLid  energy_sum  ...  month  season  year\n",
              "1 2012-10-12  MAC000002       7.098  ...     10       0  2012\n",
              "2 2012-10-13  MAC000002      11.087  ...     10       0  2012\n",
              "3 2012-10-13  MAC000002      11.087  ...     10       0  2012\n",
              "4 2012-10-14  MAC000002      13.223  ...     10       0  2012\n",
              "5 2012-10-14  MAC000002      13.223  ...     10       0  2012\n",
              "\n",
              "[5 rows x 35 columns]"
            ]
          },
          "metadata": {
            "tags": []
          },
          "execution_count": 92
        }
      ]
    },
    {
      "cell_type": "code",
      "metadata": {
        "colab": {
          "base_uri": "https://localhost:8080/"
        },
        "id": "z5R-NCbuoPr_",
        "outputId": "52cd4f9b-8216-4732-c917-ad8442069c27"
      },
      "source": [
        "data.year.unique()"
      ],
      "execution_count": 93,
      "outputs": [
        {
          "output_type": "execute_result",
          "data": {
            "text/plain": [
              "array([2012, 2013, 2014, 2011])"
            ]
          },
          "metadata": {
            "tags": []
          },
          "execution_count": 93
        }
      ]
    },
    {
      "cell_type": "code",
      "metadata": {
        "id": "CZlWma2doPuu"
      },
      "source": [
        "\n",
        "part_of_data_2013 = data[data[\"year\"] == 2013]"
      ],
      "execution_count": 94,
      "outputs": []
    },
    {
      "cell_type": "code",
      "metadata": {
        "colab": {
          "base_uri": "https://localhost:8080/"
        },
        "id": "jZZ-MaozoPxP",
        "outputId": "5f99f06d-dc56-408e-a2af-36f29d5b0335"
      },
      "source": [
        "part_of_data_2013.shape"
      ],
      "execution_count": 95,
      "outputs": [
        {
          "output_type": "execute_result",
          "data": {
            "text/plain": [
              "(1957607, 35)"
            ]
          },
          "metadata": {
            "tags": []
          },
          "execution_count": 95
        }
      ]
    },
    {
      "cell_type": "code",
      "metadata": {
        "id": "k0uxs6geoPzi"
      },
      "source": [
        "part_of_data_2011 = data[data[\"year\"] == 2011]"
      ],
      "execution_count": 96,
      "outputs": []
    },
    {
      "cell_type": "code",
      "metadata": {
        "colab": {
          "base_uri": "https://localhost:8080/"
        },
        "id": "MbgSw9ZZo0jx",
        "outputId": "0ffa23a5-3ea7-4de3-8452-4ee38c9c3d78"
      },
      "source": [
        "part_of_data_2011.shape"
      ],
      "execution_count": 97,
      "outputs": [
        {
          "output_type": "execute_result",
          "data": {
            "text/plain": [
              "(8552, 35)"
            ]
          },
          "metadata": {
            "tags": []
          },
          "execution_count": 97
        }
      ]
    },
    {
      "cell_type": "code",
      "metadata": {
        "id": "_sk5X8Fio0mj"
      },
      "source": [
        "part_of_data_2012 = data[data[\"year\"] == 2012]"
      ],
      "execution_count": 98,
      "outputs": []
    },
    {
      "cell_type": "code",
      "metadata": {
        "colab": {
          "base_uri": "https://localhost:8080/"
        },
        "id": "G7Ebtyllo0pE",
        "outputId": "fca3c70b-34df-40cd-c347-82aa265f3cd4"
      },
      "source": [
        "part_of_data_2012.shape"
      ],
      "execution_count": 99,
      "outputs": [
        {
          "output_type": "execute_result",
          "data": {
            "text/plain": [
              "(1264991, 35)"
            ]
          },
          "metadata": {
            "tags": []
          },
          "execution_count": 99
        }
      ]
    },
    {
      "cell_type": "code",
      "metadata": {
        "id": "F7c_PPeko0rM"
      },
      "source": [
        "part_of_data_2014 = data[data[\"year\"] == 2014]"
      ],
      "execution_count": 100,
      "outputs": []
    },
    {
      "cell_type": "code",
      "metadata": {
        "colab": {
          "base_uri": "https://localhost:8080/"
        },
        "id": "s4y7chbvpJOM",
        "outputId": "096d76b0-407c-42c5-cda5-a987ab5003ea"
      },
      "source": [
        "part_of_data_2014.shape"
      ],
      "execution_count": 101,
      "outputs": [
        {
          "output_type": "execute_result",
          "data": {
            "text/plain": [
              "(295500, 35)"
            ]
          },
          "metadata": {
            "tags": []
          },
          "execution_count": 101
        }
      ]
    },
    {
      "cell_type": "markdown",
      "metadata": {
        "id": "tLXy4qZEptFh"
      },
      "source": [
        "2011 =~ 8K <br>\n",
        "2012 =~ 1.2M <br>\n",
        "2013 =~ 1.9M <br>\n",
        "2014 =~ 295K <br>"
      ]
    },
    {
      "cell_type": "code",
      "metadata": {
        "colab": {
          "base_uri": "https://localhost:8080/"
        },
        "id": "nUIHrJPfqEhh",
        "outputId": "654336a6-f03a-4e1a-9a76-2b66bc537d7e"
      },
      "source": [
        "part_of_data_2011.season.unique()"
      ],
      "execution_count": 102,
      "outputs": [
        {
          "output_type": "execute_result",
          "data": {
            "text/plain": [
              "array([3, 0])"
            ]
          },
          "metadata": {
            "tags": []
          },
          "execution_count": 102
        }
      ]
    },
    {
      "cell_type": "code",
      "metadata": {
        "colab": {
          "base_uri": "https://localhost:8080/"
        },
        "id": "ldIAAaCUqElE",
        "outputId": "8a1022db-6816-48a4-8f24-14b8e2796045"
      },
      "source": [
        "part_of_data_2014.season.unique()"
      ],
      "execution_count": 103,
      "outputs": [
        {
          "output_type": "execute_result",
          "data": {
            "text/plain": [
              "array([3])"
            ]
          },
          "metadata": {
            "tags": []
          },
          "execution_count": 103
        }
      ]
    },
    {
      "cell_type": "code",
      "metadata": {
        "id": "iWNZThb7qEnh"
      },
      "source": [
        ""
      ],
      "execution_count": 103,
      "outputs": []
    },
    {
      "cell_type": "markdown",
      "metadata": {
        "id": "nbhfxRPAvbKH"
      },
      "source": [
        "# Take some datapoints according to **season**\n",
        "\n",
        "\n",
        "\n",
        "\n",
        "1.   Each season alone\n",
        "2.   shuffling \n",
        "3.   take random 10K from each season **To ensure varity specialy in years** \n"
      ]
    },
    {
      "cell_type": "code",
      "metadata": {
        "id": "LTGhH2UYwJYO"
      },
      "source": [
        "season_0 = data.loc[data['season'] == 0]\n"
      ],
      "execution_count": 104,
      "outputs": []
    },
    {
      "cell_type": "code",
      "metadata": {
        "colab": {
          "base_uri": "https://localhost:8080/"
        },
        "id": "GbgvEnsTwJas",
        "outputId": "5327d7d0-976b-4864-ef1b-434e0395cd97"
      },
      "source": [
        "season_0.season.unique()"
      ],
      "execution_count": 105,
      "outputs": [
        {
          "output_type": "execute_result",
          "data": {
            "text/plain": [
              "array([0])"
            ]
          },
          "metadata": {
            "tags": []
          },
          "execution_count": 105
        }
      ]
    },
    {
      "cell_type": "code",
      "metadata": {
        "id": "CBn1d6tdwJdu"
      },
      "source": [
        "from sklearn.utils import shuffle\n",
        "season_0 = shuffle(season_0)"
      ],
      "execution_count": 106,
      "outputs": []
    },
    {
      "cell_type": "code",
      "metadata": {
        "id": "dEcuSAw5wJgP"
      },
      "source": [
        "season_1 = data.loc[data['season'] == 1]\n",
        "season_2 = data.loc[data['season'] == 2]\n",
        "season_3 = data.loc[data['season'] == 3]\n"
      ],
      "execution_count": 107,
      "outputs": []
    },
    {
      "cell_type": "code",
      "metadata": {
        "id": "0jX3hpFQwJmu"
      },
      "source": [
        "season_1 = shuffle(season_1)\n",
        "season_2 = shuffle(season_2)\n",
        "season_3 = shuffle(season_3)"
      ],
      "execution_count": 108,
      "outputs": []
    },
    {
      "cell_type": "code",
      "metadata": {
        "id": "Ili-Q1Igxlml"
      },
      "source": [
        "df0 = season_0.sample(n=10000)\n",
        "df1 = season_1.sample(n=10000)\n",
        "df2 = season_2.sample(n=10000)\n",
        "df3 = season_3.sample(n=10000)\n"
      ],
      "execution_count": 109,
      "outputs": []
    },
    {
      "cell_type": "code",
      "metadata": {
        "id": "BssUQ3bHxlpW"
      },
      "source": [
        "\n",
        "new_data = df0.append([ df1,df2,df3])"
      ],
      "execution_count": 110,
      "outputs": []
    },
    {
      "cell_type": "code",
      "metadata": {
        "colab": {
          "base_uri": "https://localhost:8080/"
        },
        "id": "V3PKlFyhxlr3",
        "outputId": "4ac3a114-5454-414c-e5ad-bf615ddea1cf"
      },
      "source": [
        "new_data.shape"
      ],
      "execution_count": 111,
      "outputs": [
        {
          "output_type": "execute_result",
          "data": {
            "text/plain": [
              "(40000, 35)"
            ]
          },
          "metadata": {
            "tags": []
          },
          "execution_count": 111
        }
      ]
    },
    {
      "cell_type": "code",
      "metadata": {
        "colab": {
          "base_uri": "https://localhost:8080/"
        },
        "id": "6DhXf3Rl0Er_",
        "outputId": "7eb3dc5f-5674-4c1e-c31f-711b61d4d090"
      },
      "source": [
        "new_data.season.unique()"
      ],
      "execution_count": 112,
      "outputs": [
        {
          "output_type": "execute_result",
          "data": {
            "text/plain": [
              "array([0, 1, 2, 3])"
            ]
          },
          "metadata": {
            "tags": []
          },
          "execution_count": 112
        }
      ]
    },
    {
      "cell_type": "code",
      "metadata": {
        "colab": {
          "base_uri": "https://localhost:8080/"
        },
        "id": "fAjyQvB50Eu_",
        "outputId": "dee7085d-8cb9-4f8e-9d8c-6605601dd1a7"
      },
      "source": [
        "new_data.year.unique()"
      ],
      "execution_count": 113,
      "outputs": [
        {
          "output_type": "execute_result",
          "data": {
            "text/plain": [
              "array([2012, 2013, 2011, 2014])"
            ]
          },
          "metadata": {
            "tags": []
          },
          "execution_count": 113
        }
      ]
    },
    {
      "cell_type": "code",
      "metadata": {
        "id": "kMSWoFgL0V_h"
      },
      "source": [
        "new_data = shuffle(new_data)\n"
      ],
      "execution_count": 114,
      "outputs": []
    },
    {
      "cell_type": "code",
      "metadata": {
        "colab": {
          "base_uri": "https://localhost:8080/",
          "height": 317
        },
        "id": "-z1Zg8_n0Meo",
        "outputId": "9f99c09c-a69a-420f-8b61-92374b6389d3"
      },
      "source": [
        "new_data.head()"
      ],
      "execution_count": 115,
      "outputs": [
        {
          "output_type": "execute_result",
          "data": {
            "text/html": [
              "<div>\n",
              "<style scoped>\n",
              "    .dataframe tbody tr th:only-of-type {\n",
              "        vertical-align: middle;\n",
              "    }\n",
              "\n",
              "    .dataframe tbody tr th {\n",
              "        vertical-align: top;\n",
              "    }\n",
              "\n",
              "    .dataframe thead th {\n",
              "        text-align: right;\n",
              "    }\n",
              "</style>\n",
              "<table border=\"1\" class=\"dataframe\">\n",
              "  <thead>\n",
              "    <tr style=\"text-align: right;\">\n",
              "      <th></th>\n",
              "      <th>day</th>\n",
              "      <th>LCLid</th>\n",
              "      <th>energy_sum</th>\n",
              "      <th>temperatureMax</th>\n",
              "      <th>windBearing</th>\n",
              "      <th>dewPoint</th>\n",
              "      <th>cloudCover</th>\n",
              "      <th>windSpeed</th>\n",
              "      <th>pressure</th>\n",
              "      <th>apparentTemperatureHigh</th>\n",
              "      <th>precipType</th>\n",
              "      <th>visibility</th>\n",
              "      <th>humidity</th>\n",
              "      <th>apparentTemperatureLow</th>\n",
              "      <th>apparentTemperatureMax</th>\n",
              "      <th>uvIndex</th>\n",
              "      <th>temperatureLow</th>\n",
              "      <th>temperatureMin</th>\n",
              "      <th>temperatureHigh</th>\n",
              "      <th>apparentTemperatureMin</th>\n",
              "      <th>moonPhase</th>\n",
              "      <th>icon_clear-day</th>\n",
              "      <th>icon_cloudy</th>\n",
              "      <th>icon_fog</th>\n",
              "      <th>icon_partly-cloudy-day</th>\n",
              "      <th>icon_partly-cloudy-night</th>\n",
              "      <th>icon_wind</th>\n",
              "      <th>stdorToU</th>\n",
              "      <th>Acorn_grouped</th>\n",
              "      <th>file</th>\n",
              "      <th>holiday_ind</th>\n",
              "      <th>last_day_sum</th>\n",
              "      <th>month</th>\n",
              "      <th>season</th>\n",
              "      <th>year</th>\n",
              "    </tr>\n",
              "  </thead>\n",
              "  <tbody>\n",
              "    <tr>\n",
              "      <th>2175289</th>\n",
              "      <td>2012-07-19</td>\n",
              "      <td>MAC001497</td>\n",
              "      <td>4.364</td>\n",
              "      <td>17.77</td>\n",
              "      <td>340</td>\n",
              "      <td>11.44</td>\n",
              "      <td>0.54</td>\n",
              "      <td>1.52</td>\n",
              "      <td>1016.21</td>\n",
              "      <td>17.77</td>\n",
              "      <td>1</td>\n",
              "      <td>12.18</td>\n",
              "      <td>0.79</td>\n",
              "      <td>11.83</td>\n",
              "      <td>17.77</td>\n",
              "      <td>5.0</td>\n",
              "      <td>11.83</td>\n",
              "      <td>13.12</td>\n",
              "      <td>17.77</td>\n",
              "      <td>13.12</td>\n",
              "      <td>0.04</td>\n",
              "      <td>0</td>\n",
              "      <td>0</td>\n",
              "      <td>0</td>\n",
              "      <td>1</td>\n",
              "      <td>0</td>\n",
              "      <td>0</td>\n",
              "      <td>0</td>\n",
              "      <td>4</td>\n",
              "      <td>80</td>\n",
              "      <td>0</td>\n",
              "      <td>3.952</td>\n",
              "      <td>7</td>\n",
              "      <td>2</td>\n",
              "      <td>2012</td>\n",
              "    </tr>\n",
              "    <tr>\n",
              "      <th>2203521</th>\n",
              "      <td>2013-10-03</td>\n",
              "      <td>MAC003176</td>\n",
              "      <td>10.340</td>\n",
              "      <td>20.82</td>\n",
              "      <td>208</td>\n",
              "      <td>15.39</td>\n",
              "      <td>0.62</td>\n",
              "      <td>4.04</td>\n",
              "      <td>1009.01</td>\n",
              "      <td>20.84</td>\n",
              "      <td>1</td>\n",
              "      <td>11.68</td>\n",
              "      <td>0.87</td>\n",
              "      <td>13.67</td>\n",
              "      <td>20.84</td>\n",
              "      <td>1.0</td>\n",
              "      <td>13.67</td>\n",
              "      <td>15.23</td>\n",
              "      <td>20.82</td>\n",
              "      <td>15.23</td>\n",
              "      <td>0.98</td>\n",
              "      <td>0</td>\n",
              "      <td>0</td>\n",
              "      <td>0</td>\n",
              "      <td>1</td>\n",
              "      <td>0</td>\n",
              "      <td>0</td>\n",
              "      <td>0</td>\n",
              "      <td>4</td>\n",
              "      <td>81</td>\n",
              "      <td>0</td>\n",
              "      <td>13.006</td>\n",
              "      <td>10</td>\n",
              "      <td>0</td>\n",
              "      <td>2013</td>\n",
              "    </tr>\n",
              "    <tr>\n",
              "      <th>2158078</th>\n",
              "      <td>2012-09-07</td>\n",
              "      <td>MAC001679</td>\n",
              "      <td>4.236</td>\n",
              "      <td>27.12</td>\n",
              "      <td>215</td>\n",
              "      <td>9.27</td>\n",
              "      <td>0.14</td>\n",
              "      <td>1.39</td>\n",
              "      <td>1020.60</td>\n",
              "      <td>27.12</td>\n",
              "      <td>1</td>\n",
              "      <td>12.36</td>\n",
              "      <td>0.62</td>\n",
              "      <td>11.32</td>\n",
              "      <td>27.12</td>\n",
              "      <td>4.0</td>\n",
              "      <td>11.32</td>\n",
              "      <td>10.41</td>\n",
              "      <td>27.12</td>\n",
              "      <td>10.41</td>\n",
              "      <td>0.75</td>\n",
              "      <td>0</td>\n",
              "      <td>0</td>\n",
              "      <td>0</td>\n",
              "      <td>1</td>\n",
              "      <td>0</td>\n",
              "      <td>0</td>\n",
              "      <td>0</td>\n",
              "      <td>4</td>\n",
              "      <td>78</td>\n",
              "      <td>0</td>\n",
              "      <td>3.550</td>\n",
              "      <td>9</td>\n",
              "      <td>0</td>\n",
              "      <td>2012</td>\n",
              "    </tr>\n",
              "    <tr>\n",
              "      <th>130514</th>\n",
              "      <td>2013-10-26</td>\n",
              "      <td>MAC001544</td>\n",
              "      <td>13.980</td>\n",
              "      <td>15.87</td>\n",
              "      <td>225</td>\n",
              "      <td>10.34</td>\n",
              "      <td>0.32</td>\n",
              "      <td>7.05</td>\n",
              "      <td>996.66</td>\n",
              "      <td>15.87</td>\n",
              "      <td>1</td>\n",
              "      <td>11.18</td>\n",
              "      <td>0.81</td>\n",
              "      <td>11.70</td>\n",
              "      <td>15.87</td>\n",
              "      <td>1.0</td>\n",
              "      <td>11.70</td>\n",
              "      <td>11.66</td>\n",
              "      <td>15.87</td>\n",
              "      <td>11.66</td>\n",
              "      <td>0.76</td>\n",
              "      <td>0</td>\n",
              "      <td>0</td>\n",
              "      <td>0</td>\n",
              "      <td>0</td>\n",
              "      <td>0</td>\n",
              "      <td>1</td>\n",
              "      <td>0</td>\n",
              "      <td>3</td>\n",
              "      <td>46</td>\n",
              "      <td>0</td>\n",
              "      <td>23.422</td>\n",
              "      <td>10</td>\n",
              "      <td>0</td>\n",
              "      <td>2013</td>\n",
              "    </tr>\n",
              "    <tr>\n",
              "      <th>1508327</th>\n",
              "      <td>2013-03-15</td>\n",
              "      <td>MAC000655</td>\n",
              "      <td>6.663</td>\n",
              "      <td>8.27</td>\n",
              "      <td>207</td>\n",
              "      <td>2.72</td>\n",
              "      <td>0.65</td>\n",
              "      <td>5.82</td>\n",
              "      <td>1007.60</td>\n",
              "      <td>4.56</td>\n",
              "      <td>1</td>\n",
              "      <td>12.36</td>\n",
              "      <td>0.81</td>\n",
              "      <td>1.78</td>\n",
              "      <td>4.56</td>\n",
              "      <td>2.0</td>\n",
              "      <td>6.36</td>\n",
              "      <td>2.99</td>\n",
              "      <td>8.27</td>\n",
              "      <td>-0.32</td>\n",
              "      <td>0.12</td>\n",
              "      <td>0</td>\n",
              "      <td>0</td>\n",
              "      <td>0</td>\n",
              "      <td>0</td>\n",
              "      <td>0</td>\n",
              "      <td>1</td>\n",
              "      <td>0</td>\n",
              "      <td>4</td>\n",
              "      <td>54</td>\n",
              "      <td>0</td>\n",
              "      <td>7.472</td>\n",
              "      <td>3</td>\n",
              "      <td>1</td>\n",
              "      <td>2013</td>\n",
              "    </tr>\n",
              "  </tbody>\n",
              "</table>\n",
              "</div>"
            ],
            "text/plain": [
              "               day      LCLid  energy_sum  ...  month  season  year\n",
              "2175289 2012-07-19  MAC001497       4.364  ...      7       2  2012\n",
              "2203521 2013-10-03  MAC003176      10.340  ...     10       0  2013\n",
              "2158078 2012-09-07  MAC001679       4.236  ...      9       0  2012\n",
              "130514  2013-10-26  MAC001544      13.980  ...     10       0  2013\n",
              "1508327 2013-03-15  MAC000655       6.663  ...      3       1  2013\n",
              "\n",
              "[5 rows x 35 columns]"
            ]
          },
          "metadata": {
            "tags": []
          },
          "execution_count": 115
        }
      ]
    },
    {
      "cell_type": "markdown",
      "metadata": {
        "id": "tzz8VDrz6V3a"
      },
      "source": [
        "# Download the data"
      ]
    },
    {
      "cell_type": "code",
      "metadata": {
        "colab": {
          "base_uri": "https://localhost:8080/",
          "height": 16
        },
        "id": "ZILVGn8t6WNa",
        "outputId": "7a01fadb-47bc-45a8-ba58-bbc8d8f0c445"
      },
      "source": [
        "from google.colab import files\n",
        "new_data.to_csv('sample_data.csv') \n",
        "files.download('sample_data.csv')"
      ],
      "execution_count": 120,
      "outputs": [
        {
          "output_type": "display_data",
          "data": {
            "application/javascript": [
              "\n",
              "    async function download(id, filename, size) {\n",
              "      if (!google.colab.kernel.accessAllowed) {\n",
              "        return;\n",
              "      }\n",
              "      const div = document.createElement('div');\n",
              "      const label = document.createElement('label');\n",
              "      label.textContent = `Downloading \"${filename}\": `;\n",
              "      div.appendChild(label);\n",
              "      const progress = document.createElement('progress');\n",
              "      progress.max = size;\n",
              "      div.appendChild(progress);\n",
              "      document.body.appendChild(div);\n",
              "\n",
              "      const buffers = [];\n",
              "      let downloaded = 0;\n",
              "\n",
              "      const channel = await google.colab.kernel.comms.open(id);\n",
              "      // Send a message to notify the kernel that we're ready.\n",
              "      channel.send({})\n",
              "\n",
              "      for await (const message of channel.messages) {\n",
              "        // Send a message to notify the kernel that we're ready.\n",
              "        channel.send({})\n",
              "        if (message.buffers) {\n",
              "          for (const buffer of message.buffers) {\n",
              "            buffers.push(buffer);\n",
              "            downloaded += buffer.byteLength;\n",
              "            progress.value = downloaded;\n",
              "          }\n",
              "        }\n",
              "      }\n",
              "      const blob = new Blob(buffers, {type: 'application/binary'});\n",
              "      const a = document.createElement('a');\n",
              "      a.href = window.URL.createObjectURL(blob);\n",
              "      a.download = filename;\n",
              "      div.appendChild(a);\n",
              "      a.click();\n",
              "      div.remove();\n",
              "    }\n",
              "  "
            ],
            "text/plain": [
              "<IPython.core.display.Javascript object>"
            ]
          },
          "metadata": {
            "tags": []
          }
        },
        {
          "output_type": "display_data",
          "data": {
            "application/javascript": [
              "download(\"download_6ca0416f-05b5-4067-aa3e-cb823f8aded1\", \"sample_data.csv\", 7183842)"
            ],
            "text/plain": [
              "<IPython.core.display.Javascript object>"
            ]
          },
          "metadata": {
            "tags": []
          }
        }
      ]
    },
    {
      "cell_type": "code",
      "metadata": {
        "id": "FqQYGRwl9JkO"
      },
      "source": [
        ""
      ],
      "execution_count": null,
      "outputs": []
    },
    {
      "cell_type": "code",
      "metadata": {
        "id": "VdV6Kxvm9JnM"
      },
      "source": [
        ""
      ],
      "execution_count": null,
      "outputs": []
    },
    {
      "cell_type": "code",
      "metadata": {
        "id": "EzLYZlKY9JqB"
      },
      "source": [
        ""
      ],
      "execution_count": null,
      "outputs": []
    },
    {
      "cell_type": "markdown",
      "metadata": {
        "id": "-egzwIXw9Ouu"
      },
      "source": [
        "# **Here**"
      ]
    },
    {
      "cell_type": "code",
      "metadata": {
        "colab": {
          "base_uri": "https://localhost:8080/"
        },
        "id": "Naj-Ut5K9Jsp",
        "outputId": "6a06af47-baee-4f44-e8ef-a0ff98701029"
      },
      "source": [
        "from google.colab import drive\n",
        "drive.mount('/content/drive')"
      ],
      "execution_count": 1,
      "outputs": [
        {
          "output_type": "stream",
          "text": [
            "Mounted at /content/drive\n"
          ],
          "name": "stdout"
        }
      ]
    },
    {
      "cell_type": "code",
      "metadata": {
        "id": "sAoQWQSj9JvR"
      },
      "source": [
        "import pandas as pd\n"
      ],
      "execution_count": 2,
      "outputs": []
    },
    {
      "cell_type": "code",
      "metadata": {
        "colab": {
          "base_uri": "https://localhost:8080/"
        },
        "id": "bh2xDosK9kJi",
        "outputId": "43ecdc86-9e90-413f-b66b-1f151e50b23f"
      },
      "source": [
        "drive.mount('/content/gdrive')\n",
        "path='/content/gdrive/My Drive/GP | Smart Meter | CIC/Datasets'"
      ],
      "execution_count": 6,
      "outputs": [
        {
          "output_type": "stream",
          "text": [
            "Drive already mounted at /content/gdrive; to attempt to forcibly remount, call drive.mount(\"/content/gdrive\", force_remount=True).\n"
          ],
          "name": "stdout"
        }
      ]
    },
    {
      "cell_type": "code",
      "metadata": {
        "id": "hOUbPOU89Jx8"
      },
      "source": [
        "new_data = pd.read_csv(path + \"/sample_data_.csv\")\n"
      ],
      "execution_count": 7,
      "outputs": []
    },
    {
      "cell_type": "code",
      "metadata": {
        "colab": {
          "base_uri": "https://localhost:8080/",
          "height": 317
        },
        "id": "YXGlFPFv9nX-",
        "outputId": "4970dbaf-c6d9-49f4-df49-373bb59dbf51"
      },
      "source": [
        "new_data.head()"
      ],
      "execution_count": 8,
      "outputs": [
        {
          "output_type": "execute_result",
          "data": {
            "text/html": [
              "<div>\n",
              "<style scoped>\n",
              "    .dataframe tbody tr th:only-of-type {\n",
              "        vertical-align: middle;\n",
              "    }\n",
              "\n",
              "    .dataframe tbody tr th {\n",
              "        vertical-align: top;\n",
              "    }\n",
              "\n",
              "    .dataframe thead th {\n",
              "        text-align: right;\n",
              "    }\n",
              "</style>\n",
              "<table border=\"1\" class=\"dataframe\">\n",
              "  <thead>\n",
              "    <tr style=\"text-align: right;\">\n",
              "      <th></th>\n",
              "      <th>Unnamed: 0</th>\n",
              "      <th>day</th>\n",
              "      <th>LCLid</th>\n",
              "      <th>energy_sum</th>\n",
              "      <th>temperatureMax</th>\n",
              "      <th>windBearing</th>\n",
              "      <th>dewPoint</th>\n",
              "      <th>cloudCover</th>\n",
              "      <th>windSpeed</th>\n",
              "      <th>pressure</th>\n",
              "      <th>apparentTemperatureHigh</th>\n",
              "      <th>precipType</th>\n",
              "      <th>visibility</th>\n",
              "      <th>humidity</th>\n",
              "      <th>apparentTemperatureLow</th>\n",
              "      <th>apparentTemperatureMax</th>\n",
              "      <th>uvIndex</th>\n",
              "      <th>temperatureLow</th>\n",
              "      <th>temperatureMin</th>\n",
              "      <th>temperatureHigh</th>\n",
              "      <th>apparentTemperatureMin</th>\n",
              "      <th>moonPhase</th>\n",
              "      <th>icon_clear-day</th>\n",
              "      <th>icon_cloudy</th>\n",
              "      <th>icon_fog</th>\n",
              "      <th>icon_partly-cloudy-day</th>\n",
              "      <th>icon_partly-cloudy-night</th>\n",
              "      <th>icon_wind</th>\n",
              "      <th>stdorToU</th>\n",
              "      <th>Acorn_grouped</th>\n",
              "      <th>file</th>\n",
              "      <th>holiday_ind</th>\n",
              "      <th>last_day_sum</th>\n",
              "      <th>month</th>\n",
              "      <th>season</th>\n",
              "      <th>year</th>\n",
              "    </tr>\n",
              "  </thead>\n",
              "  <tbody>\n",
              "    <tr>\n",
              "      <th>0</th>\n",
              "      <td>2175289</td>\n",
              "      <td>2012-07-19</td>\n",
              "      <td>MAC001497</td>\n",
              "      <td>4.364</td>\n",
              "      <td>17.77</td>\n",
              "      <td>340</td>\n",
              "      <td>11.44</td>\n",
              "      <td>0.54</td>\n",
              "      <td>1.52</td>\n",
              "      <td>1016.21</td>\n",
              "      <td>17.77</td>\n",
              "      <td>1</td>\n",
              "      <td>12.18</td>\n",
              "      <td>0.79</td>\n",
              "      <td>11.83</td>\n",
              "      <td>17.77</td>\n",
              "      <td>5.0</td>\n",
              "      <td>11.83</td>\n",
              "      <td>13.12</td>\n",
              "      <td>17.77</td>\n",
              "      <td>13.12</td>\n",
              "      <td>0.04</td>\n",
              "      <td>0</td>\n",
              "      <td>0</td>\n",
              "      <td>0</td>\n",
              "      <td>1</td>\n",
              "      <td>0</td>\n",
              "      <td>0</td>\n",
              "      <td>0</td>\n",
              "      <td>4</td>\n",
              "      <td>80</td>\n",
              "      <td>0</td>\n",
              "      <td>3.952</td>\n",
              "      <td>7</td>\n",
              "      <td>2</td>\n",
              "      <td>2012</td>\n",
              "    </tr>\n",
              "    <tr>\n",
              "      <th>1</th>\n",
              "      <td>2203521</td>\n",
              "      <td>2013-10-03</td>\n",
              "      <td>MAC003176</td>\n",
              "      <td>10.340</td>\n",
              "      <td>20.82</td>\n",
              "      <td>208</td>\n",
              "      <td>15.39</td>\n",
              "      <td>0.62</td>\n",
              "      <td>4.04</td>\n",
              "      <td>1009.01</td>\n",
              "      <td>20.84</td>\n",
              "      <td>1</td>\n",
              "      <td>11.68</td>\n",
              "      <td>0.87</td>\n",
              "      <td>13.67</td>\n",
              "      <td>20.84</td>\n",
              "      <td>1.0</td>\n",
              "      <td>13.67</td>\n",
              "      <td>15.23</td>\n",
              "      <td>20.82</td>\n",
              "      <td>15.23</td>\n",
              "      <td>0.98</td>\n",
              "      <td>0</td>\n",
              "      <td>0</td>\n",
              "      <td>0</td>\n",
              "      <td>1</td>\n",
              "      <td>0</td>\n",
              "      <td>0</td>\n",
              "      <td>0</td>\n",
              "      <td>4</td>\n",
              "      <td>81</td>\n",
              "      <td>0</td>\n",
              "      <td>13.006</td>\n",
              "      <td>10</td>\n",
              "      <td>0</td>\n",
              "      <td>2013</td>\n",
              "    </tr>\n",
              "    <tr>\n",
              "      <th>2</th>\n",
              "      <td>2158078</td>\n",
              "      <td>2012-09-07</td>\n",
              "      <td>MAC001679</td>\n",
              "      <td>4.236</td>\n",
              "      <td>27.12</td>\n",
              "      <td>215</td>\n",
              "      <td>9.27</td>\n",
              "      <td>0.14</td>\n",
              "      <td>1.39</td>\n",
              "      <td>1020.60</td>\n",
              "      <td>27.12</td>\n",
              "      <td>1</td>\n",
              "      <td>12.36</td>\n",
              "      <td>0.62</td>\n",
              "      <td>11.32</td>\n",
              "      <td>27.12</td>\n",
              "      <td>4.0</td>\n",
              "      <td>11.32</td>\n",
              "      <td>10.41</td>\n",
              "      <td>27.12</td>\n",
              "      <td>10.41</td>\n",
              "      <td>0.75</td>\n",
              "      <td>0</td>\n",
              "      <td>0</td>\n",
              "      <td>0</td>\n",
              "      <td>1</td>\n",
              "      <td>0</td>\n",
              "      <td>0</td>\n",
              "      <td>0</td>\n",
              "      <td>4</td>\n",
              "      <td>78</td>\n",
              "      <td>0</td>\n",
              "      <td>3.550</td>\n",
              "      <td>9</td>\n",
              "      <td>0</td>\n",
              "      <td>2012</td>\n",
              "    </tr>\n",
              "    <tr>\n",
              "      <th>3</th>\n",
              "      <td>130514</td>\n",
              "      <td>2013-10-26</td>\n",
              "      <td>MAC001544</td>\n",
              "      <td>13.980</td>\n",
              "      <td>15.87</td>\n",
              "      <td>225</td>\n",
              "      <td>10.34</td>\n",
              "      <td>0.32</td>\n",
              "      <td>7.05</td>\n",
              "      <td>996.66</td>\n",
              "      <td>15.87</td>\n",
              "      <td>1</td>\n",
              "      <td>11.18</td>\n",
              "      <td>0.81</td>\n",
              "      <td>11.70</td>\n",
              "      <td>15.87</td>\n",
              "      <td>1.0</td>\n",
              "      <td>11.70</td>\n",
              "      <td>11.66</td>\n",
              "      <td>15.87</td>\n",
              "      <td>11.66</td>\n",
              "      <td>0.76</td>\n",
              "      <td>0</td>\n",
              "      <td>0</td>\n",
              "      <td>0</td>\n",
              "      <td>0</td>\n",
              "      <td>0</td>\n",
              "      <td>1</td>\n",
              "      <td>0</td>\n",
              "      <td>3</td>\n",
              "      <td>46</td>\n",
              "      <td>0</td>\n",
              "      <td>23.422</td>\n",
              "      <td>10</td>\n",
              "      <td>0</td>\n",
              "      <td>2013</td>\n",
              "    </tr>\n",
              "    <tr>\n",
              "      <th>4</th>\n",
              "      <td>1508327</td>\n",
              "      <td>2013-03-15</td>\n",
              "      <td>MAC000655</td>\n",
              "      <td>6.663</td>\n",
              "      <td>8.27</td>\n",
              "      <td>207</td>\n",
              "      <td>2.72</td>\n",
              "      <td>0.65</td>\n",
              "      <td>5.82</td>\n",
              "      <td>1007.60</td>\n",
              "      <td>4.56</td>\n",
              "      <td>1</td>\n",
              "      <td>12.36</td>\n",
              "      <td>0.81</td>\n",
              "      <td>1.78</td>\n",
              "      <td>4.56</td>\n",
              "      <td>2.0</td>\n",
              "      <td>6.36</td>\n",
              "      <td>2.99</td>\n",
              "      <td>8.27</td>\n",
              "      <td>-0.32</td>\n",
              "      <td>0.12</td>\n",
              "      <td>0</td>\n",
              "      <td>0</td>\n",
              "      <td>0</td>\n",
              "      <td>0</td>\n",
              "      <td>0</td>\n",
              "      <td>1</td>\n",
              "      <td>0</td>\n",
              "      <td>4</td>\n",
              "      <td>54</td>\n",
              "      <td>0</td>\n",
              "      <td>7.472</td>\n",
              "      <td>3</td>\n",
              "      <td>1</td>\n",
              "      <td>2013</td>\n",
              "    </tr>\n",
              "  </tbody>\n",
              "</table>\n",
              "</div>"
            ],
            "text/plain": [
              "   Unnamed: 0         day      LCLid  ...  month  season  year\n",
              "0     2175289  2012-07-19  MAC001497  ...      7       2  2012\n",
              "1     2203521  2013-10-03  MAC003176  ...     10       0  2013\n",
              "2     2158078  2012-09-07  MAC001679  ...      9       0  2012\n",
              "3      130514  2013-10-26  MAC001544  ...     10       0  2013\n",
              "4     1508327  2013-03-15  MAC000655  ...      3       1  2013\n",
              "\n",
              "[5 rows x 36 columns]"
            ]
          },
          "metadata": {
            "tags": []
          },
          "execution_count": 8
        }
      ]
    },
    {
      "cell_type": "markdown",
      "metadata": {
        "id": "yzhcpx30dK30"
      },
      "source": [
        "#First without any feature scaling or Validation \n"
      ]
    },
    {
      "cell_type": "markdown",
      "metadata": {
        "id": "JYHsaUildYCj"
      },
      "source": [
        "## Split data to traing and testing"
      ]
    },
    {
      "cell_type": "code",
      "metadata": {
        "id": "pNQciwDfc53v"
      },
      "source": [
        "from sklearn.model_selection import train_test_split\n",
        "\n",
        "X = new_data.iloc[:, 4:-1].values\n",
        "y = new_data.iloc[:,3].values\n",
        "\n",
        "X_train, X_test, y_train, y_test = train_test_split(X, y, test_size=0.2,random_state=9)"
      ],
      "execution_count": 9,
      "outputs": []
    },
    {
      "cell_type": "code",
      "metadata": {
        "id": "7sTArm67eO2i"
      },
      "source": [
        "from sklearn.ensemble import RandomForestRegressor\n",
        "\n",
        "#regressor = RandomForestRegressor(n_estimators=8000,random_state= 42)\n",
        "regressor = RandomForestRegressor(n_estimators=1000,random_state= 9)\n",
        "\n",
        "regressor.fit(X_train, y_train)\n",
        "y_pred = regressor.predict(X_test)\n"
      ],
      "execution_count": 10,
      "outputs": []
    },
    {
      "cell_type": "code",
      "metadata": {
        "id": "8TD5jQ9jfTbY",
        "colab": {
          "base_uri": "https://localhost:8080/"
        },
        "outputId": "e1c0bfc2-6495-4cd4-9298-058f0c3c7f32"
      },
      "source": [
        "from sklearn import metrics\n",
        "import numpy as np\n",
        "\n",
        "rrmse = np.sqrt(metrics.mean_squared_error(y_test, y_pred)) / np.mean(y_test)\n",
        "print('Relative root mean squared error percentage:', rrmse*100)\n"
      ],
      "execution_count": 13,
      "outputs": [
        {
          "output_type": "stream",
          "text": [
            "Relative root mean squared error percentage: 38.86752271621483\n"
          ],
          "name": "stdout"
        }
      ]
    },
    {
      "cell_type": "code",
      "metadata": {
        "id": "zTKUa7SohD-K"
      },
      "source": [
        "from sklearn.ensemble import ExtraTreesRegressor\n",
        "\n",
        "regressor2 = ExtraTreesRegressor(n_estimators=1000, random_state=9)\n",
        "regressor2.fit(X_train, y_train)\n",
        "y_pred2 = regressor2.predict(X_test)"
      ],
      "execution_count": 15,
      "outputs": []
    },
    {
      "cell_type": "code",
      "metadata": {
        "id": "jHG0neJ-iBvp",
        "colab": {
          "base_uri": "https://localhost:8080/"
        },
        "outputId": "00267539-dc8f-47b9-d715-2885869009c0"
      },
      "source": [
        "rrmse2 = np.sqrt(metrics.mean_squared_error(y_test, y_pred2)) / np.mean(y_test)\n",
        "print('Relative root mean squared error percentage:', rrmse2*100)"
      ],
      "execution_count": 16,
      "outputs": [
        {
          "output_type": "stream",
          "text": [
            "Relative root mean squared error percentage: 39.83535717282509\n"
          ],
          "name": "stdout"
        }
      ]
    },
    {
      "cell_type": "code",
      "metadata": {
        "id": "kwmNLfQa4IyL"
      },
      "source": [
        ""
      ],
      "execution_count": null,
      "outputs": []
    },
    {
      "cell_type": "code",
      "metadata": {
        "id": "K_awyUfTDJlQ"
      },
      "source": [
        ""
      ],
      "execution_count": null,
      "outputs": []
    },
    {
      "cell_type": "markdown",
      "metadata": {
        "id": "HRQEPhVlDcPT"
      },
      "source": [
        "#**Performing Standard Scaling**"
      ]
    },
    {
      "cell_type": "code",
      "metadata": {
        "id": "C4lc-t2iExg1"
      },
      "source": [
        "new_data = pd.read_csv(path + \"/sample_data_.csv\")\n"
      ],
      "execution_count": 23,
      "outputs": []
    },
    {
      "cell_type": "code",
      "metadata": {
        "colab": {
          "base_uri": "https://localhost:8080/",
          "height": 317
        },
        "id": "_h1UV4K7E1_X",
        "outputId": "8054075e-21cc-4460-8a2a-208fd8cc7302"
      },
      "source": [
        "new_data.head()"
      ],
      "execution_count": 24,
      "outputs": [
        {
          "output_type": "execute_result",
          "data": {
            "text/html": [
              "<div>\n",
              "<style scoped>\n",
              "    .dataframe tbody tr th:only-of-type {\n",
              "        vertical-align: middle;\n",
              "    }\n",
              "\n",
              "    .dataframe tbody tr th {\n",
              "        vertical-align: top;\n",
              "    }\n",
              "\n",
              "    .dataframe thead th {\n",
              "        text-align: right;\n",
              "    }\n",
              "</style>\n",
              "<table border=\"1\" class=\"dataframe\">\n",
              "  <thead>\n",
              "    <tr style=\"text-align: right;\">\n",
              "      <th></th>\n",
              "      <th>Unnamed: 0</th>\n",
              "      <th>day</th>\n",
              "      <th>LCLid</th>\n",
              "      <th>energy_sum</th>\n",
              "      <th>temperatureMax</th>\n",
              "      <th>windBearing</th>\n",
              "      <th>dewPoint</th>\n",
              "      <th>cloudCover</th>\n",
              "      <th>windSpeed</th>\n",
              "      <th>pressure</th>\n",
              "      <th>apparentTemperatureHigh</th>\n",
              "      <th>precipType</th>\n",
              "      <th>visibility</th>\n",
              "      <th>humidity</th>\n",
              "      <th>apparentTemperatureLow</th>\n",
              "      <th>apparentTemperatureMax</th>\n",
              "      <th>uvIndex</th>\n",
              "      <th>temperatureLow</th>\n",
              "      <th>temperatureMin</th>\n",
              "      <th>temperatureHigh</th>\n",
              "      <th>apparentTemperatureMin</th>\n",
              "      <th>moonPhase</th>\n",
              "      <th>icon_clear-day</th>\n",
              "      <th>icon_cloudy</th>\n",
              "      <th>icon_fog</th>\n",
              "      <th>icon_partly-cloudy-day</th>\n",
              "      <th>icon_partly-cloudy-night</th>\n",
              "      <th>icon_wind</th>\n",
              "      <th>stdorToU</th>\n",
              "      <th>Acorn_grouped</th>\n",
              "      <th>file</th>\n",
              "      <th>holiday_ind</th>\n",
              "      <th>last_day_sum</th>\n",
              "      <th>month</th>\n",
              "      <th>season</th>\n",
              "      <th>year</th>\n",
              "    </tr>\n",
              "  </thead>\n",
              "  <tbody>\n",
              "    <tr>\n",
              "      <th>0</th>\n",
              "      <td>2175289</td>\n",
              "      <td>2012-07-19</td>\n",
              "      <td>MAC001497</td>\n",
              "      <td>4.364</td>\n",
              "      <td>17.77</td>\n",
              "      <td>340</td>\n",
              "      <td>11.44</td>\n",
              "      <td>0.54</td>\n",
              "      <td>1.52</td>\n",
              "      <td>1016.21</td>\n",
              "      <td>17.77</td>\n",
              "      <td>1</td>\n",
              "      <td>12.18</td>\n",
              "      <td>0.79</td>\n",
              "      <td>11.83</td>\n",
              "      <td>17.77</td>\n",
              "      <td>5.0</td>\n",
              "      <td>11.83</td>\n",
              "      <td>13.12</td>\n",
              "      <td>17.77</td>\n",
              "      <td>13.12</td>\n",
              "      <td>0.04</td>\n",
              "      <td>0</td>\n",
              "      <td>0</td>\n",
              "      <td>0</td>\n",
              "      <td>1</td>\n",
              "      <td>0</td>\n",
              "      <td>0</td>\n",
              "      <td>0</td>\n",
              "      <td>4</td>\n",
              "      <td>80</td>\n",
              "      <td>0</td>\n",
              "      <td>3.952</td>\n",
              "      <td>7</td>\n",
              "      <td>2</td>\n",
              "      <td>2012</td>\n",
              "    </tr>\n",
              "    <tr>\n",
              "      <th>1</th>\n",
              "      <td>2203521</td>\n",
              "      <td>2013-10-03</td>\n",
              "      <td>MAC003176</td>\n",
              "      <td>10.340</td>\n",
              "      <td>20.82</td>\n",
              "      <td>208</td>\n",
              "      <td>15.39</td>\n",
              "      <td>0.62</td>\n",
              "      <td>4.04</td>\n",
              "      <td>1009.01</td>\n",
              "      <td>20.84</td>\n",
              "      <td>1</td>\n",
              "      <td>11.68</td>\n",
              "      <td>0.87</td>\n",
              "      <td>13.67</td>\n",
              "      <td>20.84</td>\n",
              "      <td>1.0</td>\n",
              "      <td>13.67</td>\n",
              "      <td>15.23</td>\n",
              "      <td>20.82</td>\n",
              "      <td>15.23</td>\n",
              "      <td>0.98</td>\n",
              "      <td>0</td>\n",
              "      <td>0</td>\n",
              "      <td>0</td>\n",
              "      <td>1</td>\n",
              "      <td>0</td>\n",
              "      <td>0</td>\n",
              "      <td>0</td>\n",
              "      <td>4</td>\n",
              "      <td>81</td>\n",
              "      <td>0</td>\n",
              "      <td>13.006</td>\n",
              "      <td>10</td>\n",
              "      <td>0</td>\n",
              "      <td>2013</td>\n",
              "    </tr>\n",
              "    <tr>\n",
              "      <th>2</th>\n",
              "      <td>2158078</td>\n",
              "      <td>2012-09-07</td>\n",
              "      <td>MAC001679</td>\n",
              "      <td>4.236</td>\n",
              "      <td>27.12</td>\n",
              "      <td>215</td>\n",
              "      <td>9.27</td>\n",
              "      <td>0.14</td>\n",
              "      <td>1.39</td>\n",
              "      <td>1020.60</td>\n",
              "      <td>27.12</td>\n",
              "      <td>1</td>\n",
              "      <td>12.36</td>\n",
              "      <td>0.62</td>\n",
              "      <td>11.32</td>\n",
              "      <td>27.12</td>\n",
              "      <td>4.0</td>\n",
              "      <td>11.32</td>\n",
              "      <td>10.41</td>\n",
              "      <td>27.12</td>\n",
              "      <td>10.41</td>\n",
              "      <td>0.75</td>\n",
              "      <td>0</td>\n",
              "      <td>0</td>\n",
              "      <td>0</td>\n",
              "      <td>1</td>\n",
              "      <td>0</td>\n",
              "      <td>0</td>\n",
              "      <td>0</td>\n",
              "      <td>4</td>\n",
              "      <td>78</td>\n",
              "      <td>0</td>\n",
              "      <td>3.550</td>\n",
              "      <td>9</td>\n",
              "      <td>0</td>\n",
              "      <td>2012</td>\n",
              "    </tr>\n",
              "    <tr>\n",
              "      <th>3</th>\n",
              "      <td>130514</td>\n",
              "      <td>2013-10-26</td>\n",
              "      <td>MAC001544</td>\n",
              "      <td>13.980</td>\n",
              "      <td>15.87</td>\n",
              "      <td>225</td>\n",
              "      <td>10.34</td>\n",
              "      <td>0.32</td>\n",
              "      <td>7.05</td>\n",
              "      <td>996.66</td>\n",
              "      <td>15.87</td>\n",
              "      <td>1</td>\n",
              "      <td>11.18</td>\n",
              "      <td>0.81</td>\n",
              "      <td>11.70</td>\n",
              "      <td>15.87</td>\n",
              "      <td>1.0</td>\n",
              "      <td>11.70</td>\n",
              "      <td>11.66</td>\n",
              "      <td>15.87</td>\n",
              "      <td>11.66</td>\n",
              "      <td>0.76</td>\n",
              "      <td>0</td>\n",
              "      <td>0</td>\n",
              "      <td>0</td>\n",
              "      <td>0</td>\n",
              "      <td>0</td>\n",
              "      <td>1</td>\n",
              "      <td>0</td>\n",
              "      <td>3</td>\n",
              "      <td>46</td>\n",
              "      <td>0</td>\n",
              "      <td>23.422</td>\n",
              "      <td>10</td>\n",
              "      <td>0</td>\n",
              "      <td>2013</td>\n",
              "    </tr>\n",
              "    <tr>\n",
              "      <th>4</th>\n",
              "      <td>1508327</td>\n",
              "      <td>2013-03-15</td>\n",
              "      <td>MAC000655</td>\n",
              "      <td>6.663</td>\n",
              "      <td>8.27</td>\n",
              "      <td>207</td>\n",
              "      <td>2.72</td>\n",
              "      <td>0.65</td>\n",
              "      <td>5.82</td>\n",
              "      <td>1007.60</td>\n",
              "      <td>4.56</td>\n",
              "      <td>1</td>\n",
              "      <td>12.36</td>\n",
              "      <td>0.81</td>\n",
              "      <td>1.78</td>\n",
              "      <td>4.56</td>\n",
              "      <td>2.0</td>\n",
              "      <td>6.36</td>\n",
              "      <td>2.99</td>\n",
              "      <td>8.27</td>\n",
              "      <td>-0.32</td>\n",
              "      <td>0.12</td>\n",
              "      <td>0</td>\n",
              "      <td>0</td>\n",
              "      <td>0</td>\n",
              "      <td>0</td>\n",
              "      <td>0</td>\n",
              "      <td>1</td>\n",
              "      <td>0</td>\n",
              "      <td>4</td>\n",
              "      <td>54</td>\n",
              "      <td>0</td>\n",
              "      <td>7.472</td>\n",
              "      <td>3</td>\n",
              "      <td>1</td>\n",
              "      <td>2013</td>\n",
              "    </tr>\n",
              "  </tbody>\n",
              "</table>\n",
              "</div>"
            ],
            "text/plain": [
              "   Unnamed: 0         day      LCLid  ...  month  season  year\n",
              "0     2175289  2012-07-19  MAC001497  ...      7       2  2012\n",
              "1     2203521  2013-10-03  MAC003176  ...     10       0  2013\n",
              "2     2158078  2012-09-07  MAC001679  ...      9       0  2012\n",
              "3      130514  2013-10-26  MAC001544  ...     10       0  2013\n",
              "4     1508327  2013-03-15  MAC000655  ...      3       1  2013\n",
              "\n",
              "[5 rows x 36 columns]"
            ]
          },
          "metadata": {
            "tags": []
          },
          "execution_count": 24
        }
      ]
    },
    {
      "cell_type": "code",
      "metadata": {
        "id": "Iqj9x4IeFDVH"
      },
      "source": [
        "new_data = new_data.drop(['Unnamed: 0','day','LCLid','year'], axis = 1)"
      ],
      "execution_count": 25,
      "outputs": []
    },
    {
      "cell_type": "code",
      "metadata": {
        "id": "E6BDp_rWDJqt"
      },
      "source": [
        "from sklearn.preprocessing import StandardScaler\n",
        "import numpy as np\n",
        "\n",
        "scaler = StandardScaler()\n",
        "scaled_data  = pd.DataFrame(scaler.fit_transform(new_data),columns = new_data.columns)\n",
        "\n",
        "\n",
        "\n"
      ],
      "execution_count": 28,
      "outputs": []
    },
    {
      "cell_type": "code",
      "metadata": {
        "colab": {
          "base_uri": "https://localhost:8080/",
          "height": 234
        },
        "id": "UjYVeZn2FkPa",
        "outputId": "41095048-f72f-4dc8-c495-bd0b69d03d66"
      },
      "source": [
        "scaled_data.head()"
      ],
      "execution_count": 29,
      "outputs": [
        {
          "output_type": "execute_result",
          "data": {
            "text/html": [
              "<div>\n",
              "<style scoped>\n",
              "    .dataframe tbody tr th:only-of-type {\n",
              "        vertical-align: middle;\n",
              "    }\n",
              "\n",
              "    .dataframe tbody tr th {\n",
              "        vertical-align: top;\n",
              "    }\n",
              "\n",
              "    .dataframe thead th {\n",
              "        text-align: right;\n",
              "    }\n",
              "</style>\n",
              "<table border=\"1\" class=\"dataframe\">\n",
              "  <thead>\n",
              "    <tr style=\"text-align: right;\">\n",
              "      <th></th>\n",
              "      <th>energy_sum</th>\n",
              "      <th>temperatureMax</th>\n",
              "      <th>windBearing</th>\n",
              "      <th>dewPoint</th>\n",
              "      <th>cloudCover</th>\n",
              "      <th>windSpeed</th>\n",
              "      <th>pressure</th>\n",
              "      <th>apparentTemperatureHigh</th>\n",
              "      <th>precipType</th>\n",
              "      <th>visibility</th>\n",
              "      <th>humidity</th>\n",
              "      <th>apparentTemperatureLow</th>\n",
              "      <th>apparentTemperatureMax</th>\n",
              "      <th>uvIndex</th>\n",
              "      <th>temperatureLow</th>\n",
              "      <th>temperatureMin</th>\n",
              "      <th>temperatureHigh</th>\n",
              "      <th>apparentTemperatureMin</th>\n",
              "      <th>moonPhase</th>\n",
              "      <th>icon_clear-day</th>\n",
              "      <th>icon_cloudy</th>\n",
              "      <th>icon_fog</th>\n",
              "      <th>icon_partly-cloudy-day</th>\n",
              "      <th>icon_partly-cloudy-night</th>\n",
              "      <th>icon_wind</th>\n",
              "      <th>stdorToU</th>\n",
              "      <th>Acorn_grouped</th>\n",
              "      <th>file</th>\n",
              "      <th>holiday_ind</th>\n",
              "      <th>last_day_sum</th>\n",
              "      <th>month</th>\n",
              "      <th>season</th>\n",
              "    </tr>\n",
              "  </thead>\n",
              "  <tbody>\n",
              "    <tr>\n",
              "      <th>0</th>\n",
              "      <td>-0.617481</td>\n",
              "      <td>0.548764</td>\n",
              "      <td>1.617234</td>\n",
              "      <td>0.912536</td>\n",
              "      <td>0.312876</td>\n",
              "      <td>-1.224871</td>\n",
              "      <td>0.305502</td>\n",
              "      <td>0.589072</td>\n",
              "      <td>0.139076</td>\n",
              "      <td>0.373446</td>\n",
              "      <td>0.159506</td>\n",
              "      <td>0.829259</td>\n",
              "      <td>0.576512</td>\n",
              "      <td>1.154807</td>\n",
              "      <td>0.735127</td>\n",
              "      <td>1.041087</td>\n",
              "      <td>0.559614</td>\n",
              "      <td>1.083307</td>\n",
              "      <td>-1.603755</td>\n",
              "      <td>-0.077367</td>\n",
              "      <td>-0.105825</td>\n",
              "      <td>-0.285158</td>\n",
              "      <td>0.604963</td>\n",
              "      <td>-0.170037</td>\n",
              "      <td>-0.416123</td>\n",
              "      <td>-0.492371</td>\n",
              "      <td>1.372687</td>\n",
              "      <td>0.777744</td>\n",
              "      <td>-0.152147</td>\n",
              "      <td>-0.657642</td>\n",
              "      <td>0.124664</td>\n",
              "      <td>0.447214</td>\n",
              "    </tr>\n",
              "    <tr>\n",
              "      <th>1</th>\n",
              "      <td>0.024765</td>\n",
              "      <td>1.017587</td>\n",
              "      <td>0.169658</td>\n",
              "      <td>1.696097</td>\n",
              "      <td>0.731430</td>\n",
              "      <td>0.270816</td>\n",
              "      <td>-0.388285</td>\n",
              "      <td>0.988979</td>\n",
              "      <td>0.139076</td>\n",
              "      <td>0.158081</td>\n",
              "      <td>0.973442</td>\n",
              "      <td>1.123559</td>\n",
              "      <td>0.985902</td>\n",
              "      <td>-0.951857</td>\n",
              "      <td>1.101128</td>\n",
              "      <td>1.458296</td>\n",
              "      <td>1.022310</td>\n",
              "      <td>1.418813</td>\n",
              "      <td>1.657951</td>\n",
              "      <td>-0.077367</td>\n",
              "      <td>-0.105825</td>\n",
              "      <td>-0.285158</td>\n",
              "      <td>0.604963</td>\n",
              "      <td>-0.170037</td>\n",
              "      <td>-0.416123</td>\n",
              "      <td>-0.492371</td>\n",
              "      <td>1.372687</td>\n",
              "      <td>0.808509</td>\n",
              "      <td>-0.152147</td>\n",
              "      <td>0.301646</td>\n",
              "      <td>0.994819</td>\n",
              "      <td>-1.341641</td>\n",
              "    </tr>\n",
              "    <tr>\n",
              "      <th>2</th>\n",
              "      <td>-0.631238</td>\n",
              "      <td>1.985976</td>\n",
              "      <td>0.246423</td>\n",
              "      <td>0.482073</td>\n",
              "      <td>-1.779895</td>\n",
              "      <td>-1.302029</td>\n",
              "      <td>0.728519</td>\n",
              "      <td>1.807029</td>\n",
              "      <td>0.139076</td>\n",
              "      <td>0.450978</td>\n",
              "      <td>-1.570108</td>\n",
              "      <td>0.747686</td>\n",
              "      <td>1.823354</td>\n",
              "      <td>0.628141</td>\n",
              "      <td>0.633680</td>\n",
              "      <td>0.505239</td>\n",
              "      <td>1.978043</td>\n",
              "      <td>0.652396</td>\n",
              "      <td>0.859874</td>\n",
              "      <td>-0.077367</td>\n",
              "      <td>-0.105825</td>\n",
              "      <td>-0.285158</td>\n",
              "      <td>0.604963</td>\n",
              "      <td>-0.170037</td>\n",
              "      <td>-0.416123</td>\n",
              "      <td>-0.492371</td>\n",
              "      <td>1.372687</td>\n",
              "      <td>0.716213</td>\n",
              "      <td>-0.152147</td>\n",
              "      <td>-0.700234</td>\n",
              "      <td>0.704768</td>\n",
              "      <td>-1.341641</td>\n",
              "    </tr>\n",
              "    <tr>\n",
              "      <th>3</th>\n",
              "      <td>0.415959</td>\n",
              "      <td>0.256710</td>\n",
              "      <td>0.356088</td>\n",
              "      <td>0.694329</td>\n",
              "      <td>-0.838148</td>\n",
              "      <td>2.057330</td>\n",
              "      <td>-1.578322</td>\n",
              "      <td>0.341572</td>\n",
              "      <td>0.139076</td>\n",
              "      <td>-0.057284</td>\n",
              "      <td>0.362990</td>\n",
              "      <td>0.808466</td>\n",
              "      <td>0.323143</td>\n",
              "      <td>-0.951857</td>\n",
              "      <td>0.709268</td>\n",
              "      <td>0.752401</td>\n",
              "      <td>0.271377</td>\n",
              "      <td>0.851156</td>\n",
              "      <td>0.894573</td>\n",
              "      <td>-0.077367</td>\n",
              "      <td>-0.105825</td>\n",
              "      <td>-0.285158</td>\n",
              "      <td>-1.652994</td>\n",
              "      <td>-0.170037</td>\n",
              "      <td>2.403137</td>\n",
              "      <td>-0.492371</td>\n",
              "      <td>0.097282</td>\n",
              "      <td>-0.268274</td>\n",
              "      <td>-0.152147</td>\n",
              "      <td>1.405240</td>\n",
              "      <td>0.994819</td>\n",
              "      <td>-1.341641</td>\n",
              "    </tr>\n",
              "    <tr>\n",
              "      <th>4</th>\n",
              "      <td>-0.370406</td>\n",
              "      <td>-0.911505</td>\n",
              "      <td>0.158692</td>\n",
              "      <td>-0.817250</td>\n",
              "      <td>0.888388</td>\n",
              "      <td>1.327293</td>\n",
              "      <td>-0.524151</td>\n",
              "      <td>-1.131701</td>\n",
              "      <td>0.139076</td>\n",
              "      <td>0.450978</td>\n",
              "      <td>0.362990</td>\n",
              "      <td>-0.778196</td>\n",
              "      <td>-1.185070</td>\n",
              "      <td>-0.425191</td>\n",
              "      <td>-0.352933</td>\n",
              "      <td>-0.961915</td>\n",
              "      <td>-0.881571</td>\n",
              "      <td>-1.053755</td>\n",
              "      <td>-1.326163</td>\n",
              "      <td>-0.077367</td>\n",
              "      <td>-0.105825</td>\n",
              "      <td>-0.285158</td>\n",
              "      <td>-1.652994</td>\n",
              "      <td>-0.170037</td>\n",
              "      <td>2.403137</td>\n",
              "      <td>-0.492371</td>\n",
              "      <td>1.372687</td>\n",
              "      <td>-0.022153</td>\n",
              "      <td>-0.152147</td>\n",
              "      <td>-0.284691</td>\n",
              "      <td>-1.035542</td>\n",
              "      <td>-0.447214</td>\n",
              "    </tr>\n",
              "  </tbody>\n",
              "</table>\n",
              "</div>"
            ],
            "text/plain": [
              "   energy_sum  temperatureMax  windBearing  ...  last_day_sum     month    season\n",
              "0   -0.617481        0.548764     1.617234  ...     -0.657642  0.124664  0.447214\n",
              "1    0.024765        1.017587     0.169658  ...      0.301646  0.994819 -1.341641\n",
              "2   -0.631238        1.985976     0.246423  ...     -0.700234  0.704768 -1.341641\n",
              "3    0.415959        0.256710     0.356088  ...      1.405240  0.994819 -1.341641\n",
              "4   -0.370406       -0.911505     0.158692  ...     -0.284691 -1.035542 -0.447214\n",
              "\n",
              "[5 rows x 32 columns]"
            ]
          },
          "metadata": {
            "tags": []
          },
          "execution_count": 29
        }
      ]
    },
    {
      "cell_type": "code",
      "metadata": {
        "id": "TT-nvgqyDJtL"
      },
      "source": [
        "from sklearn.model_selection import train_test_split\n",
        "\n",
        "X = scaled_data.iloc[:,1:].values\n",
        "y = scaled_data.iloc[:,0].values\n",
        "\n",
        "X_train, X_test, y_train, y_test = train_test_split(X, y, test_size=0.2,random_state=9)"
      ],
      "execution_count": 38,
      "outputs": []
    },
    {
      "cell_type": "code",
      "metadata": {
        "id": "6-5F5xqDDJwL"
      },
      "source": [
        "from sklearn.ensemble import RandomForestRegressor\n",
        "\n",
        "#regressor = RandomForestRegressor(n_estimators=8000,random_state= 42)\n",
        "regressor = RandomForestRegressor(n_estimators=1000,random_state= 9)\n",
        "\n",
        "regressor.fit(X_train, y_train)\n",
        "y_pred = regressor.predict(X_test)\n"
      ],
      "execution_count": 39,
      "outputs": []
    },
    {
      "cell_type": "code",
      "metadata": {
        "colab": {
          "base_uri": "https://localhost:8080/"
        },
        "id": "YAyzA-j-DJy6",
        "outputId": "46e38f10-1702-42c8-bbc6-ddc9165d9e40"
      },
      "source": [
        "rrmse = np.sqrt(metrics.mean_squared_error(y_test, y_pred)) / np.mean(y_test)\n",
        "print('Relative root mean squared error percentage:', rrmse*100)\n"
      ],
      "execution_count": 40,
      "outputs": [
        {
          "output_type": "stream",
          "text": [
            "Relative root mean squared error percentage: -2108.432823542845\n"
          ],
          "name": "stdout"
        }
      ]
    },
    {
      "cell_type": "code",
      "metadata": {
        "id": "fHEdm8j6DJ1G"
      },
      "source": [
        "# from sklearn.ensemble import ExtraTreesRegressor\n",
        "\n",
        "#regressor = RandomForestRegressor(n_estimators=8000,random_state= 42)\n",
        "regressor2 = ExtraTreesRegressor(n_estimators=1000,random_state= 9)\n",
        "\n",
        "regressor2.fit(X_train, y_train)\n",
        "y_pred = regressor2.predict(X_test)\n"
      ],
      "execution_count": 41,
      "outputs": []
    },
    {
      "cell_type": "code",
      "metadata": {
        "colab": {
          "base_uri": "https://localhost:8080/"
        },
        "id": "FZ_g6pjPDJ3t",
        "outputId": "d151a8e0-b895-4ef3-820a-81809e1a5285"
      },
      "source": [
        "\n",
        "rrmse = np.sqrt(metrics.mean_squared_error(y_test, y_pred)) / np.mean(y_test)\n",
        "print('Relative root mean squared error percentage:', rrmse*100)"
      ],
      "execution_count": 42,
      "outputs": [
        {
          "output_type": "stream",
          "text": [
            "Relative root mean squared error percentage: -2162.6439968575114\n"
          ],
          "name": "stdout"
        }
      ]
    },
    {
      "cell_type": "code",
      "metadata": {
        "id": "J6ZPwsiSDJ6M"
      },
      "source": [
        ""
      ],
      "execution_count": null,
      "outputs": []
    },
    {
      "cell_type": "code",
      "metadata": {
        "id": "i7g99-mRLzVH"
      },
      "source": [
        ""
      ],
      "execution_count": null,
      "outputs": []
    },
    {
      "cell_type": "code",
      "metadata": {
        "id": "yr2bCQklLzYR"
      },
      "source": [
        ""
      ],
      "execution_count": null,
      "outputs": []
    },
    {
      "cell_type": "code",
      "metadata": {
        "id": "JklufCJ0Lza9"
      },
      "source": [
        ""
      ],
      "execution_count": null,
      "outputs": []
    },
    {
      "cell_type": "code",
      "metadata": {
        "id": "H8KQ1-tGLze2"
      },
      "source": [
        ""
      ],
      "execution_count": null,
      "outputs": []
    }
  ]
}