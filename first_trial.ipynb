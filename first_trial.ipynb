{
  "nbformat": 4,
  "nbformat_minor": 0,
  "metadata": {
    "colab": {
      "name": "first_trial.ipynb",
      "provenance": []
    },
    "kernelspec": {
      "display_name": "Python 3",
      "name": "python3"
    }
  },
  "cells": [
    {
      "cell_type": "code",
      "metadata": {
        "colab": {
          "base_uri": "https://localhost:8080/"
        },
        "id": "mBO6n4b5OQyZ",
        "outputId": "b5d19330-dad0-49f0-dd41-d42295ee3d9a"
      },
      "source": [
        "!nvidia-smi"
      ],
      "execution_count": 1,
      "outputs": [
        {
          "output_type": "stream",
          "text": [
            "NVIDIA-SMI has failed because it couldn't communicate with the NVIDIA driver. Make sure that the latest NVIDIA driver is installed and running.\n",
            "\n"
          ],
          "name": "stdout"
        }
      ]
    },
    {
      "cell_type": "code",
      "metadata": {
        "colab": {
          "base_uri": "https://localhost:8080/"
        },
        "id": "AEjnyk0spGnV",
        "outputId": "d81bf0c9-ba1b-439e-941b-995dc53e9cf6"
      },
      "source": [
        "import tensorflow as tf\n",
        "tf.test.is_gpu_available()"
      ],
      "execution_count": 2,
      "outputs": [
        {
          "output_type": "stream",
          "text": [
            "WARNING:tensorflow:From <ipython-input-2-4a3f57d5652e>:2: is_gpu_available (from tensorflow.python.framework.test_util) is deprecated and will be removed in a future version.\n",
            "Instructions for updating:\n",
            "Use `tf.config.list_physical_devices('GPU')` instead.\n"
          ],
          "name": "stdout"
        },
        {
          "output_type": "execute_result",
          "data": {
            "text/plain": [
              "False"
            ]
          },
          "metadata": {
            "tags": []
          },
          "execution_count": 2
        }
      ]
    },
    {
      "cell_type": "code",
      "metadata": {
        "colab": {
          "base_uri": "https://localhost:8080/",
          "height": 547
        },
        "id": "KDJJ0khsOYPQ",
        "outputId": "222c5aef-eff0-45e3-bc2d-a81dc0a95f96"
      },
      "source": [
        "from google.colab import drive\n",
        "drive.mount('/content/drive')"
      ],
      "execution_count": 3,
      "outputs": [
        {
          "output_type": "error",
          "ename": "KeyboardInterrupt",
          "evalue": "ignored",
          "traceback": [
            "\u001b[0;31m---------------------------------------------------------------------------\u001b[0m",
            "\u001b[0;31mKeyboardInterrupt\u001b[0m                         Traceback (most recent call last)",
            "\u001b[0;32m/usr/local/lib/python3.6/dist-packages/ipykernel/kernelbase.py\u001b[0m in \u001b[0;36m_input_request\u001b[0;34m(self, prompt, ident, parent, password)\u001b[0m\n\u001b[1;32m    728\u001b[0m             \u001b[0;32mtry\u001b[0m\u001b[0;34m:\u001b[0m\u001b[0;34m\u001b[0m\u001b[0;34m\u001b[0m\u001b[0m\n\u001b[0;32m--> 729\u001b[0;31m                 \u001b[0mident\u001b[0m\u001b[0;34m,\u001b[0m \u001b[0mreply\u001b[0m \u001b[0;34m=\u001b[0m \u001b[0mself\u001b[0m\u001b[0;34m.\u001b[0m\u001b[0msession\u001b[0m\u001b[0;34m.\u001b[0m\u001b[0mrecv\u001b[0m\u001b[0;34m(\u001b[0m\u001b[0mself\u001b[0m\u001b[0;34m.\u001b[0m\u001b[0mstdin_socket\u001b[0m\u001b[0;34m,\u001b[0m \u001b[0;36m0\u001b[0m\u001b[0;34m)\u001b[0m\u001b[0;34m\u001b[0m\u001b[0;34m\u001b[0m\u001b[0m\n\u001b[0m\u001b[1;32m    730\u001b[0m             \u001b[0;32mexcept\u001b[0m \u001b[0mException\u001b[0m\u001b[0;34m:\u001b[0m\u001b[0;34m\u001b[0m\u001b[0;34m\u001b[0m\u001b[0m\n",
            "\u001b[0;32m/usr/local/lib/python3.6/dist-packages/jupyter_client/session.py\u001b[0m in \u001b[0;36mrecv\u001b[0;34m(self, socket, mode, content, copy)\u001b[0m\n\u001b[1;32m    802\u001b[0m         \u001b[0;32mtry\u001b[0m\u001b[0;34m:\u001b[0m\u001b[0;34m\u001b[0m\u001b[0;34m\u001b[0m\u001b[0m\n\u001b[0;32m--> 803\u001b[0;31m             \u001b[0mmsg_list\u001b[0m \u001b[0;34m=\u001b[0m \u001b[0msocket\u001b[0m\u001b[0;34m.\u001b[0m\u001b[0mrecv_multipart\u001b[0m\u001b[0;34m(\u001b[0m\u001b[0mmode\u001b[0m\u001b[0;34m,\u001b[0m \u001b[0mcopy\u001b[0m\u001b[0;34m=\u001b[0m\u001b[0mcopy\u001b[0m\u001b[0;34m)\u001b[0m\u001b[0;34m\u001b[0m\u001b[0;34m\u001b[0m\u001b[0m\n\u001b[0m\u001b[1;32m    804\u001b[0m         \u001b[0;32mexcept\u001b[0m \u001b[0mzmq\u001b[0m\u001b[0;34m.\u001b[0m\u001b[0mZMQError\u001b[0m \u001b[0;32mas\u001b[0m \u001b[0me\u001b[0m\u001b[0;34m:\u001b[0m\u001b[0;34m\u001b[0m\u001b[0;34m\u001b[0m\u001b[0m\n",
            "\u001b[0;32m/usr/local/lib/python3.6/dist-packages/zmq/sugar/socket.py\u001b[0m in \u001b[0;36mrecv_multipart\u001b[0;34m(self, flags, copy, track)\u001b[0m\n\u001b[1;32m    565\u001b[0m         \"\"\"\n\u001b[0;32m--> 566\u001b[0;31m         \u001b[0mparts\u001b[0m \u001b[0;34m=\u001b[0m \u001b[0;34m[\u001b[0m\u001b[0mself\u001b[0m\u001b[0;34m.\u001b[0m\u001b[0mrecv\u001b[0m\u001b[0;34m(\u001b[0m\u001b[0mflags\u001b[0m\u001b[0;34m,\u001b[0m \u001b[0mcopy\u001b[0m\u001b[0;34m=\u001b[0m\u001b[0mcopy\u001b[0m\u001b[0;34m,\u001b[0m \u001b[0mtrack\u001b[0m\u001b[0;34m=\u001b[0m\u001b[0mtrack\u001b[0m\u001b[0;34m)\u001b[0m\u001b[0;34m]\u001b[0m\u001b[0;34m\u001b[0m\u001b[0;34m\u001b[0m\u001b[0m\n\u001b[0m\u001b[1;32m    567\u001b[0m         \u001b[0;31m# have first part already, only loop while more to receive\u001b[0m\u001b[0;34m\u001b[0m\u001b[0;34m\u001b[0m\u001b[0;34m\u001b[0m\u001b[0m\n",
            "\u001b[0;32mzmq/backend/cython/socket.pyx\u001b[0m in \u001b[0;36mzmq.backend.cython.socket.Socket.recv\u001b[0;34m()\u001b[0m\n",
            "\u001b[0;32mzmq/backend/cython/socket.pyx\u001b[0m in \u001b[0;36mzmq.backend.cython.socket.Socket.recv\u001b[0;34m()\u001b[0m\n",
            "\u001b[0;32mzmq/backend/cython/socket.pyx\u001b[0m in \u001b[0;36mzmq.backend.cython.socket._recv_copy\u001b[0;34m()\u001b[0m\n",
            "\u001b[0;32m/usr/local/lib/python3.6/dist-packages/zmq/backend/cython/checkrc.pxd\u001b[0m in \u001b[0;36mzmq.backend.cython.checkrc._check_rc\u001b[0;34m()\u001b[0m\n",
            "\u001b[0;31mKeyboardInterrupt\u001b[0m: ",
            "\nDuring handling of the above exception, another exception occurred:\n",
            "\u001b[0;31mKeyboardInterrupt\u001b[0m                         Traceback (most recent call last)",
            "\u001b[0;32m<ipython-input-3-d5df0069828e>\u001b[0m in \u001b[0;36m<module>\u001b[0;34m()\u001b[0m\n\u001b[1;32m      1\u001b[0m \u001b[0;32mfrom\u001b[0m \u001b[0mgoogle\u001b[0m\u001b[0;34m.\u001b[0m\u001b[0mcolab\u001b[0m \u001b[0;32mimport\u001b[0m \u001b[0mdrive\u001b[0m\u001b[0;34m\u001b[0m\u001b[0;34m\u001b[0m\u001b[0m\n\u001b[0;32m----> 2\u001b[0;31m \u001b[0mdrive\u001b[0m\u001b[0;34m.\u001b[0m\u001b[0mmount\u001b[0m\u001b[0;34m(\u001b[0m\u001b[0;34m'/content/drive'\u001b[0m\u001b[0;34m)\u001b[0m\u001b[0;34m\u001b[0m\u001b[0;34m\u001b[0m\u001b[0m\n\u001b[0m",
            "\u001b[0;32m/usr/local/lib/python3.6/dist-packages/google/colab/drive.py\u001b[0m in \u001b[0;36mmount\u001b[0;34m(mountpoint, force_remount, timeout_ms, use_metadata_server)\u001b[0m\n\u001b[1;32m    253\u001b[0m       \u001b[0;32mwith\u001b[0m \u001b[0m_output\u001b[0m\u001b[0;34m.\u001b[0m\u001b[0muse_tags\u001b[0m\u001b[0;34m(\u001b[0m\u001b[0;34m'dfs-auth-dance'\u001b[0m\u001b[0;34m)\u001b[0m\u001b[0;34m:\u001b[0m\u001b[0;34m\u001b[0m\u001b[0;34m\u001b[0m\u001b[0m\n\u001b[1;32m    254\u001b[0m         \u001b[0;32mwith\u001b[0m \u001b[0mopen\u001b[0m\u001b[0;34m(\u001b[0m\u001b[0mfifo\u001b[0m\u001b[0;34m,\u001b[0m \u001b[0;34m'w'\u001b[0m\u001b[0;34m)\u001b[0m \u001b[0;32mas\u001b[0m \u001b[0mfifo_file\u001b[0m\u001b[0;34m:\u001b[0m\u001b[0;34m\u001b[0m\u001b[0;34m\u001b[0m\u001b[0m\n\u001b[0;32m--> 255\u001b[0;31m           \u001b[0mfifo_file\u001b[0m\u001b[0;34m.\u001b[0m\u001b[0mwrite\u001b[0m\u001b[0;34m(\u001b[0m\u001b[0mget_code\u001b[0m\u001b[0;34m(\u001b[0m\u001b[0mauth_prompt\u001b[0m\u001b[0;34m)\u001b[0m \u001b[0;34m+\u001b[0m \u001b[0;34m'\\n'\u001b[0m\u001b[0;34m)\u001b[0m\u001b[0;34m\u001b[0m\u001b[0;34m\u001b[0m\u001b[0m\n\u001b[0m\u001b[1;32m    256\u001b[0m       \u001b[0mwrote_to_fifo\u001b[0m \u001b[0;34m=\u001b[0m \u001b[0;32mTrue\u001b[0m\u001b[0;34m\u001b[0m\u001b[0;34m\u001b[0m\u001b[0m\n\u001b[1;32m    257\u001b[0m     \u001b[0;32melif\u001b[0m \u001b[0mcase\u001b[0m \u001b[0;34m==\u001b[0m \u001b[0;36m5\u001b[0m\u001b[0;34m:\u001b[0m\u001b[0;34m\u001b[0m\u001b[0;34m\u001b[0m\u001b[0m\n",
            "\u001b[0;32m/usr/local/lib/python3.6/dist-packages/ipykernel/kernelbase.py\u001b[0m in \u001b[0;36mraw_input\u001b[0;34m(self, prompt)\u001b[0m\n\u001b[1;32m    702\u001b[0m             \u001b[0mself\u001b[0m\u001b[0;34m.\u001b[0m\u001b[0m_parent_ident\u001b[0m\u001b[0;34m,\u001b[0m\u001b[0;34m\u001b[0m\u001b[0;34m\u001b[0m\u001b[0m\n\u001b[1;32m    703\u001b[0m             \u001b[0mself\u001b[0m\u001b[0;34m.\u001b[0m\u001b[0m_parent_header\u001b[0m\u001b[0;34m,\u001b[0m\u001b[0;34m\u001b[0m\u001b[0;34m\u001b[0m\u001b[0m\n\u001b[0;32m--> 704\u001b[0;31m             \u001b[0mpassword\u001b[0m\u001b[0;34m=\u001b[0m\u001b[0;32mFalse\u001b[0m\u001b[0;34m,\u001b[0m\u001b[0;34m\u001b[0m\u001b[0;34m\u001b[0m\u001b[0m\n\u001b[0m\u001b[1;32m    705\u001b[0m         )\n\u001b[1;32m    706\u001b[0m \u001b[0;34m\u001b[0m\u001b[0m\n",
            "\u001b[0;32m/usr/local/lib/python3.6/dist-packages/ipykernel/kernelbase.py\u001b[0m in \u001b[0;36m_input_request\u001b[0;34m(self, prompt, ident, parent, password)\u001b[0m\n\u001b[1;32m    732\u001b[0m             \u001b[0;32mexcept\u001b[0m \u001b[0mKeyboardInterrupt\u001b[0m\u001b[0;34m:\u001b[0m\u001b[0;34m\u001b[0m\u001b[0;34m\u001b[0m\u001b[0m\n\u001b[1;32m    733\u001b[0m                 \u001b[0;31m# re-raise KeyboardInterrupt, to truncate traceback\u001b[0m\u001b[0;34m\u001b[0m\u001b[0;34m\u001b[0m\u001b[0;34m\u001b[0m\u001b[0m\n\u001b[0;32m--> 734\u001b[0;31m                 \u001b[0;32mraise\u001b[0m \u001b[0mKeyboardInterrupt\u001b[0m\u001b[0;34m\u001b[0m\u001b[0;34m\u001b[0m\u001b[0m\n\u001b[0m\u001b[1;32m    735\u001b[0m             \u001b[0;32melse\u001b[0m\u001b[0;34m:\u001b[0m\u001b[0;34m\u001b[0m\u001b[0;34m\u001b[0m\u001b[0m\n\u001b[1;32m    736\u001b[0m                 \u001b[0;32mbreak\u001b[0m\u001b[0;34m\u001b[0m\u001b[0;34m\u001b[0m\u001b[0m\n",
            "\u001b[0;31mKeyboardInterrupt\u001b[0m: "
          ]
        }
      ]
    },
    {
      "cell_type": "code",
      "metadata": {
        "id": "V__28_rIPGnU"
      },
      "source": [
        "\n",
        "#libararies\n",
        "import pandas as pd\n"
      ],
      "execution_count": null,
      "outputs": []
    },
    {
      "cell_type": "code",
      "metadata": {
        "id": "EQ95dfyUPGpu"
      },
      "source": [
        "drive.mount('/content/gdrive')\n",
        "path='/content/gdrive/My Drive/GP | Smart Meter | CIC/Datasets/Smart meters in London'"
      ],
      "execution_count": null,
      "outputs": []
    },
    {
      "cell_type": "code",
      "metadata": {
        "id": "iJf3ryU2PGzO"
      },
      "source": [
        "for num in range(0,112):\n",
        "  df = pd.read_csv(path + \"/daily_dataset/daily_dataset/block_\" + str(num) + \".csv\")\n",
        "  df = df[['day','LCLid','energy_sum']]\n",
        "  df.reset_index()\n",
        "  df.to_csv(\"hc_\"+str(num)+\".csv\")\n",
        "\n",
        "fout= open(\"energy.csv\",\"a\")\n",
        "# first file:\n",
        "for line in open(\"hc_0.csv\"):\n",
        "  fout.write(line)\n",
        "# now the rest:    \n",
        "for num in range(0,112):\n",
        "  f = open(\"hc_\"+str(num)+\".csv\")\n",
        "  f.readline() # skip the header\n",
        "  for line in f:\n",
        "      fout.write(line)\n",
        "  f.close()\n",
        "fout.close()"
      ],
      "execution_count": null,
      "outputs": []
    },
    {
      "cell_type": "code",
      "metadata": {
        "id": "YoZ-m6tLPGu9"
      },
      "source": [
        "energy = pd.read_csv('energy.csv')\n",
        "len(energy)"
      ],
      "execution_count": null,
      "outputs": []
    },
    {
      "cell_type": "code",
      "metadata": {
        "id": "c_bwnTnOPG1d"
      },
      "source": [
        "energy.shape  "
      ],
      "execution_count": null,
      "outputs": []
    },
    {
      "cell_type": "code",
      "metadata": {
        "id": "J2TWpmp5PG4S"
      },
      "source": [
        "#energy.head()"
      ],
      "execution_count": null,
      "outputs": []
    },
    {
      "cell_type": "code",
      "metadata": {
        "id": "YhgwVkngbuNR"
      },
      "source": [
        "energy.drop('Unnamed: 0',axis='columns', inplace=True)"
      ],
      "execution_count": null,
      "outputs": []
    },
    {
      "cell_type": "code",
      "metadata": {
        "id": "lFcFCWV0buQV"
      },
      "source": [
        "#energy.head()"
      ],
      "execution_count": null,
      "outputs": []
    },
    {
      "cell_type": "code",
      "metadata": {
        "id": "DoN4Ic06buTU"
      },
      "source": [
        "#energy.shape"
      ],
      "execution_count": null,
      "outputs": []
    },
    {
      "cell_type": "code",
      "metadata": {
        "id": "f-G49Y3GbuV0"
      },
      "source": [
        "energy.day = pd.to_datetime(energy.day,format='%Y-%m-%d').dt.date"
      ],
      "execution_count": null,
      "outputs": []
    },
    {
      "cell_type": "code",
      "metadata": {
        "id": "wBgUsmaEbuYs"
      },
      "source": [
        "energy.head()"
      ],
      "execution_count": null,
      "outputs": []
    },
    {
      "cell_type": "code",
      "metadata": {
        "id": "12AyIPvBbube"
      },
      "source": [
        "energy.shape"
      ],
      "execution_count": null,
      "outputs": []
    },
    {
      "cell_type": "code",
      "metadata": {
        "id": "BWucvzSR7imB"
      },
      "source": [
        "#housecount = energy.groupby('day')[['LCLid']].nunique()\n",
        "#housecount.head(10)"
      ],
      "execution_count": null,
      "outputs": []
    },
    {
      "cell_type": "code",
      "metadata": {
        "id": "FneV2wwY7ipf"
      },
      "source": [
        "#housecount.plot(figsize=(25,5))\n"
      ],
      "execution_count": null,
      "outputs": []
    },
    {
      "cell_type": "markdown",
      "metadata": {
        "id": "wXnpb4xxz5o-"
      },
      "source": [
        "# Processing over weather file"
      ]
    },
    {
      "cell_type": "code",
      "metadata": {
        "id": "AR7cO-TePG6t"
      },
      "source": [
        "weather = pd.read_csv(path + \"/weather_daily_darksky.csv\")\n",
        "weather.head(2)"
      ],
      "execution_count": null,
      "outputs": []
    },
    {
      "cell_type": "code",
      "metadata": {
        "id": "KH1vV16ZPG9b"
      },
      "source": [
        "#weather.describe()"
      ],
      "execution_count": null,
      "outputs": []
    },
    {
      "cell_type": "code",
      "metadata": {
        "id": "rNGQWSNANDi9"
      },
      "source": [
        "weather.precipType.unique()"
      ],
      "execution_count": null,
      "outputs": []
    },
    {
      "cell_type": "code",
      "metadata": {
        "id": "OCHEIE5COvPj"
      },
      "source": [
        "weather[\"precipType\"].replace({\"rain\": 1, \"snow\": 0}, inplace=True)"
      ],
      "execution_count": null,
      "outputs": []
    },
    {
      "cell_type": "code",
      "metadata": {
        "id": "RpWLlWloPGbz"
      },
      "source": [
        "#weather.head()"
      ],
      "execution_count": null,
      "outputs": []
    },
    {
      "cell_type": "code",
      "metadata": {
        "id": "x20N72UTPGeB"
      },
      "source": [
        "weather.icon.unique()"
      ],
      "execution_count": null,
      "outputs": []
    },
    {
      "cell_type": "code",
      "metadata": {
        "id": "CncVzpw_V1dt"
      },
      "source": [
        "from sklearn.preprocessing import OneHotEncoder\n",
        "icon_one_hot_decoded = pd.get_dummies(weather.icon,prefix='icon')"
      ],
      "execution_count": null,
      "outputs": []
    },
    {
      "cell_type": "code",
      "metadata": {
        "id": "pIetBo0mWMlh"
      },
      "source": [
        "icon_one_hot_decoded.head()"
      ],
      "execution_count": null,
      "outputs": []
    },
    {
      "cell_type": "code",
      "metadata": {
        "id": "3thJuWz0WhZ3"
      },
      "source": [
        "weather = pd.concat([weather, icon_one_hot_decoded], axis=1)\n"
      ],
      "execution_count": null,
      "outputs": []
    },
    {
      "cell_type": "code",
      "metadata": {
        "id": "MnTgHJjwWwHU"
      },
      "source": [
        "weather.head()"
      ],
      "execution_count": null,
      "outputs": []
    },
    {
      "cell_type": "code",
      "metadata": {
        "id": "9mXFXmhjTa24"
      },
      "source": [
        "weather.summary.unique()"
      ],
      "execution_count": null,
      "outputs": []
    },
    {
      "cell_type": "code",
      "metadata": {
        "id": "GNSTBHg4Ta5R"
      },
      "source": [
        "weather['day']=  pd.to_datetime(weather['time']) # day is given as timestamp\n"
      ],
      "execution_count": null,
      "outputs": []
    },
    {
      "cell_type": "code",
      "metadata": {
        "id": "0-H4e4EKTa71"
      },
      "source": [
        "weather.head()"
      ],
      "execution_count": null,
      "outputs": []
    },
    {
      "cell_type": "code",
      "metadata": {
        "id": "btfPJq2xTa-h"
      },
      "source": [
        "weather['day']=  pd.to_datetime(weather['day'],format='%Y%m%d').dt.date\n",
        "weather.head(2)"
      ],
      "execution_count": null,
      "outputs": []
    },
    {
      "cell_type": "code",
      "metadata": {
        "id": "iOgkebhVTbA8"
      },
      "source": [
        "# selecting numeric variables\n",
        "weather = weather[['temperatureMax', 'windBearing', 'dewPoint', 'cloudCover', 'windSpeed',\n",
        "       'pressure', 'apparentTemperatureHigh','precipType', 'visibility', 'humidity',\n",
        "       'apparentTemperatureLow', 'apparentTemperatureMax', 'uvIndex',\n",
        "       'temperatureLow', 'temperatureMin', 'temperatureHigh',\n",
        "       'apparentTemperatureMin', 'moonPhase','icon_clear-day','icon_cloudy','icon_fog','icon_partly-cloudy-day','icon_partly-cloudy-night','icon_wind','day']]"
      ],
      "execution_count": null,
      "outputs": []
    },
    {
      "cell_type": "code",
      "metadata": {
        "id": "TIFyOgL7PGhR"
      },
      "source": [
        "weather = weather.dropna()\n"
      ],
      "execution_count": null,
      "outputs": []
    },
    {
      "cell_type": "code",
      "metadata": {
        "id": "vFupD41hbDN-"
      },
      "source": [
        "weather.head()"
      ],
      "execution_count": null,
      "outputs": []
    },
    {
      "cell_type": "code",
      "metadata": {
        "id": "oCURkL1AdtlZ"
      },
      "source": [
        "weather.shape"
      ],
      "execution_count": null,
      "outputs": []
    },
    {
      "cell_type": "markdown",
      "metadata": {
        "id": "r91iMWcLbIB1"
      },
      "source": [
        "#Merge Energy Dataframe with weather Dataframe"
      ]
    },
    {
      "cell_type": "code",
      "metadata": {
        "id": "KjKLD41WbDQl"
      },
      "source": [
        "weather_energy =  energy.merge(weather,on='day')\n",
        "weather_energy.head(2)"
      ],
      "execution_count": null,
      "outputs": []
    },
    {
      "cell_type": "code",
      "metadata": {
        "id": "WUgvrsKubDS9"
      },
      "source": [
        "weather_energy.shape"
      ],
      "execution_count": null,
      "outputs": []
    },
    {
      "cell_type": "markdown",
      "metadata": {
        "id": "J9p1PkljQXqL"
      },
      "source": [
        "Note:<br>\n",
        "data = 3536007 - 3526707 <br>\n",
        "lost 9300"
      ]
    },
    {
      "cell_type": "markdown",
      "metadata": {
        "id": "BcF7N0gMkOP1"
      },
      "source": [
        "#Household Data"
      ]
    },
    {
      "cell_type": "code",
      "metadata": {
        "id": "jPBT9OV7bDVx"
      },
      "source": [
        "informations_households = pd.read_csv(path + \"/informations_households.csv\")\n",
        "informations_households.head(20)"
      ],
      "execution_count": null,
      "outputs": []
    },
    {
      "cell_type": "code",
      "metadata": {
        "id": "-lXdzHKOdYRU"
      },
      "source": [
        "informations_households.stdorToU.unique()"
      ],
      "execution_count": null,
      "outputs": []
    },
    {
      "cell_type": "code",
      "metadata": {
        "id": "y6NE21fFdYT_"
      },
      "source": [
        "informations_households[\"stdorToU\"].replace({\"ToU\": 1, \"Std\": 0}, inplace=True)"
      ],
      "execution_count": null,
      "outputs": []
    },
    {
      "cell_type": "code",
      "metadata": {
        "id": "p-ZcsElmdYWx"
      },
      "source": [
        "informations_households.Acorn.unique() #first trial without it without it"
      ],
      "execution_count": null,
      "outputs": []
    },
    {
      "cell_type": "code",
      "metadata": {
        "id": "IcE1OZTxdYZl"
      },
      "source": [
        "informations_households.Acorn_grouped.unique()"
      ],
      "execution_count": null,
      "outputs": []
    },
    {
      "cell_type": "code",
      "metadata": {
        "id": "Qqb4WvwUdYcp"
      },
      "source": [
        "#Acorn_one_hot_decoded = pd.get_dummies(informations_households.Acorn_grouped,prefix='Acorn')"
      ],
      "execution_count": null,
      "outputs": []
    },
    {
      "cell_type": "code",
      "metadata": {
        "id": "Wq_4z6Brh29S"
      },
      "source": [
        "#Acorn_one_hot_decoded.head()"
      ],
      "execution_count": null,
      "outputs": []
    },
    {
      "cell_type": "markdown",
      "metadata": {
        "id": "NGfjPGnXRJ_O"
      },
      "source": [
        "#Try Label Encoding "
      ]
    },
    {
      "cell_type": "code",
      "metadata": {
        "id": "yq7ovWbPRKIz"
      },
      "source": [
        "from sklearn import preprocessing \n",
        "label_encoder = preprocessing.LabelEncoder() \n",
        "informations_households['Acorn_grouped'] = label_encoder.fit_transform(informations_households['Acorn_grouped'])\n",
        "informations_households['file'] = label_encoder.fit_transform(informations_households['file'])\n"
      ],
      "execution_count": null,
      "outputs": []
    },
    {
      "cell_type": "code",
      "metadata": {
        "id": "xHwAM2j8RKLR"
      },
      "source": [
        "informations_households.head()"
      ],
      "execution_count": null,
      "outputs": []
    },
    {
      "cell_type": "code",
      "metadata": {
        "id": "1xWdsnZqh3AC"
      },
      "source": [
        "#informations_households = pd.concat([informations_households, Acorn_one_hot_decoded], axis=1)\n"
      ],
      "execution_count": null,
      "outputs": []
    },
    {
      "cell_type": "code",
      "metadata": {
        "id": "CtIkLEagjuLl"
      },
      "source": [
        "#informations_households = informations_households.rename(columns={\"file\": \"block\"})\n"
      ],
      "execution_count": null,
      "outputs": []
    },
    {
      "cell_type": "code",
      "metadata": {
        "id": "4PTez4YNdYfn"
      },
      "source": [
        "#informations_households.block.unique()"
      ],
      "execution_count": null,
      "outputs": []
    },
    {
      "cell_type": "code",
      "metadata": {
        "id": "bgdkKh9udYiU"
      },
      "source": [
        "#block_one_hot_decoded = pd.get_dummies(informations_households.block)"
      ],
      "execution_count": null,
      "outputs": []
    },
    {
      "cell_type": "code",
      "metadata": {
        "id": "fhxPgASkdYlZ"
      },
      "source": [
        "#block_one_hot_decoded.head()"
      ],
      "execution_count": null,
      "outputs": []
    },
    {
      "cell_type": "code",
      "metadata": {
        "id": "pHdWk-mZYoUK"
      },
      "source": [
        "#informations_households['block'].astype('category')"
      ],
      "execution_count": null,
      "outputs": []
    },
    {
      "cell_type": "code",
      "metadata": {
        "id": "_W6N5541X9UF"
      },
      "source": [
        "#informations_households['block'] = informations_households['block'].cat.codes"
      ],
      "execution_count": null,
      "outputs": []
    },
    {
      "cell_type": "code",
      "metadata": {
        "id": "_d-I9g9vdYoT"
      },
      "source": [
        "#informations_households = pd.concat([informations_households, block_one_hot_decoded], axis=1)\n"
      ],
      "execution_count": null,
      "outputs": []
    },
    {
      "cell_type": "code",
      "metadata": {
        "id": "-c4GVCqBk2Sn"
      },
      "source": [
        "#informations_households.head()"
      ],
      "execution_count": null,
      "outputs": []
    },
    {
      "cell_type": "code",
      "metadata": {
        "id": "AzXw_llVS7Qt"
      },
      "source": [
        "informations_households = informations_households.drop(['Acorn'], axis=1)\n"
      ],
      "execution_count": null,
      "outputs": []
    },
    {
      "cell_type": "markdown",
      "metadata": {
        "id": "yt2f4FT0lGxd"
      },
      "source": [
        "#Merge household data to dataset"
      ]
    },
    {
      "cell_type": "code",
      "metadata": {
        "id": "kxY2RrZvk2VR"
      },
      "source": [
        "data =  weather_energy.merge(informations_households,on='LCLid')\n"
      ],
      "execution_count": null,
      "outputs": []
    },
    {
      "cell_type": "code",
      "metadata": {
        "id": "bYjH2mBlk2Xe"
      },
      "source": [
        "data.head()"
      ],
      "execution_count": null,
      "outputs": []
    },
    {
      "cell_type": "code",
      "metadata": {
        "id": "OUEm_AN2k2aB"
      },
      "source": [
        "data.shape"
      ],
      "execution_count": null,
      "outputs": []
    },
    {
      "cell_type": "code",
      "metadata": {
        "id": "neLGdm1rx-9F"
      },
      "source": [
        "#weather.shape"
      ],
      "execution_count": null,
      "outputs": []
    },
    {
      "cell_type": "code",
      "metadata": {
        "id": "al3d_YNWyRyL"
      },
      "source": [
        "#weather.head()"
      ],
      "execution_count": null,
      "outputs": []
    },
    {
      "cell_type": "markdown",
      "metadata": {
        "id": "gDEKRlJgxxMV"
      },
      "source": [
        "# Holiday Data\n"
      ]
    },
    {
      "cell_type": "code",
      "metadata": {
        "id": "PnUvd5vtPHCd"
      },
      "source": [
        "holiday = pd.read_csv(path + \"/uk_bank_holidays.csv\")\n"
      ],
      "execution_count": null,
      "outputs": []
    },
    {
      "cell_type": "code",
      "metadata": {
        "id": "rbJ95JxYmhZE"
      },
      "source": [
        "holiday.head()"
      ],
      "execution_count": null,
      "outputs": []
    },
    {
      "cell_type": "code",
      "metadata": {
        "id": "ONDEBupxnCpZ"
      },
      "source": [
        "#uk_bank_holidays = uk_bank_holidays.rename(columns={\"Bank holidays\": \"day\"})\n",
        "holiday['Bank holidays'] = pd.to_datetime(holiday['Bank holidays'],format='%Y-%m-%d').dt.date"
      ],
      "execution_count": null,
      "outputs": []
    },
    {
      "cell_type": "code",
      "metadata": {
        "id": "igB-OcNe_BX4"
      },
      "source": [
        "holiday.head(4)\n"
      ],
      "execution_count": null,
      "outputs": []
    },
    {
      "cell_type": "code",
      "metadata": {
        "id": "4jLpnnLomkIw"
      },
      "source": [
        "#uk_bank_holidays.day = pd.to_datetime(uk_bank_holidays.day ,format='%Y-%m-%d').dt.date"
      ],
      "execution_count": null,
      "outputs": []
    },
    {
      "cell_type": "code",
      "metadata": {
        "id": "lDPjQT-5tzDY"
      },
      "source": [
        "#uk_bank_holidays.day.unique()"
      ],
      "execution_count": null,
      "outputs": []
    },
    {
      "cell_type": "code",
      "metadata": {
        "id": "v_c46BEGpXE2"
      },
      "source": [
        "#uk_bank_holidays['Type'] = 1"
      ],
      "execution_count": null,
      "outputs": []
    },
    {
      "cell_type": "code",
      "metadata": {
        "id": "FCWzBUH8pgjX"
      },
      "source": [
        "#uk_bank_holidays.head()"
      ],
      "execution_count": null,
      "outputs": []
    },
    {
      "cell_type": "code",
      "metadata": {
        "id": "w-CoyWcGpltl"
      },
      "source": [
        "#uk_bank_holidays.shape"
      ],
      "execution_count": null,
      "outputs": []
    },
    {
      "cell_type": "markdown",
      "metadata": {
        "id": "vbEq9FBnntQp"
      },
      "source": [
        "#Merge holidays"
      ]
    },
    {
      "cell_type": "code",
      "metadata": {
        "id": "Aeg1tjzU_Jt3"
      },
      "source": [
        "import numpy as np\n",
        "data = data.merge(holiday, left_on = 'day',right_on = 'Bank holidays',how = 'left')\n",
        "data['holiday_ind'] = np.where(data['Bank holidays'].isna(),0,1)"
      ],
      "execution_count": null,
      "outputs": []
    },
    {
      "cell_type": "code",
      "metadata": {
        "id": "-XniWyUH_J0Q"
      },
      "source": [
        "data.shape"
      ],
      "execution_count": null,
      "outputs": []
    },
    {
      "cell_type": "code",
      "metadata": {
        "id": "Ru0e8-Hs_J2-"
      },
      "source": [
        "data.head()"
      ],
      "execution_count": null,
      "outputs": []
    },
    {
      "cell_type": "code",
      "metadata": {
        "id": "TQcFLR1E_nHR"
      },
      "source": [
        "data.holiday_ind.unique()"
      ],
      "execution_count": null,
      "outputs": []
    },
    {
      "cell_type": "code",
      "metadata": {
        "id": "lOHb8yQfr-jN"
      },
      "source": [
        "#if data['day'].values == uk_bank_holidays['day'].values:\n",
        "#  data['holiday'] = 1\n",
        "#else:\n",
        "#  data['holiday'] = 0"
      ],
      "execution_count": null,
      "outputs": []
    },
    {
      "cell_type": "code",
      "metadata": {
        "id": "xccF0GpJr_44"
      },
      "source": [
        "data = data.drop(['Bank holidays','Type'], axis = 1)"
      ],
      "execution_count": null,
      "outputs": []
    },
    {
      "cell_type": "code",
      "metadata": {
        "id": "-glLQ-Igr_0y"
      },
      "source": [
        "data.head()"
      ],
      "execution_count": null,
      "outputs": []
    },
    {
      "cell_type": "markdown",
      "metadata": {
        "id": "PcxhZbLqVdwc"
      },
      "source": [
        "#Create Last day's consumption"
      ]
    },
    {
      "cell_type": "code",
      "metadata": {
        "id": "3DHzNGlqRyQK"
      },
      "source": [
        "data['last_day_sum'] = data['energy_sum'].shift()\n",
        "data.head()"
      ],
      "execution_count": null,
      "outputs": []
    },
    {
      "cell_type": "code",
      "metadata": {
        "id": "Y0PNpfjlWLk2"
      },
      "source": [
        "data = data.dropna()\n"
      ],
      "execution_count": null,
      "outputs": []
    },
    {
      "cell_type": "code",
      "metadata": {
        "id": "Wu2q5KVcZH1q"
      },
      "source": [
        "data.shape"
      ],
      "execution_count": null,
      "outputs": []
    },
    {
      "cell_type": "markdown",
      "metadata": {
        "id": "Ux25HbKSWkf1"
      },
      "source": [
        "**After** removing nan values data lost 57 raws total of 93057"
      ]
    },
    {
      "cell_type": "markdown",
      "metadata": {
        "id": "jHHCov5pPOhA"
      },
      "source": [
        "#Add Season Column"
      ]
    },
    {
      "cell_type": "code",
      "metadata": {
        "id": "Gb-LPPHar_6w"
      },
      "source": [
        "data['day'] = pd.to_datetime(data.day, format='%Y-%m-%d %H:%M:%S')\n"
      ],
      "execution_count": null,
      "outputs": []
    },
    {
      "cell_type": "code",
      "metadata": {
        "id": "fr7ivXl8tStI"
      },
      "source": [
        "data['month'] = data['day'].dt.month \n"
      ],
      "execution_count": null,
      "outputs": []
    },
    {
      "cell_type": "code",
      "metadata": {
        "id": "smrbGuu59da2"
      },
      "source": [
        "data.head()"
      ],
      "execution_count": null,
      "outputs": []
    },
    {
      "cell_type": "code",
      "metadata": {
        "id": "zRwXQUly9ddc"
      },
      "source": [
        "data.loc[(data['month'] == 12) | (data['month'] == 1) | (data['month'] == 2) , 'season'] = 'winter'\n",
        "data.loc[(data['month'] == 3) | (data['month'] == 4) | (data['month'] == 5) , 'season'] = 'spring'\n",
        "data.loc[(data['month'] == 6) | (data['month'] == 7) | (data['month'] == 8) , 'season'] = 'summer'\n",
        "data.loc[(data['month'] == 9) | (data['month'] == 10) | (data['month'] ==11) , 'season'] = 'autumn'"
      ],
      "execution_count": null,
      "outputs": []
    },
    {
      "cell_type": "code",
      "metadata": {
        "id": "fd5B1J9-9df3"
      },
      "source": [
        "data.head()"
      ],
      "execution_count": null,
      "outputs": []
    },
    {
      "cell_type": "code",
      "metadata": {
        "id": "Jlp7S-LC9di8"
      },
      "source": [
        "data.season.unique()"
      ],
      "execution_count": null,
      "outputs": []
    },
    {
      "cell_type": "code",
      "metadata": {
        "id": "32Y10q2CRJuw"
      },
      "source": [
        "data['season'] = label_encoder.fit_transform(data['season'])\n"
      ],
      "execution_count": null,
      "outputs": []
    },
    {
      "cell_type": "code",
      "metadata": {
        "id": "AUr3ezy5RySx"
      },
      "source": [
        "data.head()"
      ],
      "execution_count": null,
      "outputs": []
    },
    {
      "cell_type": "code",
      "metadata": {
        "id": "YFNQ202XRyVn"
      },
      "source": [
        "data.season.unique()"
      ],
      "execution_count": null,
      "outputs": []
    },
    {
      "cell_type": "code",
      "metadata": {
        "id": "-BiVA_30RyYy"
      },
      "source": [
        "data.shape"
      ],
      "execution_count": null,
      "outputs": []
    },
    {
      "cell_type": "markdown",
      "metadata": {
        "id": "yzhcpx30dK30"
      },
      "source": [
        "#First without any feature scaling or Validation \n"
      ]
    },
    {
      "cell_type": "markdown",
      "metadata": {
        "id": "JYHsaUildYCj"
      },
      "source": [
        "## Split data to traing and testing"
      ]
    },
    {
      "cell_type": "code",
      "metadata": {
        "id": "pNQciwDfc53v"
      },
      "source": [
        "from sklearn.model_selection import train_test_split\n",
        "\n",
        "X = data.iloc[:, 3:].values\n",
        "y = data.iloc[:,2].values\n",
        "\n",
        "X_train, X_test, y_train, y_test = train_test_split(X, y, test_size=0.2,random_state=9)"
      ],
      "execution_count": null,
      "outputs": []
    },
    {
      "cell_type": "code",
      "metadata": {
        "id": "7sTArm67eO2i"
      },
      "source": [
        "from sklearn.ensemble import RandomForestRegressor\n",
        "\n",
        "#regressor = RandomForestRegressor(n_estimators=8000,random_state= 42)\n",
        "regressor = RandomForestRegressor(n_estimators=1000,random_state= 42)\n",
        "\n",
        "regressor.fit(X_train, y_train)\n",
        "y_pred = regressor.predict(X_test)\n"
      ],
      "execution_count": null,
      "outputs": []
    },
    {
      "cell_type": "code",
      "metadata": {
        "id": "8TD5jQ9jfTbY"
      },
      "source": [
        "rrmse = np.sqrt(metrics.mean_squared_error(y_test, y_pred)) / np.mean(y_test)\n",
        "print('Relative root mean squared error percentage:', rrmse*100)\n"
      ],
      "execution_count": null,
      "outputs": []
    },
    {
      "cell_type": "code",
      "metadata": {
        "id": "zTKUa7SohD-K"
      },
      "source": [
        "from sklearn.ensemble import ExtraTreesRegressor\n",
        "\n",
        "regressor2 = ExtraTreesRegressor(n_estimators=8000, random_state=42)\n",
        "regressor2.fit(X_train, y_train)\n",
        "y_pred2 = regressor2.predict(X_test)"
      ],
      "execution_count": null,
      "outputs": []
    },
    {
      "cell_type": "code",
      "metadata": {
        "id": "jHG0neJ-iBvp"
      },
      "source": [
        "rrmse2 = np.sqrt(metrics.mean_squared_error(y_test, y_pred2)) / np.mean(y_test)\n",
        "print('Relative root mean squared error percentage:', rrmse2*100)"
      ],
      "execution_count": null,
      "outputs": []
    }
  ]
}