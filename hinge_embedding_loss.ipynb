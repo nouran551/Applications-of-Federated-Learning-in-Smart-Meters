{
 "cells": [
  {
   "cell_type": "markdown",
   "metadata": {
    "id": "ZTTp_EROUIZ7"
   },
   "source": [
    "https://gist.github.com/saranshmanu/3e2807409a2838a3e221186ef5528bc7#file-federated_learning-ipynb\n",
    "\n",
    "Loss function : **hinge_embedding_loss** <br>\n",
    "Layers : 5 reduce regularly\n"
   ]
  },
  {
   "cell_type": "code",
   "execution_count": 1,
   "metadata": {
    "colab": {
     "base_uri": "https://localhost:8080/"
    },
    "id": "vRyWplTD7uGF",
    "outputId": "0d43aa10-6b98-45f4-ed19-dfe06d42823f"
   },
   "outputs": [
    {
     "name": "stdout",
     "output_type": "stream",
     "text": [
      "NVIDIA-SMI has failed because it couldn't communicate with the NVIDIA driver. Make sure that the latest NVIDIA driver is installed and running.\r\n",
      "\r\n"
     ]
    }
   ],
   "source": [
    "!nvidia-smi"
   ]
  },
  {
   "cell_type": "code",
   "execution_count": 2,
   "metadata": {
    "colab": {
     "base_uri": "https://localhost:8080/",
     "height": 1000
    },
    "id": "WXixwOI-6d-v",
    "outputId": "c60c344e-7a2f-4950-f017-4205e8a0cd0e"
   },
   "outputs": [
    {
     "name": "stdout",
     "output_type": "stream",
     "text": [
      "Requirement already satisfied: syft==0.2.8 in ./.conda/envs/nouran/lib/python3.8/site-packages (0.2.8)\n",
      "Requirement already satisfied: notebook==5.7.8 in ./.conda/envs/nouran/lib/python3.8/site-packages (from syft==0.2.8) (5.7.8)\n",
      "Requirement already satisfied: torch~=1.4.0 in ./.conda/envs/nouran/lib/python3.8/site-packages (from syft==0.2.8) (1.4.0)\n",
      "Requirement already satisfied: lz4~=3.0.2 in ./.conda/envs/nouran/lib/python3.8/site-packages (from syft==0.2.8) (3.0.2)\n",
      "Requirement already satisfied: Pillow~=6.2.2 in ./.conda/envs/nouran/lib/python3.8/site-packages (from syft==0.2.8) (6.2.2)\n",
      "Requirement already satisfied: RestrictedPython~=5.0 in ./.conda/envs/nouran/lib/python3.8/site-packages (from syft==0.2.8) (5.1)\n",
      "Requirement already satisfied: importlib-resources~=1.5.0 in ./.conda/envs/nouran/lib/python3.8/site-packages (from syft==0.2.8) (1.5.0)\n",
      "Requirement already satisfied: msgpack~=1.0.0 in ./.conda/envs/nouran/lib/python3.8/site-packages (from syft==0.2.8) (1.0.2)\n",
      "Requirement already satisfied: psutil==5.7.0 in ./.conda/envs/nouran/lib/python3.8/site-packages (from syft==0.2.8) (5.7.0)\n",
      "Requirement already satisfied: dill~=0.3.1 in ./.conda/envs/nouran/lib/python3.8/site-packages (from syft==0.2.8) (0.3.3)\n",
      "Requirement already satisfied: Flask~=1.1.1 in ./.conda/envs/nouran/lib/python3.8/site-packages (from syft==0.2.8) (1.1.2)\n",
      "Requirement already satisfied: syft-proto~=0.5.0 in ./.conda/envs/nouran/lib/python3.8/site-packages (from syft==0.2.8) (0.5.3)\n",
      "Requirement already satisfied: torchvision~=0.5.0 in ./.conda/envs/nouran/lib/python3.8/site-packages (from syft==0.2.8) (0.5.0)\n",
      "Requirement already satisfied: requests~=2.22.0 in ./.conda/envs/nouran/lib/python3.8/site-packages (from syft==0.2.8) (2.22.0)\n",
      "Requirement already satisfied: openmined.threepio==0.2.0 in ./.conda/envs/nouran/lib/python3.8/site-packages (from syft==0.2.8) (0.2.0)\n",
      "Requirement already satisfied: phe~=1.4.0 in ./.conda/envs/nouran/lib/python3.8/site-packages (from syft==0.2.8) (1.4.0)\n",
      "Requirement already satisfied: aiortc==0.9.28 in ./.conda/envs/nouran/lib/python3.8/site-packages (from syft==0.2.8) (0.9.28)\n",
      "Requirement already satisfied: websocket-client~=0.57.0 in ./.conda/envs/nouran/lib/python3.8/site-packages (from syft==0.2.8) (0.57.0)\n",
      "Requirement already satisfied: scipy~=1.4.1 in ./.conda/envs/nouran/lib/python3.8/site-packages (from syft==0.2.8) (1.4.1)\n",
      "Requirement already satisfied: requests-toolbelt==0.9.1 in ./.conda/envs/nouran/lib/python3.8/site-packages (from syft==0.2.8) (0.9.1)\n",
      "Requirement already satisfied: tblib~=1.6.0 in ./.conda/envs/nouran/lib/python3.8/site-packages (from syft==0.2.8) (1.6.0)\n",
      "Requirement already satisfied: flask-socketio~=4.2.1 in ./.conda/envs/nouran/lib/python3.8/site-packages (from syft==0.2.8) (4.2.1)\n",
      "Requirement already satisfied: websockets~=8.1.0 in ./.conda/envs/nouran/lib/python3.8/site-packages (from syft==0.2.8) (8.1)\n",
      "Requirement already satisfied: tornado==4.5.3 in ./.conda/envs/nouran/lib/python3.8/site-packages (from syft==0.2.8) (4.5.3)\n",
      "Requirement already satisfied: numpy~=1.18.1 in ./.conda/envs/nouran/lib/python3.8/site-packages (from syft==0.2.8) (1.18.5)\n",
      "Requirement already satisfied: pyee>=6.0.0 in ./.conda/envs/nouran/lib/python3.8/site-packages (from aiortc==0.9.28->syft==0.2.8) (8.1.0)\n",
      "Requirement already satisfied: av<9.0.0,>=8.0.0 in ./.conda/envs/nouran/lib/python3.8/site-packages (from aiortc==0.9.28->syft==0.2.8) (8.0.3)\n",
      "Requirement already satisfied: pylibsrtp>=0.5.6 in ./.conda/envs/nouran/lib/python3.8/site-packages (from aiortc==0.9.28->syft==0.2.8) (0.6.7)\n",
      "Requirement already satisfied: aioice<0.7.0,>=0.6.17 in ./.conda/envs/nouran/lib/python3.8/site-packages (from aiortc==0.9.28->syft==0.2.8) (0.6.18)\n",
      "Requirement already satisfied: cffi>=1.0.0 in ./.conda/envs/nouran/lib/python3.8/site-packages (from aiortc==0.9.28->syft==0.2.8) (1.14.4)\n",
      "Requirement already satisfied: crc32c in ./.conda/envs/nouran/lib/python3.8/site-packages (from aiortc==0.9.28->syft==0.2.8) (2.2)\n",
      "Requirement already satisfied: cryptography>=2.2 in ./.conda/envs/nouran/lib/python3.8/site-packages (from aiortc==0.9.28->syft==0.2.8) (3.3.1)\n",
      "Requirement already satisfied: prometheus-client in ./.conda/envs/nouran/lib/python3.8/site-packages (from notebook==5.7.8->syft==0.2.8) (0.9.0)\n",
      "Requirement already satisfied: terminado>=0.8.1 in ./.conda/envs/nouran/lib/python3.8/site-packages (from notebook==5.7.8->syft==0.2.8) (0.9.2)\n",
      "Requirement already satisfied: nbconvert in ./.conda/envs/nouran/lib/python3.8/site-packages (from notebook==5.7.8->syft==0.2.8) (6.0.7)\n",
      "Requirement already satisfied: traitlets>=4.2.1 in ./.conda/envs/nouran/lib/python3.8/site-packages (from notebook==5.7.8->syft==0.2.8) (5.0.5)\n",
      "Requirement already satisfied: nbformat in ./.conda/envs/nouran/lib/python3.8/site-packages (from notebook==5.7.8->syft==0.2.8) (5.1.2)\n",
      "Requirement already satisfied: ipython-genutils in ./.conda/envs/nouran/lib/python3.8/site-packages (from notebook==5.7.8->syft==0.2.8) (0.2.0)\n",
      "Requirement already satisfied: jupyter-core>=4.4.0 in ./.conda/envs/nouran/lib/python3.8/site-packages (from notebook==5.7.8->syft==0.2.8) (4.7.1)\n",
      "Requirement already satisfied: pyzmq>=17 in ./.conda/envs/nouran/lib/python3.8/site-packages (from notebook==5.7.8->syft==0.2.8) (22.0.2)\n",
      "Requirement already satisfied: jinja2 in ./.conda/envs/nouran/lib/python3.8/site-packages (from notebook==5.7.8->syft==0.2.8) (2.11.3)\n",
      "Requirement already satisfied: Send2Trash in ./.conda/envs/nouran/lib/python3.8/site-packages (from notebook==5.7.8->syft==0.2.8) (1.5.0)\n",
      "Requirement already satisfied: ipykernel in ./.conda/envs/nouran/lib/python3.8/site-packages (from notebook==5.7.8->syft==0.2.8) (5.4.3)\n",
      "Requirement already satisfied: jupyter-client>=5.2.0 in ./.conda/envs/nouran/lib/python3.8/site-packages (from notebook==5.7.8->syft==0.2.8) (6.1.11)\n",
      "Requirement already satisfied: netifaces in ./.conda/envs/nouran/lib/python3.8/site-packages (from aioice<0.7.0,>=0.6.17->aiortc==0.9.28->syft==0.2.8) (0.10.9)\n",
      "Requirement already satisfied: pycparser in ./.conda/envs/nouran/lib/python3.8/site-packages (from cffi>=1.0.0->aiortc==0.9.28->syft==0.2.8) (2.20)\n",
      "Requirement already satisfied: six>=1.4.1 in ./.conda/envs/nouran/lib/python3.8/site-packages (from cryptography>=2.2->aiortc==0.9.28->syft==0.2.8) (1.15.0)\n",
      "Requirement already satisfied: itsdangerous>=0.24 in ./.conda/envs/nouran/lib/python3.8/site-packages (from Flask~=1.1.1->syft==0.2.8) (1.1.0)\n",
      "Requirement already satisfied: Werkzeug>=0.15 in ./.conda/envs/nouran/lib/python3.8/site-packages (from Flask~=1.1.1->syft==0.2.8) (1.0.1)\n",
      "Requirement already satisfied: click>=5.1 in ./.conda/envs/nouran/lib/python3.8/site-packages (from Flask~=1.1.1->syft==0.2.8) (7.1.2)\n",
      "Requirement already satisfied: python-socketio>=4.3.0 in ./.conda/envs/nouran/lib/python3.8/site-packages (from flask-socketio~=4.2.1->syft==0.2.8) (5.0.4)\n",
      "Requirement already satisfied: MarkupSafe>=0.23 in ./.conda/envs/nouran/lib/python3.8/site-packages (from jinja2->notebook==5.7.8->syft==0.2.8) (1.1.1)\n",
      "Requirement already satisfied: python-dateutil>=2.1 in ./.conda/envs/nouran/lib/python3.8/site-packages (from jupyter-client>=5.2.0->notebook==5.7.8->syft==0.2.8) (2.8.1)\n",
      "Requirement already satisfied: bidict>=0.21.0 in ./.conda/envs/nouran/lib/python3.8/site-packages (from python-socketio>=4.3.0->flask-socketio~=4.2.1->syft==0.2.8) (0.21.2)\n",
      "Requirement already satisfied: python-engineio>=4 in ./.conda/envs/nouran/lib/python3.8/site-packages (from python-socketio>=4.3.0->flask-socketio~=4.2.1->syft==0.2.8) (4.0.0)\n",
      "Requirement already satisfied: certifi>=2017.4.17 in ./.conda/envs/nouran/lib/python3.8/site-packages (from requests~=2.22.0->syft==0.2.8) (2020.12.5)\n",
      "Requirement already satisfied: urllib3!=1.25.0,!=1.25.1,<1.26,>=1.21.1 in ./.conda/envs/nouran/lib/python3.8/site-packages (from requests~=2.22.0->syft==0.2.8) (1.25.11)\n",
      "Requirement already satisfied: idna<2.9,>=2.5 in ./.conda/envs/nouran/lib/python3.8/site-packages (from requests~=2.22.0->syft==0.2.8) (2.8)\n",
      "Requirement already satisfied: chardet<3.1.0,>=3.0.2 in ./.conda/envs/nouran/lib/python3.8/site-packages (from requests~=2.22.0->syft==0.2.8) (3.0.4)\n",
      "Requirement already satisfied: protobuf>=3.12.2 in ./.conda/envs/nouran/lib/python3.8/site-packages (from syft-proto~=0.5.0->syft==0.2.8) (3.14.0)\n",
      "Requirement already satisfied: ptyprocess in ./.conda/envs/nouran/lib/python3.8/site-packages (from terminado>=0.8.1->notebook==5.7.8->syft==0.2.8) (0.7.0)\n",
      "Requirement already satisfied: ipython>=5.0.0 in ./.conda/envs/nouran/lib/python3.8/site-packages (from ipykernel->notebook==5.7.8->syft==0.2.8) (7.20.0)\n",
      "Requirement already satisfied: pexpect>4.3 in ./.conda/envs/nouran/lib/python3.8/site-packages (from ipython>=5.0.0->ipykernel->notebook==5.7.8->syft==0.2.8) (4.8.0)\n",
      "Requirement already satisfied: prompt-toolkit!=3.0.0,!=3.0.1,<3.1.0,>=2.0.0 in ./.conda/envs/nouran/lib/python3.8/site-packages (from ipython>=5.0.0->ipykernel->notebook==5.7.8->syft==0.2.8) (3.0.14)\n",
      "Requirement already satisfied: decorator in ./.conda/envs/nouran/lib/python3.8/site-packages (from ipython>=5.0.0->ipykernel->notebook==5.7.8->syft==0.2.8) (4.4.2)\n",
      "Requirement already satisfied: pygments in ./.conda/envs/nouran/lib/python3.8/site-packages (from ipython>=5.0.0->ipykernel->notebook==5.7.8->syft==0.2.8) (2.7.4)\n",
      "Requirement already satisfied: setuptools>=18.5 in ./.conda/envs/nouran/lib/python3.8/site-packages (from ipython>=5.0.0->ipykernel->notebook==5.7.8->syft==0.2.8) (52.0.0.post20210125)\n",
      "Requirement already satisfied: jedi>=0.16 in ./.conda/envs/nouran/lib/python3.8/site-packages (from ipython>=5.0.0->ipykernel->notebook==5.7.8->syft==0.2.8) (0.18.0)\n",
      "Requirement already satisfied: backcall in ./.conda/envs/nouran/lib/python3.8/site-packages (from ipython>=5.0.0->ipykernel->notebook==5.7.8->syft==0.2.8) (0.2.0)\n",
      "Requirement already satisfied: pickleshare in ./.conda/envs/nouran/lib/python3.8/site-packages (from ipython>=5.0.0->ipykernel->notebook==5.7.8->syft==0.2.8) (0.7.5)\n",
      "Requirement already satisfied: parso<0.9.0,>=0.8.0 in ./.conda/envs/nouran/lib/python3.8/site-packages (from jedi>=0.16->ipython>=5.0.0->ipykernel->notebook==5.7.8->syft==0.2.8) (0.8.1)\n",
      "Requirement already satisfied: wcwidth in ./.conda/envs/nouran/lib/python3.8/site-packages (from prompt-toolkit!=3.0.0,!=3.0.1,<3.1.0,>=2.0.0->ipython>=5.0.0->ipykernel->notebook==5.7.8->syft==0.2.8) (0.2.5)\n",
      "Requirement already satisfied: jupyterlab-pygments in ./.conda/envs/nouran/lib/python3.8/site-packages (from nbconvert->notebook==5.7.8->syft==0.2.8) (0.1.2)\n",
      "Requirement already satisfied: nbclient<0.6.0,>=0.5.0 in ./.conda/envs/nouran/lib/python3.8/site-packages (from nbconvert->notebook==5.7.8->syft==0.2.8) (0.5.1)\n",
      "Requirement already satisfied: mistune<2,>=0.8.1 in ./.conda/envs/nouran/lib/python3.8/site-packages (from nbconvert->notebook==5.7.8->syft==0.2.8) (0.8.4)\n",
      "Requirement already satisfied: bleach in ./.conda/envs/nouran/lib/python3.8/site-packages (from nbconvert->notebook==5.7.8->syft==0.2.8) (3.3.0)\n",
      "Requirement already satisfied: pandocfilters>=1.4.1 in ./.conda/envs/nouran/lib/python3.8/site-packages (from nbconvert->notebook==5.7.8->syft==0.2.8) (1.4.3)\n",
      "Requirement already satisfied: defusedxml in ./.conda/envs/nouran/lib/python3.8/site-packages (from nbconvert->notebook==5.7.8->syft==0.2.8) (0.6.0)\n",
      "Requirement already satisfied: entrypoints>=0.2.2 in ./.conda/envs/nouran/lib/python3.8/site-packages (from nbconvert->notebook==5.7.8->syft==0.2.8) (0.3)\n",
      "Requirement already satisfied: testpath in ./.conda/envs/nouran/lib/python3.8/site-packages (from nbconvert->notebook==5.7.8->syft==0.2.8) (0.4.4)\n",
      "Requirement already satisfied: async-generator in ./.conda/envs/nouran/lib/python3.8/site-packages (from nbclient<0.6.0,>=0.5.0->nbconvert->notebook==5.7.8->syft==0.2.8) (1.10)\n",
      "Requirement already satisfied: nest-asyncio in ./.conda/envs/nouran/lib/python3.8/site-packages (from nbclient<0.6.0,>=0.5.0->nbconvert->notebook==5.7.8->syft==0.2.8) (1.5.1)\n",
      "Requirement already satisfied: jsonschema!=2.5.0,>=2.4 in ./.conda/envs/nouran/lib/python3.8/site-packages (from nbformat->notebook==5.7.8->syft==0.2.8) (3.2.0)\n",
      "Requirement already satisfied: pyrsistent>=0.14.0 in ./.conda/envs/nouran/lib/python3.8/site-packages (from jsonschema!=2.5.0,>=2.4->nbformat->notebook==5.7.8->syft==0.2.8) (0.17.3)\n",
      "Requirement already satisfied: attrs>=17.4.0 in ./.conda/envs/nouran/lib/python3.8/site-packages (from jsonschema!=2.5.0,>=2.4->nbformat->notebook==5.7.8->syft==0.2.8) (20.3.0)\n",
      "Requirement already satisfied: packaging in ./.conda/envs/nouran/lib/python3.8/site-packages (from bleach->nbconvert->notebook==5.7.8->syft==0.2.8) (20.9)\n",
      "Requirement already satisfied: webencodings in ./.conda/envs/nouran/lib/python3.8/site-packages (from bleach->nbconvert->notebook==5.7.8->syft==0.2.8) (0.5.1)\n",
      "Requirement already satisfied: pyparsing>=2.0.2 in ./.conda/envs/nouran/lib/python3.8/site-packages (from packaging->bleach->nbconvert->notebook==5.7.8->syft==0.2.8) (2.4.7)\n"
     ]
    }
   ],
   "source": [
    "!pip install syft==0.2.8"
   ]
  },
  {
   "cell_type": "code",
   "execution_count": 3,
   "metadata": {},
   "outputs": [
    {
     "name": "stdout",
     "output_type": "stream",
     "text": [
      "Requirement already satisfied: torch in ./.conda/envs/nouran/lib/python3.8/site-packages (1.4.0)\r\n"
     ]
    }
   ],
   "source": [
    "!pip install torch"
   ]
  },
  {
   "cell_type": "code",
   "execution_count": 4,
   "metadata": {
    "id": "AfbnyI-J6izW"
   },
   "outputs": [],
   "source": [
    "import syft as sy \n",
    "\n",
    "import numpy as np\n",
    "import pandas as pd\n",
    "\n",
    "# import matplotlib.pyplot as plt\n",
    "# import matplotlib.image as mpimg\n",
    "# import seaborn as sns\n",
    "# %matplotlib inline\n",
    "\n",
    "import torch\n",
    "import torch.nn as nn\n",
    "import torch.nn.functional as F\n",
    "import torch.optim as optim\n",
    "from torch.utils.data import TensorDataset, DataLoader\n",
    "from syft.frameworks.torch.fl import utils\n",
    "\n",
    "import random\n",
    "import time\n",
    "import json\n",
    "import copy\n",
    "import os\n",
    "import glob"
   ]
  },
  {
   "cell_type": "code",
   "execution_count": 5,
   "metadata": {
    "id": "BZmA1qA36pB2"
   },
   "outputs": [],
   "source": [
    "hook = sy.TorchHook(torch)\n",
    "smart_meter1 = sy.VirtualWorker(hook, id=\"sm1\")\n",
    "smart_meter2 = sy.VirtualWorker(hook, id=\"sm2\")\n",
    "compute_nodes = [smart_meter1, smart_meter2]"
   ]
  },
  {
   "cell_type": "code",
   "execution_count": 6,
   "metadata": {
    "colab": {
     "base_uri": "https://localhost:8080/"
    },
    "id": "bQUwxkR27UQ5",
    "outputId": "110866ee-ec18-4856-d02e-290383d62fe9"
   },
   "outputs": [
    {
     "data": {
      "text/plain": [
       "device(type='cpu')"
      ]
     },
     "execution_count": 6,
     "metadata": {},
     "output_type": "execute_result"
    }
   ],
   "source": [
    "class Parser:\n",
    "    def __init__(self):\n",
    "        self.epochs = 100\n",
    "        self.lr = 0.001\n",
    "        self.test_batch_size = 2                                                # number here is [A] and should be equal to [B]\n",
    "        self.batch_size = 2\n",
    "        self.log_interval = 10\n",
    "        self.seed = 1\n",
    "        self.no_cuda = False\n",
    "    \n",
    "args = Parser()\n",
    "use_cuda = not args.no_cuda and torch.cuda.is_available()\n",
    "torch.manual_seed(args.seed)\n",
    "device = torch.device(\"cuda\" if use_cuda else \"cpu\")\n",
    "kwargs = {'num_workers': 1, 'pin_memory': True} if use_cuda else {}\n",
    "device"
   ]
  },
  {
   "cell_type": "code",
   "execution_count": 7,
   "metadata": {
    "id": "skewEcZrarzw"
   },
   "outputs": [],
   "source": [
    "path='/media/smart_meter/new_data'"
   ]
  },
  {
   "cell_type": "code",
   "execution_count": 8,
   "metadata": {
    "id": "vzWfR9ZFau1A"
   },
   "outputs": [],
   "source": [
    "data = pd.read_csv(path + \"/new_data.csv\")"
   ]
  },
  {
   "cell_type": "code",
   "execution_count": 9,
   "metadata": {
    "scrolled": true
   },
   "outputs": [
    {
     "data": {
      "text/html": [
       "<div>\n",
       "<style scoped>\n",
       "    .dataframe tbody tr th:only-of-type {\n",
       "        vertical-align: middle;\n",
       "    }\n",
       "\n",
       "    .dataframe tbody tr th {\n",
       "        vertical-align: top;\n",
       "    }\n",
       "\n",
       "    .dataframe thead th {\n",
       "        text-align: right;\n",
       "    }\n",
       "</style>\n",
       "<table border=\"1\" class=\"dataframe\">\n",
       "  <thead>\n",
       "    <tr style=\"text-align: right;\">\n",
       "      <th></th>\n",
       "      <th>Unnamed: 0</th>\n",
       "      <th>day</th>\n",
       "      <th>LCLid</th>\n",
       "      <th>energy_sum</th>\n",
       "      <th>temperatureMax</th>\n",
       "      <th>windBearing</th>\n",
       "      <th>dewPoint</th>\n",
       "      <th>cloudCover</th>\n",
       "      <th>windSpeed</th>\n",
       "      <th>pressure</th>\n",
       "      <th>...</th>\n",
       "      <th>icon_partly-cloudy-night</th>\n",
       "      <th>icon_wind</th>\n",
       "      <th>stdorToU</th>\n",
       "      <th>Acorn_grouped</th>\n",
       "      <th>file</th>\n",
       "      <th>holiday_ind</th>\n",
       "      <th>last_day_sum</th>\n",
       "      <th>month</th>\n",
       "      <th>season</th>\n",
       "      <th>year</th>\n",
       "    </tr>\n",
       "  </thead>\n",
       "  <tbody>\n",
       "    <tr>\n",
       "      <th>0</th>\n",
       "      <td>1</td>\n",
       "      <td>2012-10-12</td>\n",
       "      <td>MAC000002</td>\n",
       "      <td>7.098</td>\n",
       "      <td>11.53</td>\n",
       "      <td>252</td>\n",
       "      <td>6.15</td>\n",
       "      <td>0.29</td>\n",
       "      <td>2.18</td>\n",
       "      <td>1004.92</td>\n",
       "      <td>...</td>\n",
       "      <td>0</td>\n",
       "      <td>0</td>\n",
       "      <td>0</td>\n",
       "      <td>3</td>\n",
       "      <td>0</td>\n",
       "      <td>0</td>\n",
       "      <td>7.098</td>\n",
       "      <td>10</td>\n",
       "      <td>0</td>\n",
       "      <td>2012</td>\n",
       "    </tr>\n",
       "    <tr>\n",
       "      <th>1</th>\n",
       "      <td>2</td>\n",
       "      <td>2012-10-13</td>\n",
       "      <td>MAC000002</td>\n",
       "      <td>11.087</td>\n",
       "      <td>12.32</td>\n",
       "      <td>300</td>\n",
       "      <td>4.10</td>\n",
       "      <td>0.20</td>\n",
       "      <td>2.36</td>\n",
       "      <td>1002.50</td>\n",
       "      <td>...</td>\n",
       "      <td>0</td>\n",
       "      <td>0</td>\n",
       "      <td>0</td>\n",
       "      <td>3</td>\n",
       "      <td>0</td>\n",
       "      <td>0</td>\n",
       "      <td>7.098</td>\n",
       "      <td>10</td>\n",
       "      <td>0</td>\n",
       "      <td>2012</td>\n",
       "    </tr>\n",
       "    <tr>\n",
       "      <th>2</th>\n",
       "      <td>3</td>\n",
       "      <td>2012-10-13</td>\n",
       "      <td>MAC000002</td>\n",
       "      <td>11.087</td>\n",
       "      <td>12.32</td>\n",
       "      <td>300</td>\n",
       "      <td>4.10</td>\n",
       "      <td>0.20</td>\n",
       "      <td>2.36</td>\n",
       "      <td>1002.50</td>\n",
       "      <td>...</td>\n",
       "      <td>0</td>\n",
       "      <td>0</td>\n",
       "      <td>0</td>\n",
       "      <td>3</td>\n",
       "      <td>0</td>\n",
       "      <td>0</td>\n",
       "      <td>11.087</td>\n",
       "      <td>10</td>\n",
       "      <td>0</td>\n",
       "      <td>2012</td>\n",
       "    </tr>\n",
       "    <tr>\n",
       "      <th>3</th>\n",
       "      <td>4</td>\n",
       "      <td>2012-10-14</td>\n",
       "      <td>MAC000002</td>\n",
       "      <td>13.223</td>\n",
       "      <td>13.03</td>\n",
       "      <td>220</td>\n",
       "      <td>6.39</td>\n",
       "      <td>0.31</td>\n",
       "      <td>2.97</td>\n",
       "      <td>1002.67</td>\n",
       "      <td>...</td>\n",
       "      <td>0</td>\n",
       "      <td>0</td>\n",
       "      <td>0</td>\n",
       "      <td>3</td>\n",
       "      <td>0</td>\n",
       "      <td>0</td>\n",
       "      <td>11.087</td>\n",
       "      <td>10</td>\n",
       "      <td>0</td>\n",
       "      <td>2012</td>\n",
       "    </tr>\n",
       "    <tr>\n",
       "      <th>4</th>\n",
       "      <td>5</td>\n",
       "      <td>2012-10-14</td>\n",
       "      <td>MAC000002</td>\n",
       "      <td>13.223</td>\n",
       "      <td>13.03</td>\n",
       "      <td>220</td>\n",
       "      <td>6.39</td>\n",
       "      <td>0.31</td>\n",
       "      <td>2.97</td>\n",
       "      <td>1002.67</td>\n",
       "      <td>...</td>\n",
       "      <td>0</td>\n",
       "      <td>0</td>\n",
       "      <td>0</td>\n",
       "      <td>3</td>\n",
       "      <td>0</td>\n",
       "      <td>0</td>\n",
       "      <td>13.223</td>\n",
       "      <td>10</td>\n",
       "      <td>0</td>\n",
       "      <td>2012</td>\n",
       "    </tr>\n",
       "  </tbody>\n",
       "</table>\n",
       "<p>5 rows × 36 columns</p>\n",
       "</div>"
      ],
      "text/plain": [
       "   Unnamed: 0         day      LCLid  energy_sum  temperatureMax  windBearing  \\\n",
       "0           1  2012-10-12  MAC000002       7.098           11.53          252   \n",
       "1           2  2012-10-13  MAC000002      11.087           12.32          300   \n",
       "2           3  2012-10-13  MAC000002      11.087           12.32          300   \n",
       "3           4  2012-10-14  MAC000002      13.223           13.03          220   \n",
       "4           5  2012-10-14  MAC000002      13.223           13.03          220   \n",
       "\n",
       "   dewPoint  cloudCover  windSpeed  pressure  ...  icon_partly-cloudy-night  \\\n",
       "0      6.15        0.29       2.18   1004.92  ...                         0   \n",
       "1      4.10        0.20       2.36   1002.50  ...                         0   \n",
       "2      4.10        0.20       2.36   1002.50  ...                         0   \n",
       "3      6.39        0.31       2.97   1002.67  ...                         0   \n",
       "4      6.39        0.31       2.97   1002.67  ...                         0   \n",
       "\n",
       "   icon_wind  stdorToU  Acorn_grouped  file  holiday_ind  last_day_sum  month  \\\n",
       "0          0         0              3     0            0         7.098     10   \n",
       "1          0         0              3     0            0         7.098     10   \n",
       "2          0         0              3     0            0        11.087     10   \n",
       "3          0         0              3     0            0        11.087     10   \n",
       "4          0         0              3     0            0        13.223     10   \n",
       "\n",
       "   season  year  \n",
       "0       0  2012  \n",
       "1       0  2012  \n",
       "2       0  2012  \n",
       "3       0  2012  \n",
       "4       0  2012  \n",
       "\n",
       "[5 rows x 36 columns]"
      ]
     },
     "execution_count": 9,
     "metadata": {},
     "output_type": "execute_result"
    }
   ],
   "source": [
    "data.head()"
   ]
  },
  {
   "cell_type": "code",
   "execution_count": 10,
   "metadata": {},
   "outputs": [],
   "source": [
    "data = data.drop(['Unnamed: 0','day'], axis = 1)\n",
    "# print(data[:])"
   ]
  },
  {
   "cell_type": "code",
   "execution_count": 11,
   "metadata": {
    "colab": {
     "base_uri": "https://localhost:8080/"
    },
    "id": "QLUM0RWr7lqV",
    "outputId": "113ef8d0-66e3-4663-f204-1050d8f80c28"
   },
   "outputs": [
    {
     "data": {
      "text/html": [
       "<div>\n",
       "<style scoped>\n",
       "    .dataframe tbody tr th:only-of-type {\n",
       "        vertical-align: middle;\n",
       "    }\n",
       "\n",
       "    .dataframe tbody tr th {\n",
       "        vertical-align: top;\n",
       "    }\n",
       "\n",
       "    .dataframe thead th {\n",
       "        text-align: right;\n",
       "    }\n",
       "</style>\n",
       "<table border=\"1\" class=\"dataframe\">\n",
       "  <thead>\n",
       "    <tr style=\"text-align: right;\">\n",
       "      <th></th>\n",
       "      <th>LCLid</th>\n",
       "      <th>energy_sum</th>\n",
       "      <th>temperatureMax</th>\n",
       "      <th>windBearing</th>\n",
       "      <th>dewPoint</th>\n",
       "      <th>cloudCover</th>\n",
       "      <th>windSpeed</th>\n",
       "      <th>pressure</th>\n",
       "      <th>apparentTemperatureHigh</th>\n",
       "      <th>precipType</th>\n",
       "      <th>...</th>\n",
       "      <th>icon_partly-cloudy-night</th>\n",
       "      <th>icon_wind</th>\n",
       "      <th>stdorToU</th>\n",
       "      <th>Acorn_grouped</th>\n",
       "      <th>file</th>\n",
       "      <th>holiday_ind</th>\n",
       "      <th>last_day_sum</th>\n",
       "      <th>month</th>\n",
       "      <th>season</th>\n",
       "      <th>year</th>\n",
       "    </tr>\n",
       "  </thead>\n",
       "  <tbody>\n",
       "    <tr>\n",
       "      <th>0</th>\n",
       "      <td>MAC000002</td>\n",
       "      <td>7.098</td>\n",
       "      <td>11.53</td>\n",
       "      <td>252</td>\n",
       "      <td>6.15</td>\n",
       "      <td>0.29</td>\n",
       "      <td>2.18</td>\n",
       "      <td>1004.92</td>\n",
       "      <td>11.53</td>\n",
       "      <td>1</td>\n",
       "      <td>...</td>\n",
       "      <td>0</td>\n",
       "      <td>0</td>\n",
       "      <td>0</td>\n",
       "      <td>3</td>\n",
       "      <td>0</td>\n",
       "      <td>0</td>\n",
       "      <td>7.098</td>\n",
       "      <td>10</td>\n",
       "      <td>0</td>\n",
       "      <td>2012</td>\n",
       "    </tr>\n",
       "    <tr>\n",
       "      <th>1</th>\n",
       "      <td>MAC000002</td>\n",
       "      <td>11.087</td>\n",
       "      <td>12.32</td>\n",
       "      <td>300</td>\n",
       "      <td>4.10</td>\n",
       "      <td>0.20</td>\n",
       "      <td>2.36</td>\n",
       "      <td>1002.50</td>\n",
       "      <td>12.32</td>\n",
       "      <td>1</td>\n",
       "      <td>...</td>\n",
       "      <td>0</td>\n",
       "      <td>0</td>\n",
       "      <td>0</td>\n",
       "      <td>3</td>\n",
       "      <td>0</td>\n",
       "      <td>0</td>\n",
       "      <td>7.098</td>\n",
       "      <td>10</td>\n",
       "      <td>0</td>\n",
       "      <td>2012</td>\n",
       "    </tr>\n",
       "    <tr>\n",
       "      <th>2</th>\n",
       "      <td>MAC000002</td>\n",
       "      <td>11.087</td>\n",
       "      <td>12.32</td>\n",
       "      <td>300</td>\n",
       "      <td>4.10</td>\n",
       "      <td>0.20</td>\n",
       "      <td>2.36</td>\n",
       "      <td>1002.50</td>\n",
       "      <td>12.32</td>\n",
       "      <td>1</td>\n",
       "      <td>...</td>\n",
       "      <td>0</td>\n",
       "      <td>0</td>\n",
       "      <td>0</td>\n",
       "      <td>3</td>\n",
       "      <td>0</td>\n",
       "      <td>0</td>\n",
       "      <td>11.087</td>\n",
       "      <td>10</td>\n",
       "      <td>0</td>\n",
       "      <td>2012</td>\n",
       "    </tr>\n",
       "    <tr>\n",
       "      <th>3</th>\n",
       "      <td>MAC000002</td>\n",
       "      <td>13.223</td>\n",
       "      <td>13.03</td>\n",
       "      <td>220</td>\n",
       "      <td>6.39</td>\n",
       "      <td>0.31</td>\n",
       "      <td>2.97</td>\n",
       "      <td>1002.67</td>\n",
       "      <td>13.03</td>\n",
       "      <td>1</td>\n",
       "      <td>...</td>\n",
       "      <td>0</td>\n",
       "      <td>0</td>\n",
       "      <td>0</td>\n",
       "      <td>3</td>\n",
       "      <td>0</td>\n",
       "      <td>0</td>\n",
       "      <td>11.087</td>\n",
       "      <td>10</td>\n",
       "      <td>0</td>\n",
       "      <td>2012</td>\n",
       "    </tr>\n",
       "    <tr>\n",
       "      <th>4</th>\n",
       "      <td>MAC000002</td>\n",
       "      <td>13.223</td>\n",
       "      <td>13.03</td>\n",
       "      <td>220</td>\n",
       "      <td>6.39</td>\n",
       "      <td>0.31</td>\n",
       "      <td>2.97</td>\n",
       "      <td>1002.67</td>\n",
       "      <td>13.03</td>\n",
       "      <td>1</td>\n",
       "      <td>...</td>\n",
       "      <td>0</td>\n",
       "      <td>0</td>\n",
       "      <td>0</td>\n",
       "      <td>3</td>\n",
       "      <td>0</td>\n",
       "      <td>0</td>\n",
       "      <td>13.223</td>\n",
       "      <td>10</td>\n",
       "      <td>0</td>\n",
       "      <td>2012</td>\n",
       "    </tr>\n",
       "  </tbody>\n",
       "</table>\n",
       "<p>5 rows × 34 columns</p>\n",
       "</div>"
      ],
      "text/plain": [
       "       LCLid  energy_sum  temperatureMax  windBearing  dewPoint  cloudCover  \\\n",
       "0  MAC000002       7.098           11.53          252      6.15        0.29   \n",
       "1  MAC000002      11.087           12.32          300      4.10        0.20   \n",
       "2  MAC000002      11.087           12.32          300      4.10        0.20   \n",
       "3  MAC000002      13.223           13.03          220      6.39        0.31   \n",
       "4  MAC000002      13.223           13.03          220      6.39        0.31   \n",
       "\n",
       "   windSpeed  pressure  apparentTemperatureHigh  precipType  ...  \\\n",
       "0       2.18   1004.92                    11.53           1  ...   \n",
       "1       2.36   1002.50                    12.32           1  ...   \n",
       "2       2.36   1002.50                    12.32           1  ...   \n",
       "3       2.97   1002.67                    13.03           1  ...   \n",
       "4       2.97   1002.67                    13.03           1  ...   \n",
       "\n",
       "   icon_partly-cloudy-night  icon_wind  stdorToU  Acorn_grouped  file  \\\n",
       "0                         0          0         0              3     0   \n",
       "1                         0          0         0              3     0   \n",
       "2                         0          0         0              3     0   \n",
       "3                         0          0         0              3     0   \n",
       "4                         0          0         0              3     0   \n",
       "\n",
       "   holiday_ind  last_day_sum  month  season  year  \n",
       "0            0         7.098     10       0  2012  \n",
       "1            0         7.098     10       0  2012  \n",
       "2            0        11.087     10       0  2012  \n",
       "3            0        11.087     10       0  2012  \n",
       "4            0        13.223     10       0  2012  \n",
       "\n",
       "[5 rows x 34 columns]"
      ]
     },
     "execution_count": 11,
     "metadata": {},
     "output_type": "execute_result"
    }
   ],
   "source": [
    "data.head()"
   ]
  },
  {
   "cell_type": "code",
   "execution_count": 12,
   "metadata": {
    "id": "AacRNZm377ll"
   },
   "outputs": [],
   "source": [
    "features = data.drop(['LCLid','energy_sum'], axis = 1)\n",
    "features = features.to_numpy()  # inputs <<<<<<<<<<<<<<<<<<<<<<<<<<<<<<<<<<<<<<<\n",
    "target = data[['energy_sum']]\n",
    "target = target.to_numpy()      # output <<<<<<<<<<<<<<<<<<<<<<<<<<<<<<<<<<<<<<<"
   ]
  },
  {
   "cell_type": "code",
   "execution_count": 13,
   "metadata": {
    "colab": {
     "base_uri": "https://localhost:8080/"
    },
    "id": "puQCijg89nFt",
    "outputId": "57889a78-c33f-45ef-9aea-eefbf823a810"
   },
   "outputs": [
    {
     "name": "stdout",
     "output_type": "stream",
     "text": [
      "\t\t\t Feature shapes:\n",
      "Train set: \t\t(2821320, 32)\n",
      " Test set: \t\t(705330, 32)\n",
      "\n"
     ]
    }
   ],
   "source": [
    "split_frac = 0.8\n",
    "split_idx= int (len(features)*split_frac)\n",
    "train_x,test_x = features[:split_idx], features[split_idx:]\n",
    "train_y,test_y = target[:split_idx], target[split_idx:]\n",
    "\n",
    "train_y = train_y.ravel()\n",
    "test_y = test_y.ravel()\n",
    "\n",
    "print(\"\\t\\t\\t Feature shapes:\")\n",
    "print(\"Train set: \\t\\t{}\\n\".format(train_x.shape), \"Test set: \\t\\t{}\\n\".format(test_x.shape))"
   ]
  },
  {
   "cell_type": "code",
   "execution_count": 14,
   "metadata": {
    "id": "NYshlckSJZjA"
   },
   "outputs": [],
   "source": [
    "train = TensorDataset(torch.from_numpy(train_x).float(), torch.from_numpy(train_y).float())\n",
    "test = TensorDataset(torch.from_numpy(test_x).float(), torch.from_numpy(test_y).float())\n",
    "train_loader = DataLoader(train, batch_size=args.batch_size, shuffle=True)\n",
    "test_loader = DataLoader(test, batch_size=args.test_batch_size, shuffle=True)"
   ]
  },
  {
   "cell_type": "code",
   "execution_count": 15,
   "metadata": {
    "id": "l5G5_rsuaTSK"
   },
   "outputs": [],
   "source": [
    "class Net(nn.Module):\n",
    "    def __init__(self):\n",
    "        super(Net, self).__init__()\n",
    "        self.fc1 = nn.Linear(64, 52, bias=True)                                          # this number here is [C] and should be equal to [D]\n",
    "        self.fc2 = nn.Linear(52, 42, bias=True)\n",
    "        self.fc3 = nn.Linear(42, 32, bias=True)\n",
    "        self.fc4 = nn.Linear(32, 16, bias=True)\n",
    "        self.fc5 = nn.Linear(16, 2, bias=True)                                          # this number here is [B] and should be equal to [A]\n",
    "\n",
    "    def forward(self, x):\n",
    "        # print(x.shape)  # (8, 32) --> 1D vector of 8*32 = 256\n",
    "        x = x.view(-1, 64)                                                     # this number here is [D] and should be equal to [C]\n",
    "        x = F.leaky_relu(self.fc1(x))\n",
    "        x = F.relu_(self.fc2(x))\n",
    "        x = F.relu6(self.fc3(x))\n",
    "        x = F.rrelu(self.fc4(x))\n",
    "        x = torch.tanh(self.fc5(x)) #self.fc6(x)\n",
    "        return x"
   ]
  },
  {
   "cell_type": "markdown",
   "metadata": {
    "id": "aVU5RyDo-nz8"
   },
   "source": [
    "Though data will be available offline for federated learning with the workers but here we are sending the data over to the workers for training with ondevice capability"
   ]
  },
  {
   "cell_type": "code",
   "execution_count": 16,
   "metadata": {
    "id": "g_HyLZlW-LFz"
   },
   "outputs": [],
   "source": [
    "remote_dataset = (list(), list())\n",
    "train_distributed_dataset = []\n",
    "\n",
    "for batch_idx, (data,target) in enumerate(train_loader):\n",
    "    data = data.send(compute_nodes[batch_idx % len(compute_nodes)])\n",
    "    target = target.send(compute_nodes[batch_idx % len(compute_nodes)])\n",
    "    remote_dataset[batch_idx % len(compute_nodes)].append((data, target))"
   ]
  },
  {
   "cell_type": "code",
   "execution_count": 17,
   "metadata": {
    "id": "47LIsxOG-qvT"
   },
   "outputs": [],
   "source": [
    "smart_meter1_model = Net()\n",
    "smart_meter2_model = Net()\n",
    "smart_meter1_optimizer = optim.SGD(smart_meter1_model.parameters(), lr=args.lr)\n",
    "smart_meter2_optimizer = optim.SGD(smart_meter2_model.parameters(), lr=args.lr)"
   ]
  },
  {
   "cell_type": "code",
   "execution_count": 18,
   "metadata": {
    "id": "dm5aqxOq-7n2"
   },
   "outputs": [],
   "source": [
    "models = [smart_meter1_model, smart_meter2_model]\n",
    "optimizers = [smart_meter1_optimizer, smart_meter2_optimizer]"
   ]
  },
  {
   "cell_type": "code",
   "execution_count": 19,
   "metadata": {
    "colab": {
     "base_uri": "https://localhost:8080/"
    },
    "id": "TAdZsqZ1K1va",
    "outputId": "3b5fa34f-a880-4b07-889f-3f8b9eb73da3"
   },
   "outputs": [
    {
     "data": {
      "text/plain": [
       "Net(\n",
       "  (fc1): Linear(in_features=64, out_features=52, bias=True)\n",
       "  (fc2): Linear(in_features=52, out_features=42, bias=True)\n",
       "  (fc3): Linear(in_features=42, out_features=32, bias=True)\n",
       "  (fc4): Linear(in_features=32, out_features=16, bias=True)\n",
       "  (fc5): Linear(in_features=16, out_features=2, bias=True)\n",
       ")"
      ]
     },
     "execution_count": 19,
     "metadata": {},
     "output_type": "execute_result"
    }
   ],
   "source": [
    "model = Net()\n",
    "model"
   ]
  },
  {
   "cell_type": "code",
   "execution_count": 20,
   "metadata": {
    "id": "4FQGFy8h_Gcq"
   },
   "outputs": [],
   "source": [
    "def update(data, target, model, optimizer):\n",
    "    model.send(data.location)\n",
    "    optimizer.zero_grad()\n",
    "    prediction = model(data)\n",
    "    loss = F.mse_loss(prediction.view(-1), target)\n",
    "    # print('prediction', prediction.view(-1).shape)                              # this number here is [E] and should be equal to [F]\n",
    "    # print('target', target.shape)                                               # this number here is [F] and should be equal to [E]\n",
    "    loss.backward()\n",
    "    optimizer.step()\n",
    "    return model\n",
    "\n",
    "def train():\n",
    "    for data_index in range(len(remote_dataset[0])-1):\n",
    "        for remote_index in range(len(compute_nodes)):\n",
    "            data, target = remote_dataset[remote_index][data_index]\n",
    "            models[remote_index] = update(data, target, models[remote_index], optimizers[remote_index])\n",
    "        for model in models:\n",
    "            model.get()\n",
    "        return utils.federated_avg({\n",
    "            \"sm1\": models[0],\n",
    "            \"sm2\": models[1]\n",
    "        })"
   ]
  },
  {
   "cell_type": "code",
   "execution_count": 21,
   "metadata": {
    "id": "yQRb7GlE_MZ1"
   },
   "outputs": [],
   "source": [
    "def test(federated_model):\n",
    "    federated_model.eval()\n",
    "    test_loss = 0\n",
    "    for data, target in test_loader:\n",
    "        output = federated_model(data)\n",
    "        test_loss += F.hinge_embedding_loss(output.view(-1), target, reduction='sum').item()\n",
    "        predection = output.data.max(1, keepdim=True)[1]\n",
    "        \n",
    "    test_loss /= len(test_loader.dataset)\n",
    "    print('Test set: Average loss: {:.4f}'.format(test_loss))"
   ]
  },
  {
   "cell_type": "code",
   "execution_count": null,
   "metadata": {
    "colab": {
     "base_uri": "https://localhost:8080/"
    },
    "id": "VeYAL4qL_PJG",
    "outputId": "fe4f3809-b0ff-460a-81df-31cd939f55f7"
   },
   "outputs": [
    {
     "name": "stdout",
     "output_type": "stream",
     "text": [
      "Epoch Number 1\n",
      "Test set: Average loss: 1.0000\n",
      "Communication time over the network 149.04 s\n",
      "\n",
      "Epoch Number 2\n",
      "Test set: Average loss: 1.0000\n",
      "Communication time over the network 149.36 s\n",
      "\n",
      "Epoch Number 3\n",
      "Test set: Average loss: 1.0000\n",
      "Communication time over the network 149.18 s\n",
      "\n",
      "Epoch Number 4\n",
      "Test set: Average loss: 1.0000\n",
      "Communication time over the network 166.62 s\n",
      "\n",
      "Epoch Number 5\n",
      "Test set: Average loss: 1.0000\n",
      "Communication time over the network 158.46 s\n",
      "\n",
      "Epoch Number 6\n",
      "Test set: Average loss: 1.0000\n",
      "Communication time over the network 167.28 s\n",
      "\n",
      "Epoch Number 7\n",
      "Test set: Average loss: 1.0000\n",
      "Communication time over the network 149.25 s\n",
      "\n",
      "Epoch Number 8\n",
      "Test set: Average loss: 1.0000\n",
      "Communication time over the network 148.57 s\n",
      "\n",
      "Epoch Number 9\n",
      "Test set: Average loss: 1.0000\n",
      "Communication time over the network 148.15 s\n",
      "\n",
      "Epoch Number 10\n",
      "Test set: Average loss: 1.0000\n",
      "Communication time over the network 148.4 s\n",
      "\n",
      "Epoch Number 11\n",
      "Test set: Average loss: 1.0000\n",
      "Communication time over the network 148.48 s\n",
      "\n",
      "Epoch Number 12\n",
      "Test set: Average loss: 1.0000\n",
      "Communication time over the network 149.62 s\n",
      "\n",
      "Epoch Number 13\n",
      "Test set: Average loss: 1.0000\n",
      "Communication time over the network 149.04 s\n",
      "\n",
      "Epoch Number 14\n",
      "Test set: Average loss: 1.0000\n",
      "Communication time over the network 149.32 s\n",
      "\n",
      "Epoch Number 15\n",
      "Test set: Average loss: 1.0000\n",
      "Communication time over the network 156.63 s\n",
      "\n",
      "Epoch Number 16\n",
      "Test set: Average loss: 1.0000\n",
      "Communication time over the network 152.54 s\n",
      "\n",
      "Epoch Number 17\n",
      "Test set: Average loss: 1.0000\n",
      "Communication time over the network 154.85 s\n",
      "\n",
      "Epoch Number 18\n",
      "Test set: Average loss: 1.0000\n",
      "Communication time over the network 151.97 s\n",
      "\n",
      "Epoch Number 19\n",
      "Test set: Average loss: 1.0000\n",
      "Communication time over the network 157.16 s\n",
      "\n",
      "Epoch Number 20\n",
      "Test set: Average loss: 1.0000\n",
      "Communication time over the network 157.26 s\n",
      "\n",
      "Epoch Number 21\n",
      "Test set: Average loss: 1.0000\n",
      "Communication time over the network 158.05 s\n",
      "\n",
      "Epoch Number 22\n",
      "Test set: Average loss: 1.0000\n",
      "Communication time over the network 154.17 s\n",
      "\n",
      "Epoch Number 23\n",
      "Test set: Average loss: 1.0000\n",
      "Communication time over the network 148.49 s\n",
      "\n",
      "Epoch Number 24\n",
      "Test set: Average loss: 1.0000\n",
      "Communication time over the network 147.84 s\n",
      "\n",
      "Epoch Number 25\n",
      "Test set: Average loss: 1.0000\n",
      "Communication time over the network 148.95 s\n",
      "\n",
      "Epoch Number 26\n",
      "Test set: Average loss: 1.0000\n",
      "Communication time over the network 149.74 s\n",
      "\n",
      "Epoch Number 27\n",
      "Test set: Average loss: 1.0000\n",
      "Communication time over the network 149.13 s\n",
      "\n",
      "Epoch Number 28\n",
      "Test set: Average loss: 1.0000\n",
      "Communication time over the network 148.19 s\n",
      "\n",
      "Epoch Number 29\n",
      "Test set: Average loss: 1.0000\n",
      "Communication time over the network 154.81 s\n",
      "\n",
      "Epoch Number 30\n",
      "Test set: Average loss: 1.0000\n",
      "Communication time over the network 149.37 s\n",
      "\n",
      "Epoch Number 31\n",
      "Test set: Average loss: 1.0000\n",
      "Communication time over the network 148.69 s\n",
      "\n",
      "Epoch Number 32\n",
      "Test set: Average loss: 1.0000\n",
      "Communication time over the network 147.85 s\n",
      "\n",
      "Epoch Number 33\n",
      "Test set: Average loss: 1.0000\n",
      "Communication time over the network 149.27 s\n",
      "\n",
      "Epoch Number 34\n"
     ]
    }
   ],
   "source": [
    "for epoch in range(args.epochs):\n",
    "    start_time = time.time()\n",
    "    print(f\"Epoch Number {epoch + 1}\")\n",
    "    federated_model = train()\n",
    "    model = federated_model\n",
    "    test(federated_model)\n",
    "    total_time = time.time() - start_time\n",
    "    print('Communication time over the network', round(total_time, 2), 's\\n')"
   ]
  },
  {
   "cell_type": "code",
   "execution_count": null,
   "metadata": {
    "id": "E7Pc3OahUWMk"
   },
   "outputs": [],
   "source": []
  },
  {
   "cell_type": "code",
   "execution_count": null,
   "metadata": {},
   "outputs": [],
   "source": []
  }
 ],
 "metadata": {
  "accelerator": "GPU",
  "colab": {
   "collapsed_sections": [],
   "name": "Copy of Nour.ipynb",
   "provenance": []
  },
  "kernelspec": {
   "display_name": "Python 3",
   "language": "python",
   "name": "python3"
  },
  "language_info": {
   "codemirror_mode": {
    "name": "ipython",
    "version": 3
   },
   "file_extension": ".py",
   "mimetype": "text/x-python",
   "name": "python",
   "nbconvert_exporter": "python",
   "pygments_lexer": "ipython3",
   "version": "3.8.5"
  }
 },
 "nbformat": 4,
 "nbformat_minor": 1
}
